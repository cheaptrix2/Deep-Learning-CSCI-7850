{
 "cells": [
  {
   "cell_type": "code",
   "execution_count": 1,
   "id": "307893fd-3188-4be7-b44e-e5c353d8a0b2",
   "metadata": {},
   "outputs": [],
   "source": [
    "# Required imports\n",
    "import sys\n",
    "import numpy as np\n",
    "import torch\n",
    "import lightning.pytorch as pl\n",
    "from torchinfo import summary\n",
    "from torchview import draw_graph\n",
    "import matplotlib.pyplot as plt\n",
    "import pandas as pd\n",
    "import torchmetrics\n",
    "\n",
    "def preprocess(x):\n",
    "    return (x - np.mean(x)) / np.std(x)"
   ]
  },
  {
   "cell_type": "code",
   "execution_count": 2,
   "id": "c5bf18be-d3a9-46fc-8cf8-91eba4c68511",
   "metadata": {},
   "outputs": [
    {
     "name": "stdout",
     "output_type": "stream",
     "text": [
      "GPU in use...\n"
     ]
    }
   ],
   "source": [
    "if (torch.cuda.is_available()):\n",
    "    device = (\"cuda\")\n",
    "    print(\"GPU in use...\")\n",
    "else:\n",
    "    device = (\"cpu\")\n",
    "    print(\"Only cpu being used...\")"
   ]
  },
  {
   "cell_type": "code",
   "execution_count": 3,
   "id": "e0feaaa9-8d57-4720-8891-1b26d7d48c35",
   "metadata": {},
   "outputs": [],
   "source": [
    "data = np.loadtxt(\"ecg.csv\", delimiter=',')"
   ]
  },
  {
   "cell_type": "code",
   "execution_count": 4,
   "id": "e2ee7771-ff18-4423-8b6f-c537c3142df0",
   "metadata": {},
   "outputs": [
    {
     "data": {
      "text/plain": [
       "array([[-0.11252183, -2.8272038 , -3.7738969 , ...,  0.92528624,\n",
       "         0.19313742,  1.        ],\n",
       "       [-1.1008778 , -3.9968398 , -4.2858426 , ...,  1.1196209 ,\n",
       "        -1.4362499 ,  1.        ],\n",
       "       [-0.56708802, -2.5934502 , -3.8742297 , ...,  0.90422673,\n",
       "        -0.42179659,  1.        ],\n",
       "       ...,\n",
       "       [-1.1229693 , -2.2529248 , -2.8676281 , ..., -2.0083694 ,\n",
       "        -1.8083338 ,  0.        ],\n",
       "       [-0.54770461, -1.8895451 , -2.8397786 , ...,  1.1504486 ,\n",
       "         0.80493225,  0.        ],\n",
       "       [-1.3517791 , -2.2090058 , -2.5202247 , ..., -1.577823  ,\n",
       "        -0.68453092,  0.        ]])"
      ]
     },
     "execution_count": 4,
     "metadata": {},
     "output_type": "execute_result"
    }
   ],
   "source": [
    "data"
   ]
  },
  {
   "cell_type": "code",
   "execution_count": 5,
   "id": "ba9bc0fd-2460-4535-a2ec-2fb5c0d4356e",
   "metadata": {},
   "outputs": [
    {
     "data": {
      "text/plain": [
       "(4998, 141)"
      ]
     },
     "execution_count": 5,
     "metadata": {},
     "output_type": "execute_result"
    }
   ],
   "source": [
    "data.shape"
   ]
  },
  {
   "cell_type": "code",
   "execution_count": 6,
   "id": "85dcd031-fe25-43be-8d23-175fde4e9879",
   "metadata": {},
   "outputs": [],
   "source": [
    "# data = np.int_(data)"
   ]
  },
  {
   "cell_type": "code",
   "execution_count": 7,
   "id": "598a2243-01b1-462d-b3c7-6d38bde1d1db",
   "metadata": {},
   "outputs": [
    {
     "data": {
      "text/plain": [
       "numpy.float64"
      ]
     },
     "execution_count": 7,
     "metadata": {},
     "output_type": "execute_result"
    }
   ],
   "source": [
    "type(data[0][-1])"
   ]
  },
  {
   "cell_type": "code",
   "execution_count": 8,
   "id": "393df1d4-6747-4674-a13f-5dbafe9a8e8e",
   "metadata": {},
   "outputs": [
    {
     "data": {
      "text/plain": [
       "array([[-0.11252183, -2.8272038 , -3.7738969 , ...,  0.92528624,\n",
       "         0.19313742,  1.        ],\n",
       "       [-1.1008778 , -3.9968398 , -4.2858426 , ...,  1.1196209 ,\n",
       "        -1.4362499 ,  1.        ],\n",
       "       [-0.56708802, -2.5934502 , -3.8742297 , ...,  0.90422673,\n",
       "        -0.42179659,  1.        ],\n",
       "       ...,\n",
       "       [-1.1229693 , -2.2529248 , -2.8676281 , ..., -2.0083694 ,\n",
       "        -1.8083338 ,  0.        ],\n",
       "       [-0.54770461, -1.8895451 , -2.8397786 , ...,  1.1504486 ,\n",
       "         0.80493225,  0.        ],\n",
       "       [-1.3517791 , -2.2090058 , -2.5202247 , ..., -1.577823  ,\n",
       "        -0.68453092,  0.        ]])"
      ]
     },
     "execution_count": 8,
     "metadata": {},
     "output_type": "execute_result"
    }
   ],
   "source": [
    "data"
   ]
  },
  {
   "cell_type": "code",
   "execution_count": 9,
   "id": "41cad1ab-cea8-49e1-ab1b-604e2d5d6f8f",
   "metadata": {},
   "outputs": [
    {
     "data": {
      "text/plain": [
       "array([[ 0.13015314, -0.81456844, -0.92422829, ...,  0.41209124,\n",
       "         0.77172417,  0.63616554],\n",
       "       [-0.72754575, -1.62378238, -1.29351275, ...,  0.76190873,\n",
       "         0.87786548, -0.51593741],\n",
       "       [-0.26432105, -0.65284576, -0.99660187, ...,  0.51840757,\n",
       "         0.76022193,  0.2013596 ],\n",
       "       ...,\n",
       "       [-0.74671683, -0.4172529 , -0.27050469, ..., -1.20017695,\n",
       "        -0.83057384, -0.77902953],\n",
       "       [-0.24750005, -0.16584826, -0.25041586, ...,  1.0241232 ,\n",
       "         0.89470289,  1.06875185],\n",
       "       [-0.9452788 , -0.38686749, -0.01991038, ..., -0.86987066,\n",
       "        -0.59541889,  0.01558609]])"
      ]
     },
     "execution_count": 9,
     "metadata": {},
     "output_type": "execute_result"
    }
   ],
   "source": [
    "X = data[:,:-1]\n",
    "X_preprocessed = np.apply_along_axis(preprocess,0,X)\n",
    "X = X_preprocessed\n",
    "X"
   ]
  },
  {
   "cell_type": "code",
   "execution_count": 10,
   "id": "5b54d96a-a441-4b2d-a1c8-4861516e86dc",
   "metadata": {},
   "outputs": [
    {
     "data": {
      "text/plain": [
       "(4998, 140)"
      ]
     },
     "execution_count": 10,
     "metadata": {},
     "output_type": "execute_result"
    }
   ],
   "source": [
    "X.shape"
   ]
  },
  {
   "cell_type": "code",
   "execution_count": 11,
   "id": "f17d6401-6db7-455b-a655-7687b733ac7c",
   "metadata": {},
   "outputs": [
    {
     "data": {
      "text/plain": [
       "array([[1.],\n",
       "       [1.],\n",
       "       [1.],\n",
       "       ...,\n",
       "       [0.],\n",
       "       [0.],\n",
       "       [0.]])"
      ]
     },
     "execution_count": 11,
     "metadata": {},
     "output_type": "execute_result"
    }
   ],
   "source": [
    "Y = data[:,-1:]\n",
    "Y"
   ]
  },
  {
   "cell_type": "code",
   "execution_count": 12,
   "id": "b5b1fc33-8c7b-41ad-9798-08400510313f",
   "metadata": {},
   "outputs": [
    {
     "data": {
      "text/plain": [
       "(4998, 1)"
      ]
     },
     "execution_count": 12,
     "metadata": {},
     "output_type": "execute_result"
    }
   ],
   "source": [
    "Y.shape"
   ]
  },
  {
   "cell_type": "code",
   "execution_count": 13,
   "id": "21710fef-81c7-4c1c-ab4e-50896d678cac",
   "metadata": {},
   "outputs": [
    {
     "data": {
      "text/plain": [
       "array([[ 0.13015314, -0.81456844, -0.92422829, ...,  0.77172417,\n",
       "         0.63616554,  1.        ],\n",
       "       [-0.72754575, -1.62378238, -1.29351275, ...,  0.87786548,\n",
       "        -0.51593741,  1.        ],\n",
       "       [-0.26432105, -0.65284576, -0.99660187, ...,  0.76022193,\n",
       "         0.2013596 ,  1.        ],\n",
       "       ...,\n",
       "       [-0.74671683, -0.4172529 , -0.27050469, ..., -0.83057384,\n",
       "        -0.77902953,  0.        ],\n",
       "       [-0.24750005, -0.16584826, -0.25041586, ...,  0.89470289,\n",
       "         1.06875185,  0.        ],\n",
       "       [-0.9452788 , -0.38686749, -0.01991038, ..., -0.59541889,\n",
       "         0.01558609,  0.        ]])"
      ]
     },
     "execution_count": 13,
     "metadata": {},
     "output_type": "execute_result"
    }
   ],
   "source": [
    "XY = np.concatenate((X, Y), axis=1)\n",
    "XY"
   ]
  },
  {
   "cell_type": "code",
   "execution_count": 14,
   "id": "74f5ce2d-9929-45b8-a36b-61f90768777a",
   "metadata": {},
   "outputs": [
    {
     "data": {
      "text/plain": [
       "(4998, 141)"
      ]
     },
     "execution_count": 14,
     "metadata": {},
     "output_type": "execute_result"
    }
   ],
   "source": [
    "XY.shape"
   ]
  },
  {
   "cell_type": "code",
   "execution_count": 15,
   "id": "1a0c2f6c-6ba5-4817-96a4-11f3e708a0a3",
   "metadata": {},
   "outputs": [],
   "source": [
    "class MaskedTransformerBlock(torch.nn.Module):\n",
    "    def __init__(self,\n",
    "                 latent_size = 64,\n",
    "                 num_heads = 4,\n",
    "                 dropout = 0.1,\n",
    "                 **kwargs):\n",
    "        super().__init__(**kwargs)\n",
    "        self.layer_norm1 = torch.nn.LayerNorm(latent_size)\n",
    "        self.layer_norm2 = torch.nn.LayerNorm(latent_size)\n",
    "        self.dropout = torch.nn.Dropout(dropout)\n",
    "        self.linear = torch.nn.Linear(latent_size,\n",
    "                                      latent_size)\n",
    "        self.mha = torch.nn.MultiheadAttention(latent_size,\n",
    "                                               num_heads,\n",
    "                                               dropout=dropout,\n",
    "                                               batch_first=True)\n",
    "        self.activation = torch.nn.GELU()\n",
    "    def make_causal_mask(self, sz: int):\n",
    "        return torch.triu(torch.full((sz, sz), True), diagonal=1).to(device)\n",
    "\n",
    "    def forward(self, x):\n",
    "        y = x\n",
    "        y = self.layer_norm1(y)\n",
    "        y = self.mha(y,y,y,attn_mask=self.make_causal_mask(y.shape[1]))[0]\n",
    "        x = y = x + y\n",
    "        y = self.layer_norm2(y)\n",
    "        y = self.linear(y)\n",
    "        y = self.activation(y)\n",
    "        return x + y"
   ]
  },
  {
   "cell_type": "code",
   "execution_count": 16,
   "id": "662c1bc3-ae66-4e6f-859d-cc9730972238",
   "metadata": {},
   "outputs": [],
   "source": [
    "class RegressionLightningModule(pl.LightningModule):\n",
    "    def __init__(self,\n",
    "                 # loss_function = torch.nn.CrossEntropyLoss(), ############### get new loss funtction\n",
    "                 **kwargs):\n",
    "        super().__init__(**kwargs)\n",
    "        # self.loss = torch.nn.CrossEntropyLoss()\n",
    "        # self.loss = torch.nn.BCELoss()\n",
    "        self.loss = torch.nn.BCEWithLogitsLoss()\n",
    "        # self.linear = torch.nn.Linear(1, 140)\n",
    "\n",
    "    # No complications with regression...\n",
    "    def predict(self, x):\n",
    "        return self(x)\n",
    "\n",
    "    def configure_optimizers(self):\n",
    "        optimizer = torch.optim.Adam(self.parameters(), lr=0.001)\n",
    "        return optimizer\n",
    "\n",
    "    def training_step(self, train_batch, batch_idx):\n",
    "        x, y_true = train_batch\n",
    "        y_pred = self(x)\n",
    "        # y_pred = torch.nn.linear(32,1)\n",
    "        loss = self.loss(y_pred,y_true)\n",
    "        self.log('train_loss', loss, on_step=False, on_epoch=True)\n",
    "        return loss\n",
    "\n",
    "    def validation_step(self, val_batch, batch_idx):\n",
    "        x, y_true = val_batch\n",
    "        y_pred = self(x)\n",
    "        # y_pred = torch.nn.Linear(140,1)\n",
    "        # y_pred = torch.squeeze(y_true)\n",
    "        # y_true = self.linear(y_true)\n",
    "        # y_true = torch.unsqueeze(y_true, -1)\n",
    "        # y_true = torch.squeeze(y_true)\n",
    "        #\n",
    "        loss = self.loss(y_pred,y_true)\n",
    "        self.log('val_loss', loss, on_step=False, on_epoch=True)\n",
    "        return loss"
   ]
  },
  {
   "cell_type": "code",
   "execution_count": 17,
   "id": "6f0def15-ced3-4a1a-af3b-3493ecdfbb2a",
   "metadata": {},
   "outputs": [],
   "source": [
    "class RegressionNetwork(RegressionLightningModule):\n",
    "    def __init__(self,\n",
    "                 latent_size=128,\n",
    "                 num_heads=4,\n",
    "                 n_blocks=4,\n",
    "                 **kwargs):\n",
    "        super().__init__(**kwargs)\n",
    "\n",
    "        self.embedding = torch.nn.Linear(1,latent_size,bias=False) \n",
    "        self.transformer_blocks = torch.nn.Sequential(*[\n",
    "            MaskedTransformerBlock(latent_size=latent_size,\n",
    "                                   num_heads=num_heads) for _ in range(n_blocks)\n",
    "        ])\n",
    "        # look at parity\n",
    "        # adaptive avg pooling operation\n",
    "        # NEED AVG POOLING\n",
    "        self.AVGpool = torch.nn.AdaptiveAvgPool1d(1)\n",
    "        self.logit = torch.nn.Linear(latent_size,1)\n",
    "        # binary cross entrophy with logits loss function\n",
    "        # NEED LOSS FUNCTION\n",
    "        self.sigmoid = torch.nn.Sigmoid()\n",
    "        \n",
    "    def forward(self, x):\n",
    "        y = torch.unsqueeze(x,-1)\n",
    "        # y = x\n",
    "        y = self.embedding(y.to(device))\n",
    "        y = self.transformer_blocks(y)\n",
    "        # call avg pooling\n",
    "        y = self.AVGpool(y.permute(0,2,1)).permute(0,2,1).squeeze()\n",
    "        # call logit\n",
    "        y = self.logit(y)\n",
    "        return y\n",
    "\n",
    "    def predict(self, x):\n",
    "        y = self.forward(x)\n",
    "        y = self.sigmoid(y)\n",
    "        return y"
   ]
  },
  {
   "cell_type": "code",
   "execution_count": 18,
   "id": "df1c84f0-bde4-4965-a958-4c9fef35de5d",
   "metadata": {},
   "outputs": [],
   "source": [
    "# Define a permutation needed to shuffle both\n",
    "# inputs and target in the same manner...\n",
    "shuffle = np.random.permutation(X.shape[0])\n",
    "X_shuffled = X[shuffle,:]\n",
    "Y_shuffled = Y[shuffle,:]\n",
    "\n",
    "# Keep 70% for training and remaining for validation\n",
    "split_point = int(X_shuffled.shape[0] * 0.7)\n",
    "x_train = X_shuffled[:split_point]\n",
    "y_train = Y_shuffled[:split_point]\n",
    "x_val = X_shuffled[split_point:]\n",
    "y_val = Y_shuffled[split_point:]"
   ]
  },
  {
   "cell_type": "code",
   "execution_count": 19,
   "id": "f62a0de8-e590-453d-8975-b84d42e7e392",
   "metadata": {},
   "outputs": [
    {
     "name": "stderr",
     "output_type": "stream",
     "text": [
      "/opt/conda/lib/python3.11/site-packages/torch/nn/modules/activation.py:1160: UserWarning: Converting mask without torch.bool dtype to bool; this will negatively affect performance. Prefer to use a boolean mask directly. (Triggered internally at ../aten/src/ATen/native/transformers/attention.cpp:150.)\n",
      "  return torch._native_multi_head_attention(\n"
     ]
    },
    {
     "data": {
      "text/plain": [
       "==========================================================================================\n",
       "Layer (type:depth-idx)                   Output Shape              Param #\n",
       "==========================================================================================\n",
       "RegressionNetwork                        [5, 1]                    --\n",
       "├─Linear: 1-1                            [5, 140, 128]             128\n",
       "├─Sequential: 1-2                        [5, 140, 128]             --\n",
       "│    └─MaskedTransformerBlock: 2-1       [5, 140, 128]             --\n",
       "│    │    └─LayerNorm: 3-1               [5, 140, 128]             256\n",
       "│    │    └─MultiheadAttention: 3-2      [5, 140, 128]             66,048\n",
       "│    │    └─LayerNorm: 3-3               [5, 140, 128]             256\n",
       "│    │    └─Linear: 3-4                  [5, 140, 128]             16,512\n",
       "│    │    └─GELU: 3-5                    [5, 140, 128]             --\n",
       "│    └─MaskedTransformerBlock: 2-2       [5, 140, 128]             --\n",
       "│    │    └─LayerNorm: 3-6               [5, 140, 128]             256\n",
       "│    │    └─MultiheadAttention: 3-7      [5, 140, 128]             66,048\n",
       "│    │    └─LayerNorm: 3-8               [5, 140, 128]             256\n",
       "│    │    └─Linear: 3-9                  [5, 140, 128]             16,512\n",
       "│    │    └─GELU: 3-10                   [5, 140, 128]             --\n",
       "│    └─MaskedTransformerBlock: 2-3       [5, 140, 128]             --\n",
       "│    │    └─LayerNorm: 3-11              [5, 140, 128]             256\n",
       "│    │    └─MultiheadAttention: 3-12     [5, 140, 128]             66,048\n",
       "│    │    └─LayerNorm: 3-13              [5, 140, 128]             256\n",
       "│    │    └─Linear: 3-14                 [5, 140, 128]             16,512\n",
       "│    │    └─GELU: 3-15                   [5, 140, 128]             --\n",
       "│    └─MaskedTransformerBlock: 2-4       [5, 140, 128]             --\n",
       "│    │    └─LayerNorm: 3-16              [5, 140, 128]             256\n",
       "│    │    └─MultiheadAttention: 3-17     [5, 140, 128]             66,048\n",
       "│    │    └─LayerNorm: 3-18              [5, 140, 128]             256\n",
       "│    │    └─Linear: 3-19                 [5, 140, 128]             16,512\n",
       "│    │    └─GELU: 3-20                   [5, 140, 128]             --\n",
       "├─AdaptiveAvgPool1d: 1-3                 [5, 128, 1]               --\n",
       "├─Linear: 1-4                            [5, 1]                    129\n",
       "==========================================================================================\n",
       "Total params: 332,545\n",
       "Trainable params: 332,545\n",
       "Non-trainable params: 0\n",
       "Total mult-adds (Units.MEGABYTES): 0.34\n",
       "==========================================================================================\n",
       "Input size (MB): 0.00\n",
       "Forward/backward pass size (MB): 9.32\n",
       "Params size (MB): 0.27\n",
       "Estimated Total Size (MB): 9.59\n",
       "=========================================================================================="
      ]
     },
     "execution_count": 19,
     "metadata": {},
     "output_type": "execute_result"
    }
   ],
   "source": [
    "model = RegressionNetwork()\n",
    "summary(model,input_size=x_train[0:5].shape,device=device)"
   ]
  },
  {
   "cell_type": "code",
   "execution_count": 20,
   "id": "d5fae1d3-5d01-480e-babc-e94a943d14d7",
   "metadata": {},
   "outputs": [
    {
     "data": {
      "image/svg+xml": [
       "<?xml version=\"1.0\" encoding=\"UTF-8\" standalone=\"no\"?>\n",
       "<!DOCTYPE svg PUBLIC \"-//W3C//DTD SVG 1.1//EN\"\n",
       " \"http://www.w3.org/Graphics/SVG/1.1/DTD/svg11.dtd\">\n",
       "<!-- Generated by graphviz version 8.1.0 (20230707.2238)\n",
       " -->\n",
       "<!-- Title: model Pages: 1 -->\n",
       "<svg width=\"348pt\" height=\"2138pt\"\n",
       " viewBox=\"0.00 0.00 348.36 2138.00\" xmlns=\"http://www.w3.org/2000/svg\" xmlns:xlink=\"http://www.w3.org/1999/xlink\">\n",
       "<g id=\"graph0\" class=\"graph\" transform=\"scale(0.713856 0.713856) rotate(0) translate(4 2991)\">\n",
       "<title>model</title>\n",
       "<polygon fill=\"white\" stroke=\"none\" points=\"-4,4 -4,-2991 484,-2991 484,4 -4,4\"/>\n",
       "<!-- 0 -->\n",
       "<g id=\"node1\" class=\"node\">\n",
       "<title>0</title>\n",
       "<polygon fill=\"lightyellow\" stroke=\"none\" points=\"143.88,-2987 27.12,-2987 27.12,-2951.5 143.88,-2951.5 143.88,-2987\"/>\n",
       "<polygon fill=\"none\" stroke=\"black\" points=\"27.12,-2951.5 27.12,-2987 96.38,-2987 96.38,-2951.5 27.12,-2951.5\"/>\n",
       "<text text-anchor=\"start\" x=\"32.12\" y=\"-2972.5\" font-family=\"Linux libertine\" font-size=\"10.00\">input&#45;tensor</text>\n",
       "<text text-anchor=\"start\" x=\"43.38\" y=\"-2959.75\" font-family=\"Linux libertine\" font-size=\"10.00\">depth:0</text>\n",
       "<polygon fill=\"none\" stroke=\"black\" points=\"96.38,-2951.5 96.38,-2987 143.88,-2987 143.88,-2951.5 96.38,-2951.5\"/>\n",
       "<text text-anchor=\"start\" x=\"101.38\" y=\"-2966.12\" font-family=\"Linux libertine\" font-size=\"10.00\">(5, 140)</text>\n",
       "</g>\n",
       "<!-- 1 -->\n",
       "<g id=\"node2\" class=\"node\">\n",
       "<title>1</title>\n",
       "<polygon fill=\"aliceblue\" stroke=\"none\" points=\"171,-2915.5 0,-2915.5 0,-2871.5 171,-2871.5 171,-2915.5\"/>\n",
       "<polygon fill=\"none\" stroke=\"black\" points=\"0,-2871.5 0,-2915.5 62,-2915.5 62,-2871.5 0,-2871.5\"/>\n",
       "<text text-anchor=\"start\" x=\"4.75\" y=\"-2896.75\" font-family=\"Linux libertine\" font-size=\"10.00\">unsqueeze</text>\n",
       "<text text-anchor=\"start\" x=\"12.62\" y=\"-2884\" font-family=\"Linux libertine\" font-size=\"10.00\">depth:1</text>\n",
       "<polygon fill=\"none\" stroke=\"black\" points=\"62,-2893.5 62,-2915.5 109,-2915.5 109,-2893.5 62,-2893.5\"/>\n",
       "<text text-anchor=\"start\" x=\"71.62\" y=\"-2901\" font-family=\"Linux libertine\" font-size=\"10.00\">input:</text>\n",
       "<polygon fill=\"none\" stroke=\"black\" points=\"109,-2893.5 109,-2915.5 171,-2915.5 171,-2893.5 109,-2893.5\"/>\n",
       "<text text-anchor=\"start\" x=\"119.75\" y=\"-2901\" font-family=\"Linux libertine\" font-size=\"10.00\">(5, 140) </text>\n",
       "<polygon fill=\"none\" stroke=\"black\" points=\"62,-2871.5 62,-2893.5 109,-2893.5 109,-2871.5 62,-2871.5\"/>\n",
       "<text text-anchor=\"start\" x=\"66.75\" y=\"-2879\" font-family=\"Linux libertine\" font-size=\"10.00\">output: </text>\n",
       "<polygon fill=\"none\" stroke=\"black\" points=\"109,-2871.5 109,-2893.5 171,-2893.5 171,-2871.5 109,-2871.5\"/>\n",
       "<text text-anchor=\"start\" x=\"113.75\" y=\"-2879\" font-family=\"Linux libertine\" font-size=\"10.00\">(5, 140, 1) </text>\n",
       "</g>\n",
       "<!-- 0&#45;&gt;1 -->\n",
       "<g id=\"edge1\" class=\"edge\">\n",
       "<title>0&#45;&gt;1</title>\n",
       "<path fill=\"none\" stroke=\"black\" d=\"M85.5,-2951.51C85.5,-2944.07 85.5,-2935.04 85.5,-2926.39\"/>\n",
       "<polygon fill=\"black\" stroke=\"black\" points=\"89,-2926.39 85.5,-2916.39 82,-2926.39 89,-2926.39\"/>\n",
       "</g>\n",
       "<!-- 2 -->\n",
       "<g id=\"node3\" class=\"node\">\n",
       "<title>2</title>\n",
       "<polygon fill=\"aliceblue\" stroke=\"none\" points=\"163,-2835.5 8,-2835.5 8,-2791.5 163,-2791.5 163,-2835.5\"/>\n",
       "<polygon fill=\"none\" stroke=\"black\" points=\"8,-2791.5 8,-2835.5 54,-2835.5 54,-2791.5 8,-2791.5\"/>\n",
       "<text text-anchor=\"start\" x=\"26.12\" y=\"-2816.75\" font-family=\"Linux libertine\" font-size=\"10.00\">to</text>\n",
       "<text text-anchor=\"start\" x=\"12.62\" y=\"-2804\" font-family=\"Linux libertine\" font-size=\"10.00\">depth:1</text>\n",
       "<polygon fill=\"none\" stroke=\"black\" points=\"54,-2813.5 54,-2835.5 101,-2835.5 101,-2813.5 54,-2813.5\"/>\n",
       "<text text-anchor=\"start\" x=\"63.62\" y=\"-2821\" font-family=\"Linux libertine\" font-size=\"10.00\">input:</text>\n",
       "<polygon fill=\"none\" stroke=\"black\" points=\"101,-2813.5 101,-2835.5 163,-2835.5 163,-2813.5 101,-2813.5\"/>\n",
       "<text text-anchor=\"start\" x=\"105.75\" y=\"-2821\" font-family=\"Linux libertine\" font-size=\"10.00\">(5, 140, 1) </text>\n",
       "<polygon fill=\"none\" stroke=\"black\" points=\"54,-2791.5 54,-2813.5 101,-2813.5 101,-2791.5 54,-2791.5\"/>\n",
       "<text text-anchor=\"start\" x=\"58.75\" y=\"-2799\" font-family=\"Linux libertine\" font-size=\"10.00\">output: </text>\n",
       "<polygon fill=\"none\" stroke=\"black\" points=\"101,-2791.5 101,-2813.5 163,-2813.5 163,-2791.5 101,-2791.5\"/>\n",
       "<text text-anchor=\"start\" x=\"105.75\" y=\"-2799\" font-family=\"Linux libertine\" font-size=\"10.00\">(5, 140, 1) </text>\n",
       "</g>\n",
       "<!-- 1&#45;&gt;2 -->\n",
       "<g id=\"edge2\" class=\"edge\">\n",
       "<title>1&#45;&gt;2</title>\n",
       "<path fill=\"none\" stroke=\"black\" d=\"M85.5,-2871.6C85.5,-2863.82 85.5,-2854.8 85.5,-2846.26\"/>\n",
       "<polygon fill=\"black\" stroke=\"black\" points=\"89,-2846.46 85.5,-2836.46 82,-2846.46 89,-2846.46\"/>\n",
       "</g>\n",
       "<!-- 3 -->\n",
       "<g id=\"node4\" class=\"node\">\n",
       "<title>3</title>\n",
       "<polygon fill=\"#c1ffc1\" stroke=\"none\" points=\"169,-2755.5 2,-2755.5 2,-2711.5 169,-2711.5 169,-2755.5\"/>\n",
       "<polygon fill=\"none\" stroke=\"black\" points=\"2,-2711.5 2,-2755.5 48,-2755.5 48,-2711.5 2,-2711.5\"/>\n",
       "<text text-anchor=\"start\" x=\"10\" y=\"-2736.75\" font-family=\"Linux libertine\" font-size=\"10.00\">Linear</text>\n",
       "<text text-anchor=\"start\" x=\"6.62\" y=\"-2724\" font-family=\"Linux libertine\" font-size=\"10.00\">depth:1</text>\n",
       "<polygon fill=\"none\" stroke=\"black\" points=\"48,-2733.5 48,-2755.5 95,-2755.5 95,-2733.5 48,-2733.5\"/>\n",
       "<text text-anchor=\"start\" x=\"57.62\" y=\"-2741\" font-family=\"Linux libertine\" font-size=\"10.00\">input:</text>\n",
       "<polygon fill=\"none\" stroke=\"black\" points=\"95,-2733.5 95,-2755.5 169,-2755.5 169,-2733.5 95,-2733.5\"/>\n",
       "<text text-anchor=\"start\" x=\"105.75\" y=\"-2741\" font-family=\"Linux libertine\" font-size=\"10.00\">(5, 140, 1) </text>\n",
       "<polygon fill=\"none\" stroke=\"black\" points=\"48,-2711.5 48,-2733.5 95,-2733.5 95,-2711.5 48,-2711.5\"/>\n",
       "<text text-anchor=\"start\" x=\"52.75\" y=\"-2719\" font-family=\"Linux libertine\" font-size=\"10.00\">output: </text>\n",
       "<polygon fill=\"none\" stroke=\"black\" points=\"95,-2711.5 95,-2733.5 169,-2733.5 169,-2711.5 95,-2711.5\"/>\n",
       "<text text-anchor=\"start\" x=\"99.75\" y=\"-2719\" font-family=\"Linux libertine\" font-size=\"10.00\">(5, 140, 128) </text>\n",
       "</g>\n",
       "<!-- 2&#45;&gt;3 -->\n",
       "<g id=\"edge3\" class=\"edge\">\n",
       "<title>2&#45;&gt;3</title>\n",
       "<path fill=\"none\" stroke=\"black\" d=\"M85.5,-2791.6C85.5,-2783.82 85.5,-2774.8 85.5,-2766.26\"/>\n",
       "<polygon fill=\"black\" stroke=\"black\" points=\"89,-2766.46 85.5,-2756.46 82,-2766.46 89,-2766.46\"/>\n",
       "</g>\n",
       "<!-- 4 -->\n",
       "<g id=\"node5\" class=\"node\">\n",
       "<title>4</title>\n",
       "<polygon fill=\"#c1ffc1\" stroke=\"none\" points=\"238,-2675.5 53,-2675.5 53,-2631.5 238,-2631.5 238,-2675.5\"/>\n",
       "<polygon fill=\"none\" stroke=\"black\" points=\"53,-2631.5 53,-2675.5 117,-2675.5 117,-2631.5 53,-2631.5\"/>\n",
       "<text text-anchor=\"start\" x=\"58\" y=\"-2656.75\" font-family=\"Linux libertine\" font-size=\"10.00\">LayerNorm</text>\n",
       "<text text-anchor=\"start\" x=\"66.62\" y=\"-2644\" font-family=\"Linux libertine\" font-size=\"10.00\">depth:3</text>\n",
       "<polygon fill=\"none\" stroke=\"black\" points=\"117,-2653.5 117,-2675.5 164,-2675.5 164,-2653.5 117,-2653.5\"/>\n",
       "<text text-anchor=\"start\" x=\"126.62\" y=\"-2661\" font-family=\"Linux libertine\" font-size=\"10.00\">input:</text>\n",
       "<polygon fill=\"none\" stroke=\"black\" points=\"164,-2653.5 164,-2675.5 238,-2675.5 238,-2653.5 164,-2653.5\"/>\n",
       "<text text-anchor=\"start\" x=\"168.75\" y=\"-2661\" font-family=\"Linux libertine\" font-size=\"10.00\">(5, 140, 128) </text>\n",
       "<polygon fill=\"none\" stroke=\"black\" points=\"117,-2631.5 117,-2653.5 164,-2653.5 164,-2631.5 117,-2631.5\"/>\n",
       "<text text-anchor=\"start\" x=\"121.75\" y=\"-2639\" font-family=\"Linux libertine\" font-size=\"10.00\">output: </text>\n",
       "<polygon fill=\"none\" stroke=\"black\" points=\"164,-2631.5 164,-2653.5 238,-2653.5 238,-2631.5 164,-2631.5\"/>\n",
       "<text text-anchor=\"start\" x=\"168.75\" y=\"-2639\" font-family=\"Linux libertine\" font-size=\"10.00\">(5, 140, 128) </text>\n",
       "</g>\n",
       "<!-- 3&#45;&gt;4 -->\n",
       "<g id=\"edge4\" class=\"edge\">\n",
       "<title>3&#45;&gt;4</title>\n",
       "<path fill=\"none\" stroke=\"black\" d=\"M101.58,-2711.6C108.1,-2703.12 115.75,-2693.17 122.83,-2683.97\"/>\n",
       "<polygon fill=\"black\" stroke=\"black\" points=\"126.05,-2686.52 129.38,-2676.46 120.51,-2682.25 126.05,-2686.52\"/>\n",
       "</g>\n",
       "<!-- 8 -->\n",
       "<g id=\"node9\" class=\"node\">\n",
       "<title>8</title>\n",
       "<polygon fill=\"aliceblue\" stroke=\"none\" points=\"205,-2515.5 20,-2515.5 20,-2471.5 205,-2471.5 205,-2515.5\"/>\n",
       "<polygon fill=\"none\" stroke=\"black\" points=\"20,-2471.5 20,-2515.5 66,-2515.5 66,-2471.5 20,-2471.5\"/>\n",
       "<text text-anchor=\"start\" x=\"34\" y=\"-2496.75\" font-family=\"Linux libertine\" font-size=\"10.00\">add</text>\n",
       "<text text-anchor=\"start\" x=\"24.62\" y=\"-2484\" font-family=\"Linux libertine\" font-size=\"10.00\">depth:3</text>\n",
       "<polygon fill=\"none\" stroke=\"black\" points=\"66,-2493.5 66,-2515.5 113,-2515.5 113,-2493.5 66,-2493.5\"/>\n",
       "<text text-anchor=\"start\" x=\"75.62\" y=\"-2501\" font-family=\"Linux libertine\" font-size=\"10.00\">input:</text>\n",
       "<polygon fill=\"none\" stroke=\"black\" points=\"113,-2493.5 113,-2515.5 205,-2515.5 205,-2493.5 113,-2493.5\"/>\n",
       "<text text-anchor=\"start\" x=\"117.75\" y=\"-2501\" font-family=\"Linux libertine\" font-size=\"10.00\">2 x (5, 140, 128) </text>\n",
       "<polygon fill=\"none\" stroke=\"black\" points=\"66,-2471.5 66,-2493.5 113,-2493.5 113,-2471.5 66,-2471.5\"/>\n",
       "<text text-anchor=\"start\" x=\"70.75\" y=\"-2479\" font-family=\"Linux libertine\" font-size=\"10.00\">output: </text>\n",
       "<polygon fill=\"none\" stroke=\"black\" points=\"113,-2471.5 113,-2493.5 205,-2493.5 205,-2471.5 113,-2471.5\"/>\n",
       "<text text-anchor=\"start\" x=\"126.75\" y=\"-2479\" font-family=\"Linux libertine\" font-size=\"10.00\">(5, 140, 128) </text>\n",
       "</g>\n",
       "<!-- 3&#45;&gt;8 -->\n",
       "<g id=\"edge5\" class=\"edge\">\n",
       "<title>3&#45;&gt;8</title>\n",
       "<path fill=\"none\" stroke=\"black\" d=\"M65.11,-2711.63C56.68,-2701.57 47.87,-2688.81 43.5,-2675.5 26.29,-2623.14 20.02,-2601.36 43.5,-2551.5 48.83,-2540.19 57.62,-2530.36 67.17,-2522.2\"/>\n",
       "<polygon fill=\"black\" stroke=\"black\" points=\"69.02,-2524.41 74.69,-2515.46 64.68,-2518.92 69.02,-2524.41\"/>\n",
       "</g>\n",
       "<!-- 7 -->\n",
       "<g id=\"node8\" class=\"node\">\n",
       "<title>7</title>\n",
       "<polygon fill=\"#c1ffc1\" stroke=\"none\" points=\"350.5,-2595.5 52.5,-2595.5 52.5,-2551.5 350.5,-2551.5 350.5,-2595.5\"/>\n",
       "<polygon fill=\"none\" stroke=\"black\" points=\"52.5,-2551.5 52.5,-2595.5 155.5,-2595.5 155.5,-2551.5 52.5,-2551.5\"/>\n",
       "<text text-anchor=\"start\" x=\"57.12\" y=\"-2576.75\" font-family=\"Linux libertine\" font-size=\"10.00\">MultiheadAttention</text>\n",
       "<text text-anchor=\"start\" x=\"85.62\" y=\"-2564\" font-family=\"Linux libertine\" font-size=\"10.00\">depth:3</text>\n",
       "<polygon fill=\"none\" stroke=\"black\" points=\"155.5,-2573.5 155.5,-2595.5 202.5,-2595.5 202.5,-2573.5 155.5,-2573.5\"/>\n",
       "<text text-anchor=\"start\" x=\"165.12\" y=\"-2581\" font-family=\"Linux libertine\" font-size=\"10.00\">input:</text>\n",
       "<polygon fill=\"none\" stroke=\"black\" points=\"202.5,-2573.5 202.5,-2595.5 350.5,-2595.5 350.5,-2573.5 202.5,-2573.5\"/>\n",
       "<text text-anchor=\"start\" x=\"207.5\" y=\"-2581\" font-family=\"Linux libertine\" font-size=\"10.00\">3 x (5, 140, 128), (140, 140) </text>\n",
       "<polygon fill=\"none\" stroke=\"black\" points=\"155.5,-2551.5 155.5,-2573.5 202.5,-2573.5 202.5,-2551.5 155.5,-2551.5\"/>\n",
       "<text text-anchor=\"start\" x=\"160.25\" y=\"-2559\" font-family=\"Linux libertine\" font-size=\"10.00\">output: </text>\n",
       "<polygon fill=\"none\" stroke=\"black\" points=\"202.5,-2551.5 202.5,-2573.5 350.5,-2573.5 350.5,-2551.5 202.5,-2551.5\"/>\n",
       "<text text-anchor=\"start\" x=\"210.5\" y=\"-2559\" font-family=\"Linux libertine\" font-size=\"10.00\">(5, 140, 128), (5, 140, 140) </text>\n",
       "</g>\n",
       "<!-- 4&#45;&gt;7 -->\n",
       "<g id=\"edge6\" class=\"edge\">\n",
       "<title>4&#45;&gt;7</title>\n",
       "<path fill=\"none\" stroke=\"black\" d=\"M160.51,-2631.6C166.53,-2623.2 173.59,-2613.37 180.14,-2604.26\"/>\n",
       "<polygon fill=\"black\" stroke=\"black\" points=\"183.46,-2606.62 186.45,-2596.46 177.78,-2602.54 183.46,-2606.62\"/>\n",
       "</g>\n",
       "<!-- 5 -->\n",
       "<g id=\"node6\" class=\"node\">\n",
       "<title>5</title>\n",
       "<polygon fill=\"aliceblue\" stroke=\"none\" points=\"411,-2755.5 256,-2755.5 256,-2711.5 411,-2711.5 411,-2755.5\"/>\n",
       "<polygon fill=\"none\" stroke=\"black\" points=\"256,-2711.5 256,-2755.5 302,-2755.5 302,-2711.5 256,-2711.5\"/>\n",
       "<text text-anchor=\"start\" x=\"270.75\" y=\"-2736.75\" font-family=\"Linux libertine\" font-size=\"10.00\">triu</text>\n",
       "<text text-anchor=\"start\" x=\"260.62\" y=\"-2724\" font-family=\"Linux libertine\" font-size=\"10.00\">depth:3</text>\n",
       "<polygon fill=\"none\" stroke=\"black\" points=\"302,-2733.5 302,-2755.5 349,-2755.5 349,-2733.5 302,-2733.5\"/>\n",
       "<text text-anchor=\"start\" x=\"311.62\" y=\"-2741\" font-family=\"Linux libertine\" font-size=\"10.00\">input:</text>\n",
       "<polygon fill=\"none\" stroke=\"black\" points=\"349,-2733.5 349,-2755.5 411,-2755.5 411,-2733.5 349,-2733.5\"/>\n",
       "<text text-anchor=\"start\" x=\"353.75\" y=\"-2741\" font-family=\"Linux libertine\" font-size=\"10.00\">(140, 140) </text>\n",
       "<polygon fill=\"none\" stroke=\"black\" points=\"302,-2711.5 302,-2733.5 349,-2733.5 349,-2711.5 302,-2711.5\"/>\n",
       "<text text-anchor=\"start\" x=\"306.75\" y=\"-2719\" font-family=\"Linux libertine\" font-size=\"10.00\">output: </text>\n",
       "<polygon fill=\"none\" stroke=\"black\" points=\"349,-2711.5 349,-2733.5 411,-2733.5 411,-2711.5 349,-2711.5\"/>\n",
       "<text text-anchor=\"start\" x=\"353.75\" y=\"-2719\" font-family=\"Linux libertine\" font-size=\"10.00\">(140, 140) </text>\n",
       "</g>\n",
       "<!-- 6 -->\n",
       "<g id=\"node7\" class=\"node\">\n",
       "<title>6</title>\n",
       "<polygon fill=\"aliceblue\" stroke=\"none\" points=\"411,-2675.5 256,-2675.5 256,-2631.5 411,-2631.5 411,-2675.5\"/>\n",
       "<polygon fill=\"none\" stroke=\"black\" points=\"256,-2631.5 256,-2675.5 302,-2675.5 302,-2631.5 256,-2631.5\"/>\n",
       "<text text-anchor=\"start\" x=\"274.12\" y=\"-2656.75\" font-family=\"Linux libertine\" font-size=\"10.00\">to</text>\n",
       "<text text-anchor=\"start\" x=\"260.62\" y=\"-2644\" font-family=\"Linux libertine\" font-size=\"10.00\">depth:3</text>\n",
       "<polygon fill=\"none\" stroke=\"black\" points=\"302,-2653.5 302,-2675.5 349,-2675.5 349,-2653.5 302,-2653.5\"/>\n",
       "<text text-anchor=\"start\" x=\"311.62\" y=\"-2661\" font-family=\"Linux libertine\" font-size=\"10.00\">input:</text>\n",
       "<polygon fill=\"none\" stroke=\"black\" points=\"349,-2653.5 349,-2675.5 411,-2675.5 411,-2653.5 349,-2653.5\"/>\n",
       "<text text-anchor=\"start\" x=\"353.75\" y=\"-2661\" font-family=\"Linux libertine\" font-size=\"10.00\">(140, 140) </text>\n",
       "<polygon fill=\"none\" stroke=\"black\" points=\"302,-2631.5 302,-2653.5 349,-2653.5 349,-2631.5 302,-2631.5\"/>\n",
       "<text text-anchor=\"start\" x=\"306.75\" y=\"-2639\" font-family=\"Linux libertine\" font-size=\"10.00\">output: </text>\n",
       "<polygon fill=\"none\" stroke=\"black\" points=\"349,-2631.5 349,-2653.5 411,-2653.5 411,-2631.5 349,-2631.5\"/>\n",
       "<text text-anchor=\"start\" x=\"353.75\" y=\"-2639\" font-family=\"Linux libertine\" font-size=\"10.00\">(140, 140) </text>\n",
       "</g>\n",
       "<!-- 5&#45;&gt;6 -->\n",
       "<g id=\"edge7\" class=\"edge\">\n",
       "<title>5&#45;&gt;6</title>\n",
       "<path fill=\"none\" stroke=\"black\" d=\"M333.5,-2711.6C333.5,-2703.82 333.5,-2694.8 333.5,-2686.26\"/>\n",
       "<polygon fill=\"black\" stroke=\"black\" points=\"337,-2686.46 333.5,-2676.46 330,-2686.46 337,-2686.46\"/>\n",
       "</g>\n",
       "<!-- 6&#45;&gt;7 -->\n",
       "<g id=\"edge8\" class=\"edge\">\n",
       "<title>6&#45;&gt;7</title>\n",
       "<path fill=\"none\" stroke=\"black\" d=\"M298.13,-2631.6C282.15,-2622.15 263.09,-2610.89 246.14,-2600.88\"/>\n",
       "<polygon fill=\"black\" stroke=\"black\" points=\"248.36,-2597.53 237.97,-2595.46 244.8,-2603.56 248.36,-2597.53\"/>\n",
       "</g>\n",
       "<!-- 7&#45;&gt;8 -->\n",
       "<g id=\"edge9\" class=\"edge\">\n",
       "<title>7&#45;&gt;8</title>\n",
       "<path fill=\"none\" stroke=\"black\" d=\"M177.65,-2551.6C167.47,-2542.68 155.45,-2532.14 144.51,-2522.56\"/>\n",
       "<polygon fill=\"black\" stroke=\"black\" points=\"147.24,-2519.42 137.42,-2515.46 142.63,-2524.68 147.24,-2519.42\"/>\n",
       "</g>\n",
       "<!-- 9 -->\n",
       "<g id=\"node10\" class=\"node\">\n",
       "<title>9</title>\n",
       "<polygon fill=\"#c1ffc1\" stroke=\"none\" points=\"266,-2435.5 81,-2435.5 81,-2391.5 266,-2391.5 266,-2435.5\"/>\n",
       "<polygon fill=\"none\" stroke=\"black\" points=\"81,-2391.5 81,-2435.5 145,-2435.5 145,-2391.5 81,-2391.5\"/>\n",
       "<text text-anchor=\"start\" x=\"86\" y=\"-2416.75\" font-family=\"Linux libertine\" font-size=\"10.00\">LayerNorm</text>\n",
       "<text text-anchor=\"start\" x=\"94.62\" y=\"-2404\" font-family=\"Linux libertine\" font-size=\"10.00\">depth:3</text>\n",
       "<polygon fill=\"none\" stroke=\"black\" points=\"145,-2413.5 145,-2435.5 192,-2435.5 192,-2413.5 145,-2413.5\"/>\n",
       "<text text-anchor=\"start\" x=\"154.62\" y=\"-2421\" font-family=\"Linux libertine\" font-size=\"10.00\">input:</text>\n",
       "<polygon fill=\"none\" stroke=\"black\" points=\"192,-2413.5 192,-2435.5 266,-2435.5 266,-2413.5 192,-2413.5\"/>\n",
       "<text text-anchor=\"start\" x=\"196.75\" y=\"-2421\" font-family=\"Linux libertine\" font-size=\"10.00\">(5, 140, 128) </text>\n",
       "<polygon fill=\"none\" stroke=\"black\" points=\"145,-2391.5 145,-2413.5 192,-2413.5 192,-2391.5 145,-2391.5\"/>\n",
       "<text text-anchor=\"start\" x=\"149.75\" y=\"-2399\" font-family=\"Linux libertine\" font-size=\"10.00\">output: </text>\n",
       "<polygon fill=\"none\" stroke=\"black\" points=\"192,-2391.5 192,-2413.5 266,-2413.5 266,-2391.5 192,-2391.5\"/>\n",
       "<text text-anchor=\"start\" x=\"196.75\" y=\"-2399\" font-family=\"Linux libertine\" font-size=\"10.00\">(5, 140, 128) </text>\n",
       "</g>\n",
       "<!-- 8&#45;&gt;9 -->\n",
       "<g id=\"edge10\" class=\"edge\">\n",
       "<title>8&#45;&gt;9</title>\n",
       "<path fill=\"none\" stroke=\"black\" d=\"M128.85,-2471.6C135.48,-2463.12 143.26,-2453.17 150.45,-2443.97\"/>\n",
       "<polygon fill=\"black\" stroke=\"black\" points=\"153.7,-2446.49 157.11,-2436.46 148.19,-2442.18 153.7,-2446.49\"/>\n",
       "</g>\n",
       "<!-- 12 -->\n",
       "<g id=\"node13\" class=\"node\">\n",
       "<title>12</title>\n",
       "<polygon fill=\"aliceblue\" stroke=\"none\" points=\"201,-2195.5 16,-2195.5 16,-2151.5 201,-2151.5 201,-2195.5\"/>\n",
       "<polygon fill=\"none\" stroke=\"black\" points=\"16,-2151.5 16,-2195.5 62,-2195.5 62,-2151.5 16,-2151.5\"/>\n",
       "<text text-anchor=\"start\" x=\"30\" y=\"-2176.75\" font-family=\"Linux libertine\" font-size=\"10.00\">add</text>\n",
       "<text text-anchor=\"start\" x=\"20.62\" y=\"-2164\" font-family=\"Linux libertine\" font-size=\"10.00\">depth:3</text>\n",
       "<polygon fill=\"none\" stroke=\"black\" points=\"62,-2173.5 62,-2195.5 109,-2195.5 109,-2173.5 62,-2173.5\"/>\n",
       "<text text-anchor=\"start\" x=\"71.62\" y=\"-2181\" font-family=\"Linux libertine\" font-size=\"10.00\">input:</text>\n",
       "<polygon fill=\"none\" stroke=\"black\" points=\"109,-2173.5 109,-2195.5 201,-2195.5 201,-2173.5 109,-2173.5\"/>\n",
       "<text text-anchor=\"start\" x=\"113.75\" y=\"-2181\" font-family=\"Linux libertine\" font-size=\"10.00\">2 x (5, 140, 128) </text>\n",
       "<polygon fill=\"none\" stroke=\"black\" points=\"62,-2151.5 62,-2173.5 109,-2173.5 109,-2151.5 62,-2151.5\"/>\n",
       "<text text-anchor=\"start\" x=\"66.75\" y=\"-2159\" font-family=\"Linux libertine\" font-size=\"10.00\">output: </text>\n",
       "<polygon fill=\"none\" stroke=\"black\" points=\"109,-2151.5 109,-2173.5 201,-2173.5 201,-2151.5 109,-2151.5\"/>\n",
       "<text text-anchor=\"start\" x=\"122.75\" y=\"-2159\" font-family=\"Linux libertine\" font-size=\"10.00\">(5, 140, 128) </text>\n",
       "</g>\n",
       "<!-- 8&#45;&gt;12 -->\n",
       "<g id=\"edge11\" class=\"edge\">\n",
       "<title>8&#45;&gt;12</title>\n",
       "<path fill=\"none\" stroke=\"black\" d=\"M92.58,-2471.55C84.36,-2461.48 75.76,-2448.73 71.5,-2435.5 60.75,-2402.15 42.23,-2349.47 75.5,-2231.5 78.11,-2222.25 82.57,-2212.92 87.37,-2204.57\"/>\n",
       "<polygon fill=\"black\" stroke=\"black\" points=\"90.83,-2206.63 93.09,-2196.28 84.87,-2202.96 90.83,-2206.63\"/>\n",
       "</g>\n",
       "<!-- 10 -->\n",
       "<g id=\"node11\" class=\"node\">\n",
       "<title>10</title>\n",
       "<polygon fill=\"#c1ffc1\" stroke=\"none\" points=\"254,-2355.5 87,-2355.5 87,-2311.5 254,-2311.5 254,-2355.5\"/>\n",
       "<polygon fill=\"none\" stroke=\"black\" points=\"87,-2311.5 87,-2355.5 133,-2355.5 133,-2311.5 87,-2311.5\"/>\n",
       "<text text-anchor=\"start\" x=\"95\" y=\"-2336.75\" font-family=\"Linux libertine\" font-size=\"10.00\">Linear</text>\n",
       "<text text-anchor=\"start\" x=\"91.62\" y=\"-2324\" font-family=\"Linux libertine\" font-size=\"10.00\">depth:3</text>\n",
       "<polygon fill=\"none\" stroke=\"black\" points=\"133,-2333.5 133,-2355.5 180,-2355.5 180,-2333.5 133,-2333.5\"/>\n",
       "<text text-anchor=\"start\" x=\"142.62\" y=\"-2341\" font-family=\"Linux libertine\" font-size=\"10.00\">input:</text>\n",
       "<polygon fill=\"none\" stroke=\"black\" points=\"180,-2333.5 180,-2355.5 254,-2355.5 254,-2333.5 180,-2333.5\"/>\n",
       "<text text-anchor=\"start\" x=\"184.75\" y=\"-2341\" font-family=\"Linux libertine\" font-size=\"10.00\">(5, 140, 128) </text>\n",
       "<polygon fill=\"none\" stroke=\"black\" points=\"133,-2311.5 133,-2333.5 180,-2333.5 180,-2311.5 133,-2311.5\"/>\n",
       "<text text-anchor=\"start\" x=\"137.75\" y=\"-2319\" font-family=\"Linux libertine\" font-size=\"10.00\">output: </text>\n",
       "<polygon fill=\"none\" stroke=\"black\" points=\"180,-2311.5 180,-2333.5 254,-2333.5 254,-2311.5 180,-2311.5\"/>\n",
       "<text text-anchor=\"start\" x=\"184.75\" y=\"-2319\" font-family=\"Linux libertine\" font-size=\"10.00\">(5, 140, 128) </text>\n",
       "</g>\n",
       "<!-- 9&#45;&gt;10 -->\n",
       "<g id=\"edge12\" class=\"edge\">\n",
       "<title>9&#45;&gt;10</title>\n",
       "<path fill=\"none\" stroke=\"black\" d=\"M172.7,-2391.6C172.4,-2383.82 172.05,-2374.8 171.72,-2366.26\"/>\n",
       "<polygon fill=\"black\" stroke=\"black\" points=\"175.19,-2366.32 171.31,-2356.46 168.19,-2366.59 175.19,-2366.32\"/>\n",
       "</g>\n",
       "<!-- 11 -->\n",
       "<g id=\"node12\" class=\"node\">\n",
       "<title>11</title>\n",
       "<polygon fill=\"#c1ffc1\" stroke=\"none\" points=\"252,-2275.5 85,-2275.5 85,-2231.5 252,-2231.5 252,-2275.5\"/>\n",
       "<polygon fill=\"none\" stroke=\"black\" points=\"85,-2231.5 85,-2275.5 131,-2275.5 131,-2231.5 85,-2231.5\"/>\n",
       "<text text-anchor=\"start\" x=\"94.88\" y=\"-2256.75\" font-family=\"Linux libertine\" font-size=\"10.00\">GELU</text>\n",
       "<text text-anchor=\"start\" x=\"89.62\" y=\"-2244\" font-family=\"Linux libertine\" font-size=\"10.00\">depth:3</text>\n",
       "<polygon fill=\"none\" stroke=\"black\" points=\"131,-2253.5 131,-2275.5 178,-2275.5 178,-2253.5 131,-2253.5\"/>\n",
       "<text text-anchor=\"start\" x=\"140.62\" y=\"-2261\" font-family=\"Linux libertine\" font-size=\"10.00\">input:</text>\n",
       "<polygon fill=\"none\" stroke=\"black\" points=\"178,-2253.5 178,-2275.5 252,-2275.5 252,-2253.5 178,-2253.5\"/>\n",
       "<text text-anchor=\"start\" x=\"182.75\" y=\"-2261\" font-family=\"Linux libertine\" font-size=\"10.00\">(5, 140, 128) </text>\n",
       "<polygon fill=\"none\" stroke=\"black\" points=\"131,-2231.5 131,-2253.5 178,-2253.5 178,-2231.5 131,-2231.5\"/>\n",
       "<text text-anchor=\"start\" x=\"135.75\" y=\"-2239\" font-family=\"Linux libertine\" font-size=\"10.00\">output: </text>\n",
       "<polygon fill=\"none\" stroke=\"black\" points=\"178,-2231.5 178,-2253.5 252,-2253.5 252,-2231.5 178,-2231.5\"/>\n",
       "<text text-anchor=\"start\" x=\"182.75\" y=\"-2239\" font-family=\"Linux libertine\" font-size=\"10.00\">(5, 140, 128) </text>\n",
       "</g>\n",
       "<!-- 10&#45;&gt;11 -->\n",
       "<g id=\"edge13\" class=\"edge\">\n",
       "<title>10&#45;&gt;11</title>\n",
       "<path fill=\"none\" stroke=\"black\" d=\"M169.96,-2311.6C169.76,-2303.82 169.53,-2294.8 169.31,-2286.26\"/>\n",
       "<polygon fill=\"black\" stroke=\"black\" points=\"172.79,-2286.37 169.04,-2276.46 165.8,-2286.55 172.79,-2286.37\"/>\n",
       "</g>\n",
       "<!-- 11&#45;&gt;12 -->\n",
       "<g id=\"edge14\" class=\"edge\">\n",
       "<title>11&#45;&gt;12</title>\n",
       "<path fill=\"none\" stroke=\"black\" d=\"M152.42,-2231.6C145.9,-2223.12 138.25,-2213.17 131.17,-2203.97\"/>\n",
       "<polygon fill=\"black\" stroke=\"black\" points=\"133.49,-2202.25 124.62,-2196.46 127.95,-2206.52 133.49,-2202.25\"/>\n",
       "</g>\n",
       "<!-- 13 -->\n",
       "<g id=\"node14\" class=\"node\">\n",
       "<title>13</title>\n",
       "<polygon fill=\"#c1ffc1\" stroke=\"none\" points=\"261,-2115.5 76,-2115.5 76,-2071.5 261,-2071.5 261,-2115.5\"/>\n",
       "<polygon fill=\"none\" stroke=\"black\" points=\"76,-2071.5 76,-2115.5 140,-2115.5 140,-2071.5 76,-2071.5\"/>\n",
       "<text text-anchor=\"start\" x=\"81\" y=\"-2096.75\" font-family=\"Linux libertine\" font-size=\"10.00\">LayerNorm</text>\n",
       "<text text-anchor=\"start\" x=\"89.62\" y=\"-2084\" font-family=\"Linux libertine\" font-size=\"10.00\">depth:3</text>\n",
       "<polygon fill=\"none\" stroke=\"black\" points=\"140,-2093.5 140,-2115.5 187,-2115.5 187,-2093.5 140,-2093.5\"/>\n",
       "<text text-anchor=\"start\" x=\"149.62\" y=\"-2101\" font-family=\"Linux libertine\" font-size=\"10.00\">input:</text>\n",
       "<polygon fill=\"none\" stroke=\"black\" points=\"187,-2093.5 187,-2115.5 261,-2115.5 261,-2093.5 187,-2093.5\"/>\n",
       "<text text-anchor=\"start\" x=\"191.75\" y=\"-2101\" font-family=\"Linux libertine\" font-size=\"10.00\">(5, 140, 128) </text>\n",
       "<polygon fill=\"none\" stroke=\"black\" points=\"140,-2071.5 140,-2093.5 187,-2093.5 187,-2071.5 140,-2071.5\"/>\n",
       "<text text-anchor=\"start\" x=\"144.75\" y=\"-2079\" font-family=\"Linux libertine\" font-size=\"10.00\">output: </text>\n",
       "<polygon fill=\"none\" stroke=\"black\" points=\"187,-2071.5 187,-2093.5 261,-2093.5 261,-2071.5 187,-2071.5\"/>\n",
       "<text text-anchor=\"start\" x=\"191.75\" y=\"-2079\" font-family=\"Linux libertine\" font-size=\"10.00\">(5, 140, 128) </text>\n",
       "</g>\n",
       "<!-- 12&#45;&gt;13 -->\n",
       "<g id=\"edge15\" class=\"edge\">\n",
       "<title>12&#45;&gt;13</title>\n",
       "<path fill=\"none\" stroke=\"black\" d=\"M124.58,-2151.6C131.1,-2143.12 138.75,-2133.17 145.83,-2123.97\"/>\n",
       "<polygon fill=\"black\" stroke=\"black\" points=\"149.05,-2126.52 152.38,-2116.46 143.51,-2122.25 149.05,-2126.52\"/>\n",
       "</g>\n",
       "<!-- 17 -->\n",
       "<g id=\"node18\" class=\"node\">\n",
       "<title>17</title>\n",
       "<polygon fill=\"aliceblue\" stroke=\"none\" points=\"228,-1955.5 43,-1955.5 43,-1911.5 228,-1911.5 228,-1955.5\"/>\n",
       "<polygon fill=\"none\" stroke=\"black\" points=\"43,-1911.5 43,-1955.5 89,-1955.5 89,-1911.5 43,-1911.5\"/>\n",
       "<text text-anchor=\"start\" x=\"57\" y=\"-1936.75\" font-family=\"Linux libertine\" font-size=\"10.00\">add</text>\n",
       "<text text-anchor=\"start\" x=\"47.62\" y=\"-1924\" font-family=\"Linux libertine\" font-size=\"10.00\">depth:3</text>\n",
       "<polygon fill=\"none\" stroke=\"black\" points=\"89,-1933.5 89,-1955.5 136,-1955.5 136,-1933.5 89,-1933.5\"/>\n",
       "<text text-anchor=\"start\" x=\"98.62\" y=\"-1941\" font-family=\"Linux libertine\" font-size=\"10.00\">input:</text>\n",
       "<polygon fill=\"none\" stroke=\"black\" points=\"136,-1933.5 136,-1955.5 228,-1955.5 228,-1933.5 136,-1933.5\"/>\n",
       "<text text-anchor=\"start\" x=\"140.75\" y=\"-1941\" font-family=\"Linux libertine\" font-size=\"10.00\">2 x (5, 140, 128) </text>\n",
       "<polygon fill=\"none\" stroke=\"black\" points=\"89,-1911.5 89,-1933.5 136,-1933.5 136,-1911.5 89,-1911.5\"/>\n",
       "<text text-anchor=\"start\" x=\"93.75\" y=\"-1919\" font-family=\"Linux libertine\" font-size=\"10.00\">output: </text>\n",
       "<polygon fill=\"none\" stroke=\"black\" points=\"136,-1911.5 136,-1933.5 228,-1933.5 228,-1911.5 136,-1911.5\"/>\n",
       "<text text-anchor=\"start\" x=\"149.75\" y=\"-1919\" font-family=\"Linux libertine\" font-size=\"10.00\">(5, 140, 128) </text>\n",
       "</g>\n",
       "<!-- 12&#45;&gt;17 -->\n",
       "<g id=\"edge16\" class=\"edge\">\n",
       "<title>12&#45;&gt;17</title>\n",
       "<path fill=\"none\" stroke=\"black\" d=\"M88.11,-2151.63C79.68,-2141.57 70.87,-2128.81 66.5,-2115.5 49.29,-2063.14 43.02,-2041.36 66.5,-1991.5 71.83,-1980.19 80.62,-1970.36 90.17,-1962.2\"/>\n",
       "<polygon fill=\"black\" stroke=\"black\" points=\"92.02,-1964.41 97.69,-1955.46 87.68,-1958.92 92.02,-1964.41\"/>\n",
       "</g>\n",
       "<!-- 16 -->\n",
       "<g id=\"node17\" class=\"node\">\n",
       "<title>16</title>\n",
       "<polygon fill=\"#c1ffc1\" stroke=\"none\" points=\"373.5,-2035.5 75.5,-2035.5 75.5,-1991.5 373.5,-1991.5 373.5,-2035.5\"/>\n",
       "<polygon fill=\"none\" stroke=\"black\" points=\"75.5,-1991.5 75.5,-2035.5 178.5,-2035.5 178.5,-1991.5 75.5,-1991.5\"/>\n",
       "<text text-anchor=\"start\" x=\"80.12\" y=\"-2016.75\" font-family=\"Linux libertine\" font-size=\"10.00\">MultiheadAttention</text>\n",
       "<text text-anchor=\"start\" x=\"108.62\" y=\"-2004\" font-family=\"Linux libertine\" font-size=\"10.00\">depth:3</text>\n",
       "<polygon fill=\"none\" stroke=\"black\" points=\"178.5,-2013.5 178.5,-2035.5 225.5,-2035.5 225.5,-2013.5 178.5,-2013.5\"/>\n",
       "<text text-anchor=\"start\" x=\"188.12\" y=\"-2021\" font-family=\"Linux libertine\" font-size=\"10.00\">input:</text>\n",
       "<polygon fill=\"none\" stroke=\"black\" points=\"225.5,-2013.5 225.5,-2035.5 373.5,-2035.5 373.5,-2013.5 225.5,-2013.5\"/>\n",
       "<text text-anchor=\"start\" x=\"230.5\" y=\"-2021\" font-family=\"Linux libertine\" font-size=\"10.00\">3 x (5, 140, 128), (140, 140) </text>\n",
       "<polygon fill=\"none\" stroke=\"black\" points=\"178.5,-1991.5 178.5,-2013.5 225.5,-2013.5 225.5,-1991.5 178.5,-1991.5\"/>\n",
       "<text text-anchor=\"start\" x=\"183.25\" y=\"-1999\" font-family=\"Linux libertine\" font-size=\"10.00\">output: </text>\n",
       "<polygon fill=\"none\" stroke=\"black\" points=\"225.5,-1991.5 225.5,-2013.5 373.5,-2013.5 373.5,-1991.5 225.5,-1991.5\"/>\n",
       "<text text-anchor=\"start\" x=\"233.5\" y=\"-1999\" font-family=\"Linux libertine\" font-size=\"10.00\">(5, 140, 128), (5, 140, 140) </text>\n",
       "</g>\n",
       "<!-- 13&#45;&gt;16 -->\n",
       "<g id=\"edge17\" class=\"edge\">\n",
       "<title>13&#45;&gt;16</title>\n",
       "<path fill=\"none\" stroke=\"black\" d=\"M183.51,-2071.6C189.53,-2063.2 196.59,-2053.37 203.14,-2044.26\"/>\n",
       "<polygon fill=\"black\" stroke=\"black\" points=\"206.46,-2046.62 209.45,-2036.46 200.78,-2042.54 206.46,-2046.62\"/>\n",
       "</g>\n",
       "<!-- 14 -->\n",
       "<g id=\"node15\" class=\"node\">\n",
       "<title>14</title>\n",
       "<polygon fill=\"aliceblue\" stroke=\"none\" points=\"434,-2195.5 279,-2195.5 279,-2151.5 434,-2151.5 434,-2195.5\"/>\n",
       "<polygon fill=\"none\" stroke=\"black\" points=\"279,-2151.5 279,-2195.5 325,-2195.5 325,-2151.5 279,-2151.5\"/>\n",
       "<text text-anchor=\"start\" x=\"293.75\" y=\"-2176.75\" font-family=\"Linux libertine\" font-size=\"10.00\">triu</text>\n",
       "<text text-anchor=\"start\" x=\"283.62\" y=\"-2164\" font-family=\"Linux libertine\" font-size=\"10.00\">depth:3</text>\n",
       "<polygon fill=\"none\" stroke=\"black\" points=\"325,-2173.5 325,-2195.5 372,-2195.5 372,-2173.5 325,-2173.5\"/>\n",
       "<text text-anchor=\"start\" x=\"334.62\" y=\"-2181\" font-family=\"Linux libertine\" font-size=\"10.00\">input:</text>\n",
       "<polygon fill=\"none\" stroke=\"black\" points=\"372,-2173.5 372,-2195.5 434,-2195.5 434,-2173.5 372,-2173.5\"/>\n",
       "<text text-anchor=\"start\" x=\"376.75\" y=\"-2181\" font-family=\"Linux libertine\" font-size=\"10.00\">(140, 140) </text>\n",
       "<polygon fill=\"none\" stroke=\"black\" points=\"325,-2151.5 325,-2173.5 372,-2173.5 372,-2151.5 325,-2151.5\"/>\n",
       "<text text-anchor=\"start\" x=\"329.75\" y=\"-2159\" font-family=\"Linux libertine\" font-size=\"10.00\">output: </text>\n",
       "<polygon fill=\"none\" stroke=\"black\" points=\"372,-2151.5 372,-2173.5 434,-2173.5 434,-2151.5 372,-2151.5\"/>\n",
       "<text text-anchor=\"start\" x=\"376.75\" y=\"-2159\" font-family=\"Linux libertine\" font-size=\"10.00\">(140, 140) </text>\n",
       "</g>\n",
       "<!-- 15 -->\n",
       "<g id=\"node16\" class=\"node\">\n",
       "<title>15</title>\n",
       "<polygon fill=\"aliceblue\" stroke=\"none\" points=\"434,-2115.5 279,-2115.5 279,-2071.5 434,-2071.5 434,-2115.5\"/>\n",
       "<polygon fill=\"none\" stroke=\"black\" points=\"279,-2071.5 279,-2115.5 325,-2115.5 325,-2071.5 279,-2071.5\"/>\n",
       "<text text-anchor=\"start\" x=\"297.12\" y=\"-2096.75\" font-family=\"Linux libertine\" font-size=\"10.00\">to</text>\n",
       "<text text-anchor=\"start\" x=\"283.62\" y=\"-2084\" font-family=\"Linux libertine\" font-size=\"10.00\">depth:3</text>\n",
       "<polygon fill=\"none\" stroke=\"black\" points=\"325,-2093.5 325,-2115.5 372,-2115.5 372,-2093.5 325,-2093.5\"/>\n",
       "<text text-anchor=\"start\" x=\"334.62\" y=\"-2101\" font-family=\"Linux libertine\" font-size=\"10.00\">input:</text>\n",
       "<polygon fill=\"none\" stroke=\"black\" points=\"372,-2093.5 372,-2115.5 434,-2115.5 434,-2093.5 372,-2093.5\"/>\n",
       "<text text-anchor=\"start\" x=\"376.75\" y=\"-2101\" font-family=\"Linux libertine\" font-size=\"10.00\">(140, 140) </text>\n",
       "<polygon fill=\"none\" stroke=\"black\" points=\"325,-2071.5 325,-2093.5 372,-2093.5 372,-2071.5 325,-2071.5\"/>\n",
       "<text text-anchor=\"start\" x=\"329.75\" y=\"-2079\" font-family=\"Linux libertine\" font-size=\"10.00\">output: </text>\n",
       "<polygon fill=\"none\" stroke=\"black\" points=\"372,-2071.5 372,-2093.5 434,-2093.5 434,-2071.5 372,-2071.5\"/>\n",
       "<text text-anchor=\"start\" x=\"376.75\" y=\"-2079\" font-family=\"Linux libertine\" font-size=\"10.00\">(140, 140) </text>\n",
       "</g>\n",
       "<!-- 14&#45;&gt;15 -->\n",
       "<g id=\"edge18\" class=\"edge\">\n",
       "<title>14&#45;&gt;15</title>\n",
       "<path fill=\"none\" stroke=\"black\" d=\"M356.5,-2151.6C356.5,-2143.82 356.5,-2134.8 356.5,-2126.26\"/>\n",
       "<polygon fill=\"black\" stroke=\"black\" points=\"360,-2126.46 356.5,-2116.46 353,-2126.46 360,-2126.46\"/>\n",
       "</g>\n",
       "<!-- 15&#45;&gt;16 -->\n",
       "<g id=\"edge19\" class=\"edge\">\n",
       "<title>15&#45;&gt;16</title>\n",
       "<path fill=\"none\" stroke=\"black\" d=\"M321.13,-2071.6C305.15,-2062.15 286.09,-2050.89 269.14,-2040.88\"/>\n",
       "<polygon fill=\"black\" stroke=\"black\" points=\"271.36,-2037.53 260.97,-2035.46 267.8,-2043.56 271.36,-2037.53\"/>\n",
       "</g>\n",
       "<!-- 16&#45;&gt;17 -->\n",
       "<g id=\"edge20\" class=\"edge\">\n",
       "<title>16&#45;&gt;17</title>\n",
       "<path fill=\"none\" stroke=\"black\" d=\"M200.65,-1991.6C190.47,-1982.68 178.45,-1972.14 167.51,-1962.56\"/>\n",
       "<polygon fill=\"black\" stroke=\"black\" points=\"170.24,-1959.42 160.42,-1955.46 165.63,-1964.68 170.24,-1959.42\"/>\n",
       "</g>\n",
       "<!-- 18 -->\n",
       "<g id=\"node19\" class=\"node\">\n",
       "<title>18</title>\n",
       "<polygon fill=\"#c1ffc1\" stroke=\"none\" points=\"289,-1875.5 104,-1875.5 104,-1831.5 289,-1831.5 289,-1875.5\"/>\n",
       "<polygon fill=\"none\" stroke=\"black\" points=\"104,-1831.5 104,-1875.5 168,-1875.5 168,-1831.5 104,-1831.5\"/>\n",
       "<text text-anchor=\"start\" x=\"109\" y=\"-1856.75\" font-family=\"Linux libertine\" font-size=\"10.00\">LayerNorm</text>\n",
       "<text text-anchor=\"start\" x=\"117.62\" y=\"-1844\" font-family=\"Linux libertine\" font-size=\"10.00\">depth:3</text>\n",
       "<polygon fill=\"none\" stroke=\"black\" points=\"168,-1853.5 168,-1875.5 215,-1875.5 215,-1853.5 168,-1853.5\"/>\n",
       "<text text-anchor=\"start\" x=\"177.62\" y=\"-1861\" font-family=\"Linux libertine\" font-size=\"10.00\">input:</text>\n",
       "<polygon fill=\"none\" stroke=\"black\" points=\"215,-1853.5 215,-1875.5 289,-1875.5 289,-1853.5 215,-1853.5\"/>\n",
       "<text text-anchor=\"start\" x=\"219.75\" y=\"-1861\" font-family=\"Linux libertine\" font-size=\"10.00\">(5, 140, 128) </text>\n",
       "<polygon fill=\"none\" stroke=\"black\" points=\"168,-1831.5 168,-1853.5 215,-1853.5 215,-1831.5 168,-1831.5\"/>\n",
       "<text text-anchor=\"start\" x=\"172.75\" y=\"-1839\" font-family=\"Linux libertine\" font-size=\"10.00\">output: </text>\n",
       "<polygon fill=\"none\" stroke=\"black\" points=\"215,-1831.5 215,-1853.5 289,-1853.5 289,-1831.5 215,-1831.5\"/>\n",
       "<text text-anchor=\"start\" x=\"219.75\" y=\"-1839\" font-family=\"Linux libertine\" font-size=\"10.00\">(5, 140, 128) </text>\n",
       "</g>\n",
       "<!-- 17&#45;&gt;18 -->\n",
       "<g id=\"edge21\" class=\"edge\">\n",
       "<title>17&#45;&gt;18</title>\n",
       "<path fill=\"none\" stroke=\"black\" d=\"M151.85,-1911.6C158.48,-1903.12 166.26,-1893.17 173.45,-1883.97\"/>\n",
       "<polygon fill=\"black\" stroke=\"black\" points=\"176.7,-1886.49 180.11,-1876.46 171.19,-1882.18 176.7,-1886.49\"/>\n",
       "</g>\n",
       "<!-- 21 -->\n",
       "<g id=\"node22\" class=\"node\">\n",
       "<title>21</title>\n",
       "<polygon fill=\"aliceblue\" stroke=\"none\" points=\"224,-1635.5 39,-1635.5 39,-1591.5 224,-1591.5 224,-1635.5\"/>\n",
       "<polygon fill=\"none\" stroke=\"black\" points=\"39,-1591.5 39,-1635.5 85,-1635.5 85,-1591.5 39,-1591.5\"/>\n",
       "<text text-anchor=\"start\" x=\"53\" y=\"-1616.75\" font-family=\"Linux libertine\" font-size=\"10.00\">add</text>\n",
       "<text text-anchor=\"start\" x=\"43.62\" y=\"-1604\" font-family=\"Linux libertine\" font-size=\"10.00\">depth:3</text>\n",
       "<polygon fill=\"none\" stroke=\"black\" points=\"85,-1613.5 85,-1635.5 132,-1635.5 132,-1613.5 85,-1613.5\"/>\n",
       "<text text-anchor=\"start\" x=\"94.62\" y=\"-1621\" font-family=\"Linux libertine\" font-size=\"10.00\">input:</text>\n",
       "<polygon fill=\"none\" stroke=\"black\" points=\"132,-1613.5 132,-1635.5 224,-1635.5 224,-1613.5 132,-1613.5\"/>\n",
       "<text text-anchor=\"start\" x=\"136.75\" y=\"-1621\" font-family=\"Linux libertine\" font-size=\"10.00\">2 x (5, 140, 128) </text>\n",
       "<polygon fill=\"none\" stroke=\"black\" points=\"85,-1591.5 85,-1613.5 132,-1613.5 132,-1591.5 85,-1591.5\"/>\n",
       "<text text-anchor=\"start\" x=\"89.75\" y=\"-1599\" font-family=\"Linux libertine\" font-size=\"10.00\">output: </text>\n",
       "<polygon fill=\"none\" stroke=\"black\" points=\"132,-1591.5 132,-1613.5 224,-1613.5 224,-1591.5 132,-1591.5\"/>\n",
       "<text text-anchor=\"start\" x=\"145.75\" y=\"-1599\" font-family=\"Linux libertine\" font-size=\"10.00\">(5, 140, 128) </text>\n",
       "</g>\n",
       "<!-- 17&#45;&gt;21 -->\n",
       "<g id=\"edge22\" class=\"edge\">\n",
       "<title>17&#45;&gt;21</title>\n",
       "<path fill=\"none\" stroke=\"black\" d=\"M115.58,-1911.55C107.36,-1901.48 98.76,-1888.73 94.5,-1875.5 83.75,-1842.15 65.23,-1789.47 98.5,-1671.5 101.11,-1662.25 105.57,-1652.92 110.37,-1644.57\"/>\n",
       "<polygon fill=\"black\" stroke=\"black\" points=\"113.83,-1646.63 116.09,-1636.28 107.87,-1642.96 113.83,-1646.63\"/>\n",
       "</g>\n",
       "<!-- 19 -->\n",
       "<g id=\"node20\" class=\"node\">\n",
       "<title>19</title>\n",
       "<polygon fill=\"#c1ffc1\" stroke=\"none\" points=\"277,-1795.5 110,-1795.5 110,-1751.5 277,-1751.5 277,-1795.5\"/>\n",
       "<polygon fill=\"none\" stroke=\"black\" points=\"110,-1751.5 110,-1795.5 156,-1795.5 156,-1751.5 110,-1751.5\"/>\n",
       "<text text-anchor=\"start\" x=\"118\" y=\"-1776.75\" font-family=\"Linux libertine\" font-size=\"10.00\">Linear</text>\n",
       "<text text-anchor=\"start\" x=\"114.62\" y=\"-1764\" font-family=\"Linux libertine\" font-size=\"10.00\">depth:3</text>\n",
       "<polygon fill=\"none\" stroke=\"black\" points=\"156,-1773.5 156,-1795.5 203,-1795.5 203,-1773.5 156,-1773.5\"/>\n",
       "<text text-anchor=\"start\" x=\"165.62\" y=\"-1781\" font-family=\"Linux libertine\" font-size=\"10.00\">input:</text>\n",
       "<polygon fill=\"none\" stroke=\"black\" points=\"203,-1773.5 203,-1795.5 277,-1795.5 277,-1773.5 203,-1773.5\"/>\n",
       "<text text-anchor=\"start\" x=\"207.75\" y=\"-1781\" font-family=\"Linux libertine\" font-size=\"10.00\">(5, 140, 128) </text>\n",
       "<polygon fill=\"none\" stroke=\"black\" points=\"156,-1751.5 156,-1773.5 203,-1773.5 203,-1751.5 156,-1751.5\"/>\n",
       "<text text-anchor=\"start\" x=\"160.75\" y=\"-1759\" font-family=\"Linux libertine\" font-size=\"10.00\">output: </text>\n",
       "<polygon fill=\"none\" stroke=\"black\" points=\"203,-1751.5 203,-1773.5 277,-1773.5 277,-1751.5 203,-1751.5\"/>\n",
       "<text text-anchor=\"start\" x=\"207.75\" y=\"-1759\" font-family=\"Linux libertine\" font-size=\"10.00\">(5, 140, 128) </text>\n",
       "</g>\n",
       "<!-- 18&#45;&gt;19 -->\n",
       "<g id=\"edge23\" class=\"edge\">\n",
       "<title>18&#45;&gt;19</title>\n",
       "<path fill=\"none\" stroke=\"black\" d=\"M195.7,-1831.6C195.4,-1823.82 195.05,-1814.8 194.72,-1806.26\"/>\n",
       "<polygon fill=\"black\" stroke=\"black\" points=\"198.19,-1806.32 194.31,-1796.46 191.19,-1806.59 198.19,-1806.32\"/>\n",
       "</g>\n",
       "<!-- 20 -->\n",
       "<g id=\"node21\" class=\"node\">\n",
       "<title>20</title>\n",
       "<polygon fill=\"#c1ffc1\" stroke=\"none\" points=\"275,-1715.5 108,-1715.5 108,-1671.5 275,-1671.5 275,-1715.5\"/>\n",
       "<polygon fill=\"none\" stroke=\"black\" points=\"108,-1671.5 108,-1715.5 154,-1715.5 154,-1671.5 108,-1671.5\"/>\n",
       "<text text-anchor=\"start\" x=\"117.88\" y=\"-1696.75\" font-family=\"Linux libertine\" font-size=\"10.00\">GELU</text>\n",
       "<text text-anchor=\"start\" x=\"112.62\" y=\"-1684\" font-family=\"Linux libertine\" font-size=\"10.00\">depth:3</text>\n",
       "<polygon fill=\"none\" stroke=\"black\" points=\"154,-1693.5 154,-1715.5 201,-1715.5 201,-1693.5 154,-1693.5\"/>\n",
       "<text text-anchor=\"start\" x=\"163.62\" y=\"-1701\" font-family=\"Linux libertine\" font-size=\"10.00\">input:</text>\n",
       "<polygon fill=\"none\" stroke=\"black\" points=\"201,-1693.5 201,-1715.5 275,-1715.5 275,-1693.5 201,-1693.5\"/>\n",
       "<text text-anchor=\"start\" x=\"205.75\" y=\"-1701\" font-family=\"Linux libertine\" font-size=\"10.00\">(5, 140, 128) </text>\n",
       "<polygon fill=\"none\" stroke=\"black\" points=\"154,-1671.5 154,-1693.5 201,-1693.5 201,-1671.5 154,-1671.5\"/>\n",
       "<text text-anchor=\"start\" x=\"158.75\" y=\"-1679\" font-family=\"Linux libertine\" font-size=\"10.00\">output: </text>\n",
       "<polygon fill=\"none\" stroke=\"black\" points=\"201,-1671.5 201,-1693.5 275,-1693.5 275,-1671.5 201,-1671.5\"/>\n",
       "<text text-anchor=\"start\" x=\"205.75\" y=\"-1679\" font-family=\"Linux libertine\" font-size=\"10.00\">(5, 140, 128) </text>\n",
       "</g>\n",
       "<!-- 19&#45;&gt;20 -->\n",
       "<g id=\"edge24\" class=\"edge\">\n",
       "<title>19&#45;&gt;20</title>\n",
       "<path fill=\"none\" stroke=\"black\" d=\"M192.96,-1751.6C192.76,-1743.82 192.53,-1734.8 192.31,-1726.26\"/>\n",
       "<polygon fill=\"black\" stroke=\"black\" points=\"195.79,-1726.37 192.04,-1716.46 188.8,-1726.55 195.79,-1726.37\"/>\n",
       "</g>\n",
       "<!-- 20&#45;&gt;21 -->\n",
       "<g id=\"edge25\" class=\"edge\">\n",
       "<title>20&#45;&gt;21</title>\n",
       "<path fill=\"none\" stroke=\"black\" d=\"M175.42,-1671.6C168.9,-1663.12 161.25,-1653.17 154.17,-1643.97\"/>\n",
       "<polygon fill=\"black\" stroke=\"black\" points=\"156.49,-1642.25 147.62,-1636.46 150.95,-1646.52 156.49,-1642.25\"/>\n",
       "</g>\n",
       "<!-- 22 -->\n",
       "<g id=\"node23\" class=\"node\">\n",
       "<title>22</title>\n",
       "<polygon fill=\"#c1ffc1\" stroke=\"none\" points=\"284,-1555.5 99,-1555.5 99,-1511.5 284,-1511.5 284,-1555.5\"/>\n",
       "<polygon fill=\"none\" stroke=\"black\" points=\"99,-1511.5 99,-1555.5 163,-1555.5 163,-1511.5 99,-1511.5\"/>\n",
       "<text text-anchor=\"start\" x=\"104\" y=\"-1536.75\" font-family=\"Linux libertine\" font-size=\"10.00\">LayerNorm</text>\n",
       "<text text-anchor=\"start\" x=\"112.62\" y=\"-1524\" font-family=\"Linux libertine\" font-size=\"10.00\">depth:3</text>\n",
       "<polygon fill=\"none\" stroke=\"black\" points=\"163,-1533.5 163,-1555.5 210,-1555.5 210,-1533.5 163,-1533.5\"/>\n",
       "<text text-anchor=\"start\" x=\"172.62\" y=\"-1541\" font-family=\"Linux libertine\" font-size=\"10.00\">input:</text>\n",
       "<polygon fill=\"none\" stroke=\"black\" points=\"210,-1533.5 210,-1555.5 284,-1555.5 284,-1533.5 210,-1533.5\"/>\n",
       "<text text-anchor=\"start\" x=\"214.75\" y=\"-1541\" font-family=\"Linux libertine\" font-size=\"10.00\">(5, 140, 128) </text>\n",
       "<polygon fill=\"none\" stroke=\"black\" points=\"163,-1511.5 163,-1533.5 210,-1533.5 210,-1511.5 163,-1511.5\"/>\n",
       "<text text-anchor=\"start\" x=\"167.75\" y=\"-1519\" font-family=\"Linux libertine\" font-size=\"10.00\">output: </text>\n",
       "<polygon fill=\"none\" stroke=\"black\" points=\"210,-1511.5 210,-1533.5 284,-1533.5 284,-1511.5 210,-1511.5\"/>\n",
       "<text text-anchor=\"start\" x=\"214.75\" y=\"-1519\" font-family=\"Linux libertine\" font-size=\"10.00\">(5, 140, 128) </text>\n",
       "</g>\n",
       "<!-- 21&#45;&gt;22 -->\n",
       "<g id=\"edge26\" class=\"edge\">\n",
       "<title>21&#45;&gt;22</title>\n",
       "<path fill=\"none\" stroke=\"black\" d=\"M147.58,-1591.6C154.1,-1583.12 161.75,-1573.17 168.83,-1563.97\"/>\n",
       "<polygon fill=\"black\" stroke=\"black\" points=\"172.05,-1566.52 175.38,-1556.46 166.51,-1562.25 172.05,-1566.52\"/>\n",
       "</g>\n",
       "<!-- 26 -->\n",
       "<g id=\"node27\" class=\"node\">\n",
       "<title>26</title>\n",
       "<polygon fill=\"aliceblue\" stroke=\"none\" points=\"251,-1395.5 66,-1395.5 66,-1351.5 251,-1351.5 251,-1395.5\"/>\n",
       "<polygon fill=\"none\" stroke=\"black\" points=\"66,-1351.5 66,-1395.5 112,-1395.5 112,-1351.5 66,-1351.5\"/>\n",
       "<text text-anchor=\"start\" x=\"80\" y=\"-1376.75\" font-family=\"Linux libertine\" font-size=\"10.00\">add</text>\n",
       "<text text-anchor=\"start\" x=\"70.62\" y=\"-1364\" font-family=\"Linux libertine\" font-size=\"10.00\">depth:3</text>\n",
       "<polygon fill=\"none\" stroke=\"black\" points=\"112,-1373.5 112,-1395.5 159,-1395.5 159,-1373.5 112,-1373.5\"/>\n",
       "<text text-anchor=\"start\" x=\"121.62\" y=\"-1381\" font-family=\"Linux libertine\" font-size=\"10.00\">input:</text>\n",
       "<polygon fill=\"none\" stroke=\"black\" points=\"159,-1373.5 159,-1395.5 251,-1395.5 251,-1373.5 159,-1373.5\"/>\n",
       "<text text-anchor=\"start\" x=\"163.75\" y=\"-1381\" font-family=\"Linux libertine\" font-size=\"10.00\">2 x (5, 140, 128) </text>\n",
       "<polygon fill=\"none\" stroke=\"black\" points=\"112,-1351.5 112,-1373.5 159,-1373.5 159,-1351.5 112,-1351.5\"/>\n",
       "<text text-anchor=\"start\" x=\"116.75\" y=\"-1359\" font-family=\"Linux libertine\" font-size=\"10.00\">output: </text>\n",
       "<polygon fill=\"none\" stroke=\"black\" points=\"159,-1351.5 159,-1373.5 251,-1373.5 251,-1351.5 159,-1351.5\"/>\n",
       "<text text-anchor=\"start\" x=\"172.75\" y=\"-1359\" font-family=\"Linux libertine\" font-size=\"10.00\">(5, 140, 128) </text>\n",
       "</g>\n",
       "<!-- 21&#45;&gt;26 -->\n",
       "<g id=\"edge27\" class=\"edge\">\n",
       "<title>21&#45;&gt;26</title>\n",
       "<path fill=\"none\" stroke=\"black\" d=\"M111.11,-1591.63C102.68,-1581.57 93.87,-1568.81 89.5,-1555.5 72.29,-1503.14 66.02,-1481.36 89.5,-1431.5 94.83,-1420.19 103.62,-1410.36 113.17,-1402.2\"/>\n",
       "<polygon fill=\"black\" stroke=\"black\" points=\"115.02,-1404.41 120.69,-1395.46 110.68,-1398.92 115.02,-1404.41\"/>\n",
       "</g>\n",
       "<!-- 25 -->\n",
       "<g id=\"node26\" class=\"node\">\n",
       "<title>25</title>\n",
       "<polygon fill=\"#c1ffc1\" stroke=\"none\" points=\"396.5,-1475.5 98.5,-1475.5 98.5,-1431.5 396.5,-1431.5 396.5,-1475.5\"/>\n",
       "<polygon fill=\"none\" stroke=\"black\" points=\"98.5,-1431.5 98.5,-1475.5 201.5,-1475.5 201.5,-1431.5 98.5,-1431.5\"/>\n",
       "<text text-anchor=\"start\" x=\"103.12\" y=\"-1456.75\" font-family=\"Linux libertine\" font-size=\"10.00\">MultiheadAttention</text>\n",
       "<text text-anchor=\"start\" x=\"131.62\" y=\"-1444\" font-family=\"Linux libertine\" font-size=\"10.00\">depth:3</text>\n",
       "<polygon fill=\"none\" stroke=\"black\" points=\"201.5,-1453.5 201.5,-1475.5 248.5,-1475.5 248.5,-1453.5 201.5,-1453.5\"/>\n",
       "<text text-anchor=\"start\" x=\"211.12\" y=\"-1461\" font-family=\"Linux libertine\" font-size=\"10.00\">input:</text>\n",
       "<polygon fill=\"none\" stroke=\"black\" points=\"248.5,-1453.5 248.5,-1475.5 396.5,-1475.5 396.5,-1453.5 248.5,-1453.5\"/>\n",
       "<text text-anchor=\"start\" x=\"253.5\" y=\"-1461\" font-family=\"Linux libertine\" font-size=\"10.00\">3 x (5, 140, 128), (140, 140) </text>\n",
       "<polygon fill=\"none\" stroke=\"black\" points=\"201.5,-1431.5 201.5,-1453.5 248.5,-1453.5 248.5,-1431.5 201.5,-1431.5\"/>\n",
       "<text text-anchor=\"start\" x=\"206.25\" y=\"-1439\" font-family=\"Linux libertine\" font-size=\"10.00\">output: </text>\n",
       "<polygon fill=\"none\" stroke=\"black\" points=\"248.5,-1431.5 248.5,-1453.5 396.5,-1453.5 396.5,-1431.5 248.5,-1431.5\"/>\n",
       "<text text-anchor=\"start\" x=\"256.5\" y=\"-1439\" font-family=\"Linux libertine\" font-size=\"10.00\">(5, 140, 128), (5, 140, 140) </text>\n",
       "</g>\n",
       "<!-- 22&#45;&gt;25 -->\n",
       "<g id=\"edge28\" class=\"edge\">\n",
       "<title>22&#45;&gt;25</title>\n",
       "<path fill=\"none\" stroke=\"black\" d=\"M206.51,-1511.6C212.53,-1503.2 219.59,-1493.37 226.14,-1484.26\"/>\n",
       "<polygon fill=\"black\" stroke=\"black\" points=\"229.46,-1486.62 232.45,-1476.46 223.78,-1482.54 229.46,-1486.62\"/>\n",
       "</g>\n",
       "<!-- 23 -->\n",
       "<g id=\"node24\" class=\"node\">\n",
       "<title>23</title>\n",
       "<polygon fill=\"aliceblue\" stroke=\"none\" points=\"457,-1635.5 302,-1635.5 302,-1591.5 457,-1591.5 457,-1635.5\"/>\n",
       "<polygon fill=\"none\" stroke=\"black\" points=\"302,-1591.5 302,-1635.5 348,-1635.5 348,-1591.5 302,-1591.5\"/>\n",
       "<text text-anchor=\"start\" x=\"316.75\" y=\"-1616.75\" font-family=\"Linux libertine\" font-size=\"10.00\">triu</text>\n",
       "<text text-anchor=\"start\" x=\"306.62\" y=\"-1604\" font-family=\"Linux libertine\" font-size=\"10.00\">depth:3</text>\n",
       "<polygon fill=\"none\" stroke=\"black\" points=\"348,-1613.5 348,-1635.5 395,-1635.5 395,-1613.5 348,-1613.5\"/>\n",
       "<text text-anchor=\"start\" x=\"357.62\" y=\"-1621\" font-family=\"Linux libertine\" font-size=\"10.00\">input:</text>\n",
       "<polygon fill=\"none\" stroke=\"black\" points=\"395,-1613.5 395,-1635.5 457,-1635.5 457,-1613.5 395,-1613.5\"/>\n",
       "<text text-anchor=\"start\" x=\"399.75\" y=\"-1621\" font-family=\"Linux libertine\" font-size=\"10.00\">(140, 140) </text>\n",
       "<polygon fill=\"none\" stroke=\"black\" points=\"348,-1591.5 348,-1613.5 395,-1613.5 395,-1591.5 348,-1591.5\"/>\n",
       "<text text-anchor=\"start\" x=\"352.75\" y=\"-1599\" font-family=\"Linux libertine\" font-size=\"10.00\">output: </text>\n",
       "<polygon fill=\"none\" stroke=\"black\" points=\"395,-1591.5 395,-1613.5 457,-1613.5 457,-1591.5 395,-1591.5\"/>\n",
       "<text text-anchor=\"start\" x=\"399.75\" y=\"-1599\" font-family=\"Linux libertine\" font-size=\"10.00\">(140, 140) </text>\n",
       "</g>\n",
       "<!-- 24 -->\n",
       "<g id=\"node25\" class=\"node\">\n",
       "<title>24</title>\n",
       "<polygon fill=\"aliceblue\" stroke=\"none\" points=\"457,-1555.5 302,-1555.5 302,-1511.5 457,-1511.5 457,-1555.5\"/>\n",
       "<polygon fill=\"none\" stroke=\"black\" points=\"302,-1511.5 302,-1555.5 348,-1555.5 348,-1511.5 302,-1511.5\"/>\n",
       "<text text-anchor=\"start\" x=\"320.12\" y=\"-1536.75\" font-family=\"Linux libertine\" font-size=\"10.00\">to</text>\n",
       "<text text-anchor=\"start\" x=\"306.62\" y=\"-1524\" font-family=\"Linux libertine\" font-size=\"10.00\">depth:3</text>\n",
       "<polygon fill=\"none\" stroke=\"black\" points=\"348,-1533.5 348,-1555.5 395,-1555.5 395,-1533.5 348,-1533.5\"/>\n",
       "<text text-anchor=\"start\" x=\"357.62\" y=\"-1541\" font-family=\"Linux libertine\" font-size=\"10.00\">input:</text>\n",
       "<polygon fill=\"none\" stroke=\"black\" points=\"395,-1533.5 395,-1555.5 457,-1555.5 457,-1533.5 395,-1533.5\"/>\n",
       "<text text-anchor=\"start\" x=\"399.75\" y=\"-1541\" font-family=\"Linux libertine\" font-size=\"10.00\">(140, 140) </text>\n",
       "<polygon fill=\"none\" stroke=\"black\" points=\"348,-1511.5 348,-1533.5 395,-1533.5 395,-1511.5 348,-1511.5\"/>\n",
       "<text text-anchor=\"start\" x=\"352.75\" y=\"-1519\" font-family=\"Linux libertine\" font-size=\"10.00\">output: </text>\n",
       "<polygon fill=\"none\" stroke=\"black\" points=\"395,-1511.5 395,-1533.5 457,-1533.5 457,-1511.5 395,-1511.5\"/>\n",
       "<text text-anchor=\"start\" x=\"399.75\" y=\"-1519\" font-family=\"Linux libertine\" font-size=\"10.00\">(140, 140) </text>\n",
       "</g>\n",
       "<!-- 23&#45;&gt;24 -->\n",
       "<g id=\"edge29\" class=\"edge\">\n",
       "<title>23&#45;&gt;24</title>\n",
       "<path fill=\"none\" stroke=\"black\" d=\"M379.5,-1591.6C379.5,-1583.82 379.5,-1574.8 379.5,-1566.26\"/>\n",
       "<polygon fill=\"black\" stroke=\"black\" points=\"383,-1566.46 379.5,-1556.46 376,-1566.46 383,-1566.46\"/>\n",
       "</g>\n",
       "<!-- 24&#45;&gt;25 -->\n",
       "<g id=\"edge30\" class=\"edge\">\n",
       "<title>24&#45;&gt;25</title>\n",
       "<path fill=\"none\" stroke=\"black\" d=\"M344.13,-1511.6C328.15,-1502.15 309.09,-1490.89 292.14,-1480.88\"/>\n",
       "<polygon fill=\"black\" stroke=\"black\" points=\"294.36,-1477.53 283.97,-1475.46 290.8,-1483.56 294.36,-1477.53\"/>\n",
       "</g>\n",
       "<!-- 25&#45;&gt;26 -->\n",
       "<g id=\"edge31\" class=\"edge\">\n",
       "<title>25&#45;&gt;26</title>\n",
       "<path fill=\"none\" stroke=\"black\" d=\"M223.65,-1431.6C213.47,-1422.68 201.45,-1412.14 190.51,-1402.56\"/>\n",
       "<polygon fill=\"black\" stroke=\"black\" points=\"193.24,-1399.42 183.42,-1395.46 188.63,-1404.68 193.24,-1399.42\"/>\n",
       "</g>\n",
       "<!-- 27 -->\n",
       "<g id=\"node28\" class=\"node\">\n",
       "<title>27</title>\n",
       "<polygon fill=\"#c1ffc1\" stroke=\"none\" points=\"312,-1315.5 127,-1315.5 127,-1271.5 312,-1271.5 312,-1315.5\"/>\n",
       "<polygon fill=\"none\" stroke=\"black\" points=\"127,-1271.5 127,-1315.5 191,-1315.5 191,-1271.5 127,-1271.5\"/>\n",
       "<text text-anchor=\"start\" x=\"132\" y=\"-1296.75\" font-family=\"Linux libertine\" font-size=\"10.00\">LayerNorm</text>\n",
       "<text text-anchor=\"start\" x=\"140.62\" y=\"-1284\" font-family=\"Linux libertine\" font-size=\"10.00\">depth:3</text>\n",
       "<polygon fill=\"none\" stroke=\"black\" points=\"191,-1293.5 191,-1315.5 238,-1315.5 238,-1293.5 191,-1293.5\"/>\n",
       "<text text-anchor=\"start\" x=\"200.62\" y=\"-1301\" font-family=\"Linux libertine\" font-size=\"10.00\">input:</text>\n",
       "<polygon fill=\"none\" stroke=\"black\" points=\"238,-1293.5 238,-1315.5 312,-1315.5 312,-1293.5 238,-1293.5\"/>\n",
       "<text text-anchor=\"start\" x=\"242.75\" y=\"-1301\" font-family=\"Linux libertine\" font-size=\"10.00\">(5, 140, 128) </text>\n",
       "<polygon fill=\"none\" stroke=\"black\" points=\"191,-1271.5 191,-1293.5 238,-1293.5 238,-1271.5 191,-1271.5\"/>\n",
       "<text text-anchor=\"start\" x=\"195.75\" y=\"-1279\" font-family=\"Linux libertine\" font-size=\"10.00\">output: </text>\n",
       "<polygon fill=\"none\" stroke=\"black\" points=\"238,-1271.5 238,-1293.5 312,-1293.5 312,-1271.5 238,-1271.5\"/>\n",
       "<text text-anchor=\"start\" x=\"242.75\" y=\"-1279\" font-family=\"Linux libertine\" font-size=\"10.00\">(5, 140, 128) </text>\n",
       "</g>\n",
       "<!-- 26&#45;&gt;27 -->\n",
       "<g id=\"edge32\" class=\"edge\">\n",
       "<title>26&#45;&gt;27</title>\n",
       "<path fill=\"none\" stroke=\"black\" d=\"M174.85,-1351.6C181.48,-1343.12 189.26,-1333.17 196.45,-1323.97\"/>\n",
       "<polygon fill=\"black\" stroke=\"black\" points=\"199.7,-1326.49 203.11,-1316.46 194.19,-1322.18 199.7,-1326.49\"/>\n",
       "</g>\n",
       "<!-- 30 -->\n",
       "<g id=\"node31\" class=\"node\">\n",
       "<title>30</title>\n",
       "<polygon fill=\"aliceblue\" stroke=\"none\" points=\"247,-1075.5 62,-1075.5 62,-1031.5 247,-1031.5 247,-1075.5\"/>\n",
       "<polygon fill=\"none\" stroke=\"black\" points=\"62,-1031.5 62,-1075.5 108,-1075.5 108,-1031.5 62,-1031.5\"/>\n",
       "<text text-anchor=\"start\" x=\"76\" y=\"-1056.75\" font-family=\"Linux libertine\" font-size=\"10.00\">add</text>\n",
       "<text text-anchor=\"start\" x=\"66.62\" y=\"-1044\" font-family=\"Linux libertine\" font-size=\"10.00\">depth:3</text>\n",
       "<polygon fill=\"none\" stroke=\"black\" points=\"108,-1053.5 108,-1075.5 155,-1075.5 155,-1053.5 108,-1053.5\"/>\n",
       "<text text-anchor=\"start\" x=\"117.62\" y=\"-1061\" font-family=\"Linux libertine\" font-size=\"10.00\">input:</text>\n",
       "<polygon fill=\"none\" stroke=\"black\" points=\"155,-1053.5 155,-1075.5 247,-1075.5 247,-1053.5 155,-1053.5\"/>\n",
       "<text text-anchor=\"start\" x=\"159.75\" y=\"-1061\" font-family=\"Linux libertine\" font-size=\"10.00\">2 x (5, 140, 128) </text>\n",
       "<polygon fill=\"none\" stroke=\"black\" points=\"108,-1031.5 108,-1053.5 155,-1053.5 155,-1031.5 108,-1031.5\"/>\n",
       "<text text-anchor=\"start\" x=\"112.75\" y=\"-1039\" font-family=\"Linux libertine\" font-size=\"10.00\">output: </text>\n",
       "<polygon fill=\"none\" stroke=\"black\" points=\"155,-1031.5 155,-1053.5 247,-1053.5 247,-1031.5 155,-1031.5\"/>\n",
       "<text text-anchor=\"start\" x=\"168.75\" y=\"-1039\" font-family=\"Linux libertine\" font-size=\"10.00\">(5, 140, 128) </text>\n",
       "</g>\n",
       "<!-- 26&#45;&gt;30 -->\n",
       "<g id=\"edge33\" class=\"edge\">\n",
       "<title>26&#45;&gt;30</title>\n",
       "<path fill=\"none\" stroke=\"black\" d=\"M138.58,-1351.55C130.36,-1341.48 121.76,-1328.73 117.5,-1315.5 106.75,-1282.15 88.23,-1229.47 121.5,-1111.5 124.11,-1102.25 128.57,-1092.92 133.37,-1084.57\"/>\n",
       "<polygon fill=\"black\" stroke=\"black\" points=\"136.83,-1086.63 139.09,-1076.28 130.87,-1082.96 136.83,-1086.63\"/>\n",
       "</g>\n",
       "<!-- 28 -->\n",
       "<g id=\"node29\" class=\"node\">\n",
       "<title>28</title>\n",
       "<polygon fill=\"#c1ffc1\" stroke=\"none\" points=\"300,-1235.5 133,-1235.5 133,-1191.5 300,-1191.5 300,-1235.5\"/>\n",
       "<polygon fill=\"none\" stroke=\"black\" points=\"133,-1191.5 133,-1235.5 179,-1235.5 179,-1191.5 133,-1191.5\"/>\n",
       "<text text-anchor=\"start\" x=\"141\" y=\"-1216.75\" font-family=\"Linux libertine\" font-size=\"10.00\">Linear</text>\n",
       "<text text-anchor=\"start\" x=\"137.62\" y=\"-1204\" font-family=\"Linux libertine\" font-size=\"10.00\">depth:3</text>\n",
       "<polygon fill=\"none\" stroke=\"black\" points=\"179,-1213.5 179,-1235.5 226,-1235.5 226,-1213.5 179,-1213.5\"/>\n",
       "<text text-anchor=\"start\" x=\"188.62\" y=\"-1221\" font-family=\"Linux libertine\" font-size=\"10.00\">input:</text>\n",
       "<polygon fill=\"none\" stroke=\"black\" points=\"226,-1213.5 226,-1235.5 300,-1235.5 300,-1213.5 226,-1213.5\"/>\n",
       "<text text-anchor=\"start\" x=\"230.75\" y=\"-1221\" font-family=\"Linux libertine\" font-size=\"10.00\">(5, 140, 128) </text>\n",
       "<polygon fill=\"none\" stroke=\"black\" points=\"179,-1191.5 179,-1213.5 226,-1213.5 226,-1191.5 179,-1191.5\"/>\n",
       "<text text-anchor=\"start\" x=\"183.75\" y=\"-1199\" font-family=\"Linux libertine\" font-size=\"10.00\">output: </text>\n",
       "<polygon fill=\"none\" stroke=\"black\" points=\"226,-1191.5 226,-1213.5 300,-1213.5 300,-1191.5 226,-1191.5\"/>\n",
       "<text text-anchor=\"start\" x=\"230.75\" y=\"-1199\" font-family=\"Linux libertine\" font-size=\"10.00\">(5, 140, 128) </text>\n",
       "</g>\n",
       "<!-- 27&#45;&gt;28 -->\n",
       "<g id=\"edge34\" class=\"edge\">\n",
       "<title>27&#45;&gt;28</title>\n",
       "<path fill=\"none\" stroke=\"black\" d=\"M218.7,-1271.6C218.4,-1263.82 218.05,-1254.8 217.72,-1246.26\"/>\n",
       "<polygon fill=\"black\" stroke=\"black\" points=\"221.19,-1246.32 217.31,-1236.46 214.19,-1246.59 221.19,-1246.32\"/>\n",
       "</g>\n",
       "<!-- 29 -->\n",
       "<g id=\"node30\" class=\"node\">\n",
       "<title>29</title>\n",
       "<polygon fill=\"#c1ffc1\" stroke=\"none\" points=\"298,-1155.5 131,-1155.5 131,-1111.5 298,-1111.5 298,-1155.5\"/>\n",
       "<polygon fill=\"none\" stroke=\"black\" points=\"131,-1111.5 131,-1155.5 177,-1155.5 177,-1111.5 131,-1111.5\"/>\n",
       "<text text-anchor=\"start\" x=\"140.88\" y=\"-1136.75\" font-family=\"Linux libertine\" font-size=\"10.00\">GELU</text>\n",
       "<text text-anchor=\"start\" x=\"135.62\" y=\"-1124\" font-family=\"Linux libertine\" font-size=\"10.00\">depth:3</text>\n",
       "<polygon fill=\"none\" stroke=\"black\" points=\"177,-1133.5 177,-1155.5 224,-1155.5 224,-1133.5 177,-1133.5\"/>\n",
       "<text text-anchor=\"start\" x=\"186.62\" y=\"-1141\" font-family=\"Linux libertine\" font-size=\"10.00\">input:</text>\n",
       "<polygon fill=\"none\" stroke=\"black\" points=\"224,-1133.5 224,-1155.5 298,-1155.5 298,-1133.5 224,-1133.5\"/>\n",
       "<text text-anchor=\"start\" x=\"228.75\" y=\"-1141\" font-family=\"Linux libertine\" font-size=\"10.00\">(5, 140, 128) </text>\n",
       "<polygon fill=\"none\" stroke=\"black\" points=\"177,-1111.5 177,-1133.5 224,-1133.5 224,-1111.5 177,-1111.5\"/>\n",
       "<text text-anchor=\"start\" x=\"181.75\" y=\"-1119\" font-family=\"Linux libertine\" font-size=\"10.00\">output: </text>\n",
       "<polygon fill=\"none\" stroke=\"black\" points=\"224,-1111.5 224,-1133.5 298,-1133.5 298,-1111.5 224,-1111.5\"/>\n",
       "<text text-anchor=\"start\" x=\"228.75\" y=\"-1119\" font-family=\"Linux libertine\" font-size=\"10.00\">(5, 140, 128) </text>\n",
       "</g>\n",
       "<!-- 28&#45;&gt;29 -->\n",
       "<g id=\"edge35\" class=\"edge\">\n",
       "<title>28&#45;&gt;29</title>\n",
       "<path fill=\"none\" stroke=\"black\" d=\"M215.96,-1191.6C215.76,-1183.82 215.53,-1174.8 215.31,-1166.26\"/>\n",
       "<polygon fill=\"black\" stroke=\"black\" points=\"218.79,-1166.37 215.04,-1156.46 211.8,-1166.55 218.79,-1166.37\"/>\n",
       "</g>\n",
       "<!-- 29&#45;&gt;30 -->\n",
       "<g id=\"edge36\" class=\"edge\">\n",
       "<title>29&#45;&gt;30</title>\n",
       "<path fill=\"none\" stroke=\"black\" d=\"M198.42,-1111.6C191.9,-1103.12 184.25,-1093.17 177.17,-1083.97\"/>\n",
       "<polygon fill=\"black\" stroke=\"black\" points=\"179.49,-1082.25 170.62,-1076.46 173.95,-1086.52 179.49,-1082.25\"/>\n",
       "</g>\n",
       "<!-- 31 -->\n",
       "<g id=\"node32\" class=\"node\">\n",
       "<title>31</title>\n",
       "<polygon fill=\"#c1ffc1\" stroke=\"none\" points=\"307,-995.5 122,-995.5 122,-951.5 307,-951.5 307,-995.5\"/>\n",
       "<polygon fill=\"none\" stroke=\"black\" points=\"122,-951.5 122,-995.5 186,-995.5 186,-951.5 122,-951.5\"/>\n",
       "<text text-anchor=\"start\" x=\"127\" y=\"-976.75\" font-family=\"Linux libertine\" font-size=\"10.00\">LayerNorm</text>\n",
       "<text text-anchor=\"start\" x=\"135.62\" y=\"-964\" font-family=\"Linux libertine\" font-size=\"10.00\">depth:3</text>\n",
       "<polygon fill=\"none\" stroke=\"black\" points=\"186,-973.5 186,-995.5 233,-995.5 233,-973.5 186,-973.5\"/>\n",
       "<text text-anchor=\"start\" x=\"195.62\" y=\"-981\" font-family=\"Linux libertine\" font-size=\"10.00\">input:</text>\n",
       "<polygon fill=\"none\" stroke=\"black\" points=\"233,-973.5 233,-995.5 307,-995.5 307,-973.5 233,-973.5\"/>\n",
       "<text text-anchor=\"start\" x=\"237.75\" y=\"-981\" font-family=\"Linux libertine\" font-size=\"10.00\">(5, 140, 128) </text>\n",
       "<polygon fill=\"none\" stroke=\"black\" points=\"186,-951.5 186,-973.5 233,-973.5 233,-951.5 186,-951.5\"/>\n",
       "<text text-anchor=\"start\" x=\"190.75\" y=\"-959\" font-family=\"Linux libertine\" font-size=\"10.00\">output: </text>\n",
       "<polygon fill=\"none\" stroke=\"black\" points=\"233,-951.5 233,-973.5 307,-973.5 307,-951.5 233,-951.5\"/>\n",
       "<text text-anchor=\"start\" x=\"237.75\" y=\"-959\" font-family=\"Linux libertine\" font-size=\"10.00\">(5, 140, 128) </text>\n",
       "</g>\n",
       "<!-- 30&#45;&gt;31 -->\n",
       "<g id=\"edge37\" class=\"edge\">\n",
       "<title>30&#45;&gt;31</title>\n",
       "<path fill=\"none\" stroke=\"black\" d=\"M170.58,-1031.6C177.1,-1023.12 184.75,-1013.17 191.83,-1003.97\"/>\n",
       "<polygon fill=\"black\" stroke=\"black\" points=\"195.05,-1006.52 198.38,-996.46 189.51,-1002.25 195.05,-1006.52\"/>\n",
       "</g>\n",
       "<!-- 35 -->\n",
       "<g id=\"node36\" class=\"node\">\n",
       "<title>35</title>\n",
       "<polygon fill=\"aliceblue\" stroke=\"none\" points=\"274,-835.5 89,-835.5 89,-791.5 274,-791.5 274,-835.5\"/>\n",
       "<polygon fill=\"none\" stroke=\"black\" points=\"89,-791.5 89,-835.5 135,-835.5 135,-791.5 89,-791.5\"/>\n",
       "<text text-anchor=\"start\" x=\"103\" y=\"-816.75\" font-family=\"Linux libertine\" font-size=\"10.00\">add</text>\n",
       "<text text-anchor=\"start\" x=\"93.62\" y=\"-804\" font-family=\"Linux libertine\" font-size=\"10.00\">depth:3</text>\n",
       "<polygon fill=\"none\" stroke=\"black\" points=\"135,-813.5 135,-835.5 182,-835.5 182,-813.5 135,-813.5\"/>\n",
       "<text text-anchor=\"start\" x=\"144.62\" y=\"-821\" font-family=\"Linux libertine\" font-size=\"10.00\">input:</text>\n",
       "<polygon fill=\"none\" stroke=\"black\" points=\"182,-813.5 182,-835.5 274,-835.5 274,-813.5 182,-813.5\"/>\n",
       "<text text-anchor=\"start\" x=\"186.75\" y=\"-821\" font-family=\"Linux libertine\" font-size=\"10.00\">2 x (5, 140, 128) </text>\n",
       "<polygon fill=\"none\" stroke=\"black\" points=\"135,-791.5 135,-813.5 182,-813.5 182,-791.5 135,-791.5\"/>\n",
       "<text text-anchor=\"start\" x=\"139.75\" y=\"-799\" font-family=\"Linux libertine\" font-size=\"10.00\">output: </text>\n",
       "<polygon fill=\"none\" stroke=\"black\" points=\"182,-791.5 182,-813.5 274,-813.5 274,-791.5 182,-791.5\"/>\n",
       "<text text-anchor=\"start\" x=\"195.75\" y=\"-799\" font-family=\"Linux libertine\" font-size=\"10.00\">(5, 140, 128) </text>\n",
       "</g>\n",
       "<!-- 30&#45;&gt;35 -->\n",
       "<g id=\"edge38\" class=\"edge\">\n",
       "<title>30&#45;&gt;35</title>\n",
       "<path fill=\"none\" stroke=\"black\" d=\"M134.11,-1031.63C125.68,-1021.57 116.87,-1008.81 112.5,-995.5 95.29,-943.14 89.02,-921.36 112.5,-871.5 117.83,-860.19 126.62,-850.36 136.17,-842.2\"/>\n",
       "<polygon fill=\"black\" stroke=\"black\" points=\"138.02,-844.41 143.69,-835.46 133.68,-838.92 138.02,-844.41\"/>\n",
       "</g>\n",
       "<!-- 34 -->\n",
       "<g id=\"node35\" class=\"node\">\n",
       "<title>34</title>\n",
       "<polygon fill=\"#c1ffc1\" stroke=\"none\" points=\"419.5,-915.5 121.5,-915.5 121.5,-871.5 419.5,-871.5 419.5,-915.5\"/>\n",
       "<polygon fill=\"none\" stroke=\"black\" points=\"121.5,-871.5 121.5,-915.5 224.5,-915.5 224.5,-871.5 121.5,-871.5\"/>\n",
       "<text text-anchor=\"start\" x=\"126.12\" y=\"-896.75\" font-family=\"Linux libertine\" font-size=\"10.00\">MultiheadAttention</text>\n",
       "<text text-anchor=\"start\" x=\"154.62\" y=\"-884\" font-family=\"Linux libertine\" font-size=\"10.00\">depth:3</text>\n",
       "<polygon fill=\"none\" stroke=\"black\" points=\"224.5,-893.5 224.5,-915.5 271.5,-915.5 271.5,-893.5 224.5,-893.5\"/>\n",
       "<text text-anchor=\"start\" x=\"234.12\" y=\"-901\" font-family=\"Linux libertine\" font-size=\"10.00\">input:</text>\n",
       "<polygon fill=\"none\" stroke=\"black\" points=\"271.5,-893.5 271.5,-915.5 419.5,-915.5 419.5,-893.5 271.5,-893.5\"/>\n",
       "<text text-anchor=\"start\" x=\"276.5\" y=\"-901\" font-family=\"Linux libertine\" font-size=\"10.00\">3 x (5, 140, 128), (140, 140) </text>\n",
       "<polygon fill=\"none\" stroke=\"black\" points=\"224.5,-871.5 224.5,-893.5 271.5,-893.5 271.5,-871.5 224.5,-871.5\"/>\n",
       "<text text-anchor=\"start\" x=\"229.25\" y=\"-879\" font-family=\"Linux libertine\" font-size=\"10.00\">output: </text>\n",
       "<polygon fill=\"none\" stroke=\"black\" points=\"271.5,-871.5 271.5,-893.5 419.5,-893.5 419.5,-871.5 271.5,-871.5\"/>\n",
       "<text text-anchor=\"start\" x=\"279.5\" y=\"-879\" font-family=\"Linux libertine\" font-size=\"10.00\">(5, 140, 128), (5, 140, 140) </text>\n",
       "</g>\n",
       "<!-- 31&#45;&gt;34 -->\n",
       "<g id=\"edge39\" class=\"edge\">\n",
       "<title>31&#45;&gt;34</title>\n",
       "<path fill=\"none\" stroke=\"black\" d=\"M229.51,-951.6C235.53,-943.2 242.59,-933.37 249.14,-924.26\"/>\n",
       "<polygon fill=\"black\" stroke=\"black\" points=\"252.46,-926.62 255.45,-916.46 246.78,-922.54 252.46,-926.62\"/>\n",
       "</g>\n",
       "<!-- 32 -->\n",
       "<g id=\"node33\" class=\"node\">\n",
       "<title>32</title>\n",
       "<polygon fill=\"aliceblue\" stroke=\"none\" points=\"480,-1075.5 325,-1075.5 325,-1031.5 480,-1031.5 480,-1075.5\"/>\n",
       "<polygon fill=\"none\" stroke=\"black\" points=\"325,-1031.5 325,-1075.5 371,-1075.5 371,-1031.5 325,-1031.5\"/>\n",
       "<text text-anchor=\"start\" x=\"339.75\" y=\"-1056.75\" font-family=\"Linux libertine\" font-size=\"10.00\">triu</text>\n",
       "<text text-anchor=\"start\" x=\"329.62\" y=\"-1044\" font-family=\"Linux libertine\" font-size=\"10.00\">depth:3</text>\n",
       "<polygon fill=\"none\" stroke=\"black\" points=\"371,-1053.5 371,-1075.5 418,-1075.5 418,-1053.5 371,-1053.5\"/>\n",
       "<text text-anchor=\"start\" x=\"380.62\" y=\"-1061\" font-family=\"Linux libertine\" font-size=\"10.00\">input:</text>\n",
       "<polygon fill=\"none\" stroke=\"black\" points=\"418,-1053.5 418,-1075.5 480,-1075.5 480,-1053.5 418,-1053.5\"/>\n",
       "<text text-anchor=\"start\" x=\"422.75\" y=\"-1061\" font-family=\"Linux libertine\" font-size=\"10.00\">(140, 140) </text>\n",
       "<polygon fill=\"none\" stroke=\"black\" points=\"371,-1031.5 371,-1053.5 418,-1053.5 418,-1031.5 371,-1031.5\"/>\n",
       "<text text-anchor=\"start\" x=\"375.75\" y=\"-1039\" font-family=\"Linux libertine\" font-size=\"10.00\">output: </text>\n",
       "<polygon fill=\"none\" stroke=\"black\" points=\"418,-1031.5 418,-1053.5 480,-1053.5 480,-1031.5 418,-1031.5\"/>\n",
       "<text text-anchor=\"start\" x=\"422.75\" y=\"-1039\" font-family=\"Linux libertine\" font-size=\"10.00\">(140, 140) </text>\n",
       "</g>\n",
       "<!-- 33 -->\n",
       "<g id=\"node34\" class=\"node\">\n",
       "<title>33</title>\n",
       "<polygon fill=\"aliceblue\" stroke=\"none\" points=\"480,-995.5 325,-995.5 325,-951.5 480,-951.5 480,-995.5\"/>\n",
       "<polygon fill=\"none\" stroke=\"black\" points=\"325,-951.5 325,-995.5 371,-995.5 371,-951.5 325,-951.5\"/>\n",
       "<text text-anchor=\"start\" x=\"343.12\" y=\"-976.75\" font-family=\"Linux libertine\" font-size=\"10.00\">to</text>\n",
       "<text text-anchor=\"start\" x=\"329.62\" y=\"-964\" font-family=\"Linux libertine\" font-size=\"10.00\">depth:3</text>\n",
       "<polygon fill=\"none\" stroke=\"black\" points=\"371,-973.5 371,-995.5 418,-995.5 418,-973.5 371,-973.5\"/>\n",
       "<text text-anchor=\"start\" x=\"380.62\" y=\"-981\" font-family=\"Linux libertine\" font-size=\"10.00\">input:</text>\n",
       "<polygon fill=\"none\" stroke=\"black\" points=\"418,-973.5 418,-995.5 480,-995.5 480,-973.5 418,-973.5\"/>\n",
       "<text text-anchor=\"start\" x=\"422.75\" y=\"-981\" font-family=\"Linux libertine\" font-size=\"10.00\">(140, 140) </text>\n",
       "<polygon fill=\"none\" stroke=\"black\" points=\"371,-951.5 371,-973.5 418,-973.5 418,-951.5 371,-951.5\"/>\n",
       "<text text-anchor=\"start\" x=\"375.75\" y=\"-959\" font-family=\"Linux libertine\" font-size=\"10.00\">output: </text>\n",
       "<polygon fill=\"none\" stroke=\"black\" points=\"418,-951.5 418,-973.5 480,-973.5 480,-951.5 418,-951.5\"/>\n",
       "<text text-anchor=\"start\" x=\"422.75\" y=\"-959\" font-family=\"Linux libertine\" font-size=\"10.00\">(140, 140) </text>\n",
       "</g>\n",
       "<!-- 32&#45;&gt;33 -->\n",
       "<g id=\"edge40\" class=\"edge\">\n",
       "<title>32&#45;&gt;33</title>\n",
       "<path fill=\"none\" stroke=\"black\" d=\"M402.5,-1031.6C402.5,-1023.82 402.5,-1014.8 402.5,-1006.26\"/>\n",
       "<polygon fill=\"black\" stroke=\"black\" points=\"406,-1006.46 402.5,-996.46 399,-1006.46 406,-1006.46\"/>\n",
       "</g>\n",
       "<!-- 33&#45;&gt;34 -->\n",
       "<g id=\"edge41\" class=\"edge\">\n",
       "<title>33&#45;&gt;34</title>\n",
       "<path fill=\"none\" stroke=\"black\" d=\"M367.13,-951.6C351.15,-942.15 332.09,-930.89 315.14,-920.88\"/>\n",
       "<polygon fill=\"black\" stroke=\"black\" points=\"317.36,-917.53 306.97,-915.46 313.8,-923.56 317.36,-917.53\"/>\n",
       "</g>\n",
       "<!-- 34&#45;&gt;35 -->\n",
       "<g id=\"edge42\" class=\"edge\">\n",
       "<title>34&#45;&gt;35</title>\n",
       "<path fill=\"none\" stroke=\"black\" d=\"M246.65,-871.6C236.47,-862.68 224.45,-852.14 213.51,-842.56\"/>\n",
       "<polygon fill=\"black\" stroke=\"black\" points=\"216.24,-839.42 206.42,-835.46 211.63,-844.68 216.24,-839.42\"/>\n",
       "</g>\n",
       "<!-- 36 -->\n",
       "<g id=\"node37\" class=\"node\">\n",
       "<title>36</title>\n",
       "<polygon fill=\"#c1ffc1\" stroke=\"none\" points=\"335,-755.5 150,-755.5 150,-711.5 335,-711.5 335,-755.5\"/>\n",
       "<polygon fill=\"none\" stroke=\"black\" points=\"150,-711.5 150,-755.5 214,-755.5 214,-711.5 150,-711.5\"/>\n",
       "<text text-anchor=\"start\" x=\"155\" y=\"-736.75\" font-family=\"Linux libertine\" font-size=\"10.00\">LayerNorm</text>\n",
       "<text text-anchor=\"start\" x=\"163.62\" y=\"-724\" font-family=\"Linux libertine\" font-size=\"10.00\">depth:3</text>\n",
       "<polygon fill=\"none\" stroke=\"black\" points=\"214,-733.5 214,-755.5 261,-755.5 261,-733.5 214,-733.5\"/>\n",
       "<text text-anchor=\"start\" x=\"223.62\" y=\"-741\" font-family=\"Linux libertine\" font-size=\"10.00\">input:</text>\n",
       "<polygon fill=\"none\" stroke=\"black\" points=\"261,-733.5 261,-755.5 335,-755.5 335,-733.5 261,-733.5\"/>\n",
       "<text text-anchor=\"start\" x=\"265.75\" y=\"-741\" font-family=\"Linux libertine\" font-size=\"10.00\">(5, 140, 128) </text>\n",
       "<polygon fill=\"none\" stroke=\"black\" points=\"214,-711.5 214,-733.5 261,-733.5 261,-711.5 214,-711.5\"/>\n",
       "<text text-anchor=\"start\" x=\"218.75\" y=\"-719\" font-family=\"Linux libertine\" font-size=\"10.00\">output: </text>\n",
       "<polygon fill=\"none\" stroke=\"black\" points=\"261,-711.5 261,-733.5 335,-733.5 335,-711.5 261,-711.5\"/>\n",
       "<text text-anchor=\"start\" x=\"265.75\" y=\"-719\" font-family=\"Linux libertine\" font-size=\"10.00\">(5, 140, 128) </text>\n",
       "</g>\n",
       "<!-- 35&#45;&gt;36 -->\n",
       "<g id=\"edge43\" class=\"edge\">\n",
       "<title>35&#45;&gt;36</title>\n",
       "<path fill=\"none\" stroke=\"black\" d=\"M197.85,-791.6C204.48,-783.12 212.26,-773.17 219.45,-763.97\"/>\n",
       "<polygon fill=\"black\" stroke=\"black\" points=\"222.7,-766.49 226.11,-756.46 217.19,-762.18 222.7,-766.49\"/>\n",
       "</g>\n",
       "<!-- 39 -->\n",
       "<g id=\"node40\" class=\"node\">\n",
       "<title>39</title>\n",
       "<polygon fill=\"aliceblue\" stroke=\"none\" points=\"270,-515.5 85,-515.5 85,-471.5 270,-471.5 270,-515.5\"/>\n",
       "<polygon fill=\"none\" stroke=\"black\" points=\"85,-471.5 85,-515.5 131,-515.5 131,-471.5 85,-471.5\"/>\n",
       "<text text-anchor=\"start\" x=\"99\" y=\"-496.75\" font-family=\"Linux libertine\" font-size=\"10.00\">add</text>\n",
       "<text text-anchor=\"start\" x=\"89.62\" y=\"-484\" font-family=\"Linux libertine\" font-size=\"10.00\">depth:3</text>\n",
       "<polygon fill=\"none\" stroke=\"black\" points=\"131,-493.5 131,-515.5 178,-515.5 178,-493.5 131,-493.5\"/>\n",
       "<text text-anchor=\"start\" x=\"140.62\" y=\"-501\" font-family=\"Linux libertine\" font-size=\"10.00\">input:</text>\n",
       "<polygon fill=\"none\" stroke=\"black\" points=\"178,-493.5 178,-515.5 270,-515.5 270,-493.5 178,-493.5\"/>\n",
       "<text text-anchor=\"start\" x=\"182.75\" y=\"-501\" font-family=\"Linux libertine\" font-size=\"10.00\">2 x (5, 140, 128) </text>\n",
       "<polygon fill=\"none\" stroke=\"black\" points=\"131,-471.5 131,-493.5 178,-493.5 178,-471.5 131,-471.5\"/>\n",
       "<text text-anchor=\"start\" x=\"135.75\" y=\"-479\" font-family=\"Linux libertine\" font-size=\"10.00\">output: </text>\n",
       "<polygon fill=\"none\" stroke=\"black\" points=\"178,-471.5 178,-493.5 270,-493.5 270,-471.5 178,-471.5\"/>\n",
       "<text text-anchor=\"start\" x=\"191.75\" y=\"-479\" font-family=\"Linux libertine\" font-size=\"10.00\">(5, 140, 128) </text>\n",
       "</g>\n",
       "<!-- 35&#45;&gt;39 -->\n",
       "<g id=\"edge44\" class=\"edge\">\n",
       "<title>35&#45;&gt;39</title>\n",
       "<path fill=\"none\" stroke=\"black\" d=\"M161.58,-791.55C153.36,-781.48 144.76,-768.73 140.5,-755.5 129.75,-722.15 111.23,-669.47 144.5,-551.5 147.11,-542.25 151.57,-532.92 156.37,-524.57\"/>\n",
       "<polygon fill=\"black\" stroke=\"black\" points=\"159.83,-526.63 162.09,-516.28 153.87,-522.96 159.83,-526.63\"/>\n",
       "</g>\n",
       "<!-- 37 -->\n",
       "<g id=\"node38\" class=\"node\">\n",
       "<title>37</title>\n",
       "<polygon fill=\"#c1ffc1\" stroke=\"none\" points=\"323,-675.5 156,-675.5 156,-631.5 323,-631.5 323,-675.5\"/>\n",
       "<polygon fill=\"none\" stroke=\"black\" points=\"156,-631.5 156,-675.5 202,-675.5 202,-631.5 156,-631.5\"/>\n",
       "<text text-anchor=\"start\" x=\"164\" y=\"-656.75\" font-family=\"Linux libertine\" font-size=\"10.00\">Linear</text>\n",
       "<text text-anchor=\"start\" x=\"160.62\" y=\"-644\" font-family=\"Linux libertine\" font-size=\"10.00\">depth:3</text>\n",
       "<polygon fill=\"none\" stroke=\"black\" points=\"202,-653.5 202,-675.5 249,-675.5 249,-653.5 202,-653.5\"/>\n",
       "<text text-anchor=\"start\" x=\"211.62\" y=\"-661\" font-family=\"Linux libertine\" font-size=\"10.00\">input:</text>\n",
       "<polygon fill=\"none\" stroke=\"black\" points=\"249,-653.5 249,-675.5 323,-675.5 323,-653.5 249,-653.5\"/>\n",
       "<text text-anchor=\"start\" x=\"253.75\" y=\"-661\" font-family=\"Linux libertine\" font-size=\"10.00\">(5, 140, 128) </text>\n",
       "<polygon fill=\"none\" stroke=\"black\" points=\"202,-631.5 202,-653.5 249,-653.5 249,-631.5 202,-631.5\"/>\n",
       "<text text-anchor=\"start\" x=\"206.75\" y=\"-639\" font-family=\"Linux libertine\" font-size=\"10.00\">output: </text>\n",
       "<polygon fill=\"none\" stroke=\"black\" points=\"249,-631.5 249,-653.5 323,-653.5 323,-631.5 249,-631.5\"/>\n",
       "<text text-anchor=\"start\" x=\"253.75\" y=\"-639\" font-family=\"Linux libertine\" font-size=\"10.00\">(5, 140, 128) </text>\n",
       "</g>\n",
       "<!-- 36&#45;&gt;37 -->\n",
       "<g id=\"edge45\" class=\"edge\">\n",
       "<title>36&#45;&gt;37</title>\n",
       "<path fill=\"none\" stroke=\"black\" d=\"M241.7,-711.6C241.4,-703.82 241.05,-694.8 240.72,-686.26\"/>\n",
       "<polygon fill=\"black\" stroke=\"black\" points=\"244.19,-686.32 240.31,-676.46 237.19,-686.59 244.19,-686.32\"/>\n",
       "</g>\n",
       "<!-- 38 -->\n",
       "<g id=\"node39\" class=\"node\">\n",
       "<title>38</title>\n",
       "<polygon fill=\"#c1ffc1\" stroke=\"none\" points=\"321,-595.5 154,-595.5 154,-551.5 321,-551.5 321,-595.5\"/>\n",
       "<polygon fill=\"none\" stroke=\"black\" points=\"154,-551.5 154,-595.5 200,-595.5 200,-551.5 154,-551.5\"/>\n",
       "<text text-anchor=\"start\" x=\"163.88\" y=\"-576.75\" font-family=\"Linux libertine\" font-size=\"10.00\">GELU</text>\n",
       "<text text-anchor=\"start\" x=\"158.62\" y=\"-564\" font-family=\"Linux libertine\" font-size=\"10.00\">depth:3</text>\n",
       "<polygon fill=\"none\" stroke=\"black\" points=\"200,-573.5 200,-595.5 247,-595.5 247,-573.5 200,-573.5\"/>\n",
       "<text text-anchor=\"start\" x=\"209.62\" y=\"-581\" font-family=\"Linux libertine\" font-size=\"10.00\">input:</text>\n",
       "<polygon fill=\"none\" stroke=\"black\" points=\"247,-573.5 247,-595.5 321,-595.5 321,-573.5 247,-573.5\"/>\n",
       "<text text-anchor=\"start\" x=\"251.75\" y=\"-581\" font-family=\"Linux libertine\" font-size=\"10.00\">(5, 140, 128) </text>\n",
       "<polygon fill=\"none\" stroke=\"black\" points=\"200,-551.5 200,-573.5 247,-573.5 247,-551.5 200,-551.5\"/>\n",
       "<text text-anchor=\"start\" x=\"204.75\" y=\"-559\" font-family=\"Linux libertine\" font-size=\"10.00\">output: </text>\n",
       "<polygon fill=\"none\" stroke=\"black\" points=\"247,-551.5 247,-573.5 321,-573.5 321,-551.5 247,-551.5\"/>\n",
       "<text text-anchor=\"start\" x=\"251.75\" y=\"-559\" font-family=\"Linux libertine\" font-size=\"10.00\">(5, 140, 128) </text>\n",
       "</g>\n",
       "<!-- 37&#45;&gt;38 -->\n",
       "<g id=\"edge46\" class=\"edge\">\n",
       "<title>37&#45;&gt;38</title>\n",
       "<path fill=\"none\" stroke=\"black\" d=\"M238.96,-631.6C238.76,-623.82 238.53,-614.8 238.31,-606.26\"/>\n",
       "<polygon fill=\"black\" stroke=\"black\" points=\"241.79,-606.37 238.04,-596.46 234.8,-606.55 241.79,-606.37\"/>\n",
       "</g>\n",
       "<!-- 38&#45;&gt;39 -->\n",
       "<g id=\"edge47\" class=\"edge\">\n",
       "<title>38&#45;&gt;39</title>\n",
       "<path fill=\"none\" stroke=\"black\" d=\"M221.42,-551.6C214.9,-543.12 207.25,-533.17 200.17,-523.97\"/>\n",
       "<polygon fill=\"black\" stroke=\"black\" points=\"202.49,-522.25 193.62,-516.46 196.95,-526.52 202.49,-522.25\"/>\n",
       "</g>\n",
       "<!-- 40 -->\n",
       "<g id=\"node41\" class=\"node\">\n",
       "<title>40</title>\n",
       "<polygon fill=\"aliceblue\" stroke=\"none\" points=\"263.5,-435.5 91.5,-435.5 91.5,-391.5 263.5,-391.5 263.5,-435.5\"/>\n",
       "<polygon fill=\"none\" stroke=\"black\" points=\"91.5,-391.5 91.5,-435.5 142.5,-435.5 142.5,-391.5 91.5,-391.5\"/>\n",
       "<text text-anchor=\"start\" x=\"96.38\" y=\"-416.75\" font-family=\"Linux libertine\" font-size=\"10.00\">permute</text>\n",
       "<text text-anchor=\"start\" x=\"98.62\" y=\"-404\" font-family=\"Linux libertine\" font-size=\"10.00\">depth:1</text>\n",
       "<polygon fill=\"none\" stroke=\"black\" points=\"142.5,-413.5 142.5,-435.5 189.5,-435.5 189.5,-413.5 142.5,-413.5\"/>\n",
       "<text text-anchor=\"start\" x=\"152.12\" y=\"-421\" font-family=\"Linux libertine\" font-size=\"10.00\">input:</text>\n",
       "<polygon fill=\"none\" stroke=\"black\" points=\"189.5,-413.5 189.5,-435.5 263.5,-435.5 263.5,-413.5 189.5,-413.5\"/>\n",
       "<text text-anchor=\"start\" x=\"194.25\" y=\"-421\" font-family=\"Linux libertine\" font-size=\"10.00\">(5, 140, 128) </text>\n",
       "<polygon fill=\"none\" stroke=\"black\" points=\"142.5,-391.5 142.5,-413.5 189.5,-413.5 189.5,-391.5 142.5,-391.5\"/>\n",
       "<text text-anchor=\"start\" x=\"147.25\" y=\"-399\" font-family=\"Linux libertine\" font-size=\"10.00\">output: </text>\n",
       "<polygon fill=\"none\" stroke=\"black\" points=\"189.5,-391.5 189.5,-413.5 263.5,-413.5 263.5,-391.5 189.5,-391.5\"/>\n",
       "<text text-anchor=\"start\" x=\"194.25\" y=\"-399\" font-family=\"Linux libertine\" font-size=\"10.00\">(5, 128, 140) </text>\n",
       "</g>\n",
       "<!-- 39&#45;&gt;40 -->\n",
       "<g id=\"edge48\" class=\"edge\">\n",
       "<title>39&#45;&gt;40</title>\n",
       "<path fill=\"none\" stroke=\"black\" d=\"M177.5,-471.6C177.5,-463.82 177.5,-454.8 177.5,-446.26\"/>\n",
       "<polygon fill=\"black\" stroke=\"black\" points=\"181,-446.46 177.5,-436.46 174,-446.46 181,-446.46\"/>\n",
       "</g>\n",
       "<!-- 41 -->\n",
       "<g id=\"node42\" class=\"node\">\n",
       "<title>41</title>\n",
       "<polygon fill=\"#c1ffc1\" stroke=\"none\" points=\"290,-355.5 65,-355.5 65,-311.5 290,-311.5 290,-355.5\"/>\n",
       "<polygon fill=\"none\" stroke=\"black\" points=\"65,-311.5 65,-355.5 169,-355.5 169,-311.5 65,-311.5\"/>\n",
       "<text text-anchor=\"start\" x=\"69.75\" y=\"-336.75\" font-family=\"Linux libertine\" font-size=\"10.00\">AdaptiveAvgPool1d</text>\n",
       "<text text-anchor=\"start\" x=\"98.62\" y=\"-324\" font-family=\"Linux libertine\" font-size=\"10.00\">depth:1</text>\n",
       "<polygon fill=\"none\" stroke=\"black\" points=\"169,-333.5 169,-355.5 216,-355.5 216,-333.5 169,-333.5\"/>\n",
       "<text text-anchor=\"start\" x=\"178.62\" y=\"-341\" font-family=\"Linux libertine\" font-size=\"10.00\">input:</text>\n",
       "<polygon fill=\"none\" stroke=\"black\" points=\"216,-333.5 216,-355.5 290,-355.5 290,-333.5 216,-333.5\"/>\n",
       "<text text-anchor=\"start\" x=\"220.75\" y=\"-341\" font-family=\"Linux libertine\" font-size=\"10.00\">(5, 128, 140) </text>\n",
       "<polygon fill=\"none\" stroke=\"black\" points=\"169,-311.5 169,-333.5 216,-333.5 216,-311.5 169,-311.5\"/>\n",
       "<text text-anchor=\"start\" x=\"173.75\" y=\"-319\" font-family=\"Linux libertine\" font-size=\"10.00\">output: </text>\n",
       "<polygon fill=\"none\" stroke=\"black\" points=\"216,-311.5 216,-333.5 290,-333.5 290,-311.5 216,-311.5\"/>\n",
       "<text text-anchor=\"start\" x=\"226.75\" y=\"-319\" font-family=\"Linux libertine\" font-size=\"10.00\">(5, 128, 1) </text>\n",
       "</g>\n",
       "<!-- 40&#45;&gt;41 -->\n",
       "<g id=\"edge49\" class=\"edge\">\n",
       "<title>40&#45;&gt;41</title>\n",
       "<path fill=\"none\" stroke=\"black\" d=\"M177.5,-391.6C177.5,-383.82 177.5,-374.8 177.5,-366.26\"/>\n",
       "<polygon fill=\"black\" stroke=\"black\" points=\"181,-366.46 177.5,-356.46 174,-366.46 181,-366.46\"/>\n",
       "</g>\n",
       "<!-- 42 -->\n",
       "<g id=\"node43\" class=\"node\">\n",
       "<title>42</title>\n",
       "<polygon fill=\"aliceblue\" stroke=\"none\" points=\"257.5,-275.5 97.5,-275.5 97.5,-231.5 257.5,-231.5 257.5,-275.5\"/>\n",
       "<polygon fill=\"none\" stroke=\"black\" points=\"97.5,-231.5 97.5,-275.5 148.5,-275.5 148.5,-231.5 97.5,-231.5\"/>\n",
       "<text text-anchor=\"start\" x=\"102.38\" y=\"-256.75\" font-family=\"Linux libertine\" font-size=\"10.00\">permute</text>\n",
       "<text text-anchor=\"start\" x=\"104.62\" y=\"-244\" font-family=\"Linux libertine\" font-size=\"10.00\">depth:1</text>\n",
       "<polygon fill=\"none\" stroke=\"black\" points=\"148.5,-253.5 148.5,-275.5 195.5,-275.5 195.5,-253.5 148.5,-253.5\"/>\n",
       "<text text-anchor=\"start\" x=\"158.12\" y=\"-261\" font-family=\"Linux libertine\" font-size=\"10.00\">input:</text>\n",
       "<polygon fill=\"none\" stroke=\"black\" points=\"195.5,-253.5 195.5,-275.5 257.5,-275.5 257.5,-253.5 195.5,-253.5\"/>\n",
       "<text text-anchor=\"start\" x=\"200.25\" y=\"-261\" font-family=\"Linux libertine\" font-size=\"10.00\">(5, 128, 1) </text>\n",
       "<polygon fill=\"none\" stroke=\"black\" points=\"148.5,-231.5 148.5,-253.5 195.5,-253.5 195.5,-231.5 148.5,-231.5\"/>\n",
       "<text text-anchor=\"start\" x=\"153.25\" y=\"-239\" font-family=\"Linux libertine\" font-size=\"10.00\">output: </text>\n",
       "<polygon fill=\"none\" stroke=\"black\" points=\"195.5,-231.5 195.5,-253.5 257.5,-253.5 257.5,-231.5 195.5,-231.5\"/>\n",
       "<text text-anchor=\"start\" x=\"200.25\" y=\"-239\" font-family=\"Linux libertine\" font-size=\"10.00\">(5, 1, 128) </text>\n",
       "</g>\n",
       "<!-- 41&#45;&gt;42 -->\n",
       "<g id=\"edge50\" class=\"edge\">\n",
       "<title>41&#45;&gt;42</title>\n",
       "<path fill=\"none\" stroke=\"black\" d=\"M177.5,-311.6C177.5,-303.82 177.5,-294.8 177.5,-286.26\"/>\n",
       "<polygon fill=\"black\" stroke=\"black\" points=\"181,-286.46 177.5,-276.46 174,-286.46 181,-286.46\"/>\n",
       "</g>\n",
       "<!-- 43 -->\n",
       "<g id=\"node44\" class=\"node\">\n",
       "<title>43</title>\n",
       "<polygon fill=\"aliceblue\" stroke=\"none\" points=\"257,-195.5 98,-195.5 98,-151.5 257,-151.5 257,-195.5\"/>\n",
       "<polygon fill=\"none\" stroke=\"black\" points=\"98,-151.5 98,-195.5 148,-195.5 148,-151.5 98,-151.5\"/>\n",
       "<text text-anchor=\"start\" x=\"102.75\" y=\"-176.75\" font-family=\"Linux libertine\" font-size=\"10.00\">squeeze</text>\n",
       "<text text-anchor=\"start\" x=\"104.62\" y=\"-164\" font-family=\"Linux libertine\" font-size=\"10.00\">depth:1</text>\n",
       "<polygon fill=\"none\" stroke=\"black\" points=\"148,-173.5 148,-195.5 195,-195.5 195,-173.5 148,-173.5\"/>\n",
       "<text text-anchor=\"start\" x=\"157.62\" y=\"-181\" font-family=\"Linux libertine\" font-size=\"10.00\">input:</text>\n",
       "<polygon fill=\"none\" stroke=\"black\" points=\"195,-173.5 195,-195.5 257,-195.5 257,-173.5 195,-173.5\"/>\n",
       "<text text-anchor=\"start\" x=\"199.75\" y=\"-181\" font-family=\"Linux libertine\" font-size=\"10.00\">(5, 1, 128) </text>\n",
       "<polygon fill=\"none\" stroke=\"black\" points=\"148,-151.5 148,-173.5 195,-173.5 195,-151.5 148,-151.5\"/>\n",
       "<text text-anchor=\"start\" x=\"152.75\" y=\"-159\" font-family=\"Linux libertine\" font-size=\"10.00\">output: </text>\n",
       "<polygon fill=\"none\" stroke=\"black\" points=\"195,-151.5 195,-173.5 257,-173.5 257,-151.5 195,-151.5\"/>\n",
       "<text text-anchor=\"start\" x=\"205.75\" y=\"-159\" font-family=\"Linux libertine\" font-size=\"10.00\">(5, 128) </text>\n",
       "</g>\n",
       "<!-- 42&#45;&gt;43 -->\n",
       "<g id=\"edge51\" class=\"edge\">\n",
       "<title>42&#45;&gt;43</title>\n",
       "<path fill=\"none\" stroke=\"black\" d=\"M177.5,-231.6C177.5,-223.82 177.5,-214.8 177.5,-206.26\"/>\n",
       "<polygon fill=\"black\" stroke=\"black\" points=\"181,-206.46 177.5,-196.46 174,-206.46 181,-206.46\"/>\n",
       "</g>\n",
       "<!-- 44 -->\n",
       "<g id=\"node45\" class=\"node\">\n",
       "<title>44</title>\n",
       "<polygon fill=\"#c1ffc1\" stroke=\"none\" points=\"249,-115.5 106,-115.5 106,-71.5 249,-71.5 249,-115.5\"/>\n",
       "<polygon fill=\"none\" stroke=\"black\" points=\"106,-71.5 106,-115.5 152,-115.5 152,-71.5 106,-71.5\"/>\n",
       "<text text-anchor=\"start\" x=\"114\" y=\"-96.75\" font-family=\"Linux libertine\" font-size=\"10.00\">Linear</text>\n",
       "<text text-anchor=\"start\" x=\"110.62\" y=\"-84\" font-family=\"Linux libertine\" font-size=\"10.00\">depth:1</text>\n",
       "<polygon fill=\"none\" stroke=\"black\" points=\"152,-93.5 152,-115.5 199,-115.5 199,-93.5 152,-93.5\"/>\n",
       "<text text-anchor=\"start\" x=\"161.62\" y=\"-101\" font-family=\"Linux libertine\" font-size=\"10.00\">input:</text>\n",
       "<polygon fill=\"none\" stroke=\"black\" points=\"199,-93.5 199,-115.5 249,-115.5 249,-93.5 199,-93.5\"/>\n",
       "<text text-anchor=\"start\" x=\"203.75\" y=\"-101\" font-family=\"Linux libertine\" font-size=\"10.00\">(5, 128) </text>\n",
       "<polygon fill=\"none\" stroke=\"black\" points=\"152,-71.5 152,-93.5 199,-93.5 199,-71.5 152,-71.5\"/>\n",
       "<text text-anchor=\"start\" x=\"156.75\" y=\"-79\" font-family=\"Linux libertine\" font-size=\"10.00\">output: </text>\n",
       "<polygon fill=\"none\" stroke=\"black\" points=\"199,-71.5 199,-93.5 249,-93.5 249,-71.5 199,-71.5\"/>\n",
       "<text text-anchor=\"start\" x=\"209.75\" y=\"-79\" font-family=\"Linux libertine\" font-size=\"10.00\">(5, 1) </text>\n",
       "</g>\n",
       "<!-- 43&#45;&gt;44 -->\n",
       "<g id=\"edge52\" class=\"edge\">\n",
       "<title>43&#45;&gt;44</title>\n",
       "<path fill=\"none\" stroke=\"black\" d=\"M177.5,-151.6C177.5,-143.82 177.5,-134.8 177.5,-126.26\"/>\n",
       "<polygon fill=\"black\" stroke=\"black\" points=\"181,-126.46 177.5,-116.46 174,-126.46 181,-126.46\"/>\n",
       "</g>\n",
       "<!-- 45 -->\n",
       "<g id=\"node46\" class=\"node\">\n",
       "<title>45</title>\n",
       "<polygon fill=\"lightyellow\" stroke=\"none\" points=\"233.25,-35.5 121.75,-35.5 121.75,0 233.25,0 233.25,-35.5\"/>\n",
       "<polygon fill=\"none\" stroke=\"black\" points=\"121.75,0 121.75,-35.5 197.75,-35.5 197.75,0 121.75,0\"/>\n",
       "<text text-anchor=\"start\" x=\"126.75\" y=\"-21\" font-family=\"Linux libertine\" font-size=\"10.00\">output&#45;tensor</text>\n",
       "<text text-anchor=\"start\" x=\"141.38\" y=\"-8.25\" font-family=\"Linux libertine\" font-size=\"10.00\">depth:0</text>\n",
       "<polygon fill=\"none\" stroke=\"black\" points=\"197.75,0 197.75,-35.5 233.25,-35.5 233.25,0 197.75,0\"/>\n",
       "<text text-anchor=\"start\" x=\"202.75\" y=\"-14.62\" font-family=\"Linux libertine\" font-size=\"10.00\">(5, 1)</text>\n",
       "</g>\n",
       "<!-- 44&#45;&gt;45 -->\n",
       "<g id=\"edge53\" class=\"edge\">\n",
       "<title>44&#45;&gt;45</title>\n",
       "<path fill=\"none\" stroke=\"black\" d=\"M177.5,-71.56C177.5,-63.6 177.5,-54.41 177.5,-45.95\"/>\n",
       "<polygon fill=\"black\" stroke=\"black\" points=\"181,-46.05 177.5,-36.05 174,-46.05 181,-46.05\"/>\n",
       "</g>\n",
       "</g>\n",
       "</svg>\n"
      ],
      "text/plain": [
       "<graphviz.graphs.Digraph at 0x7f6f46a0eb50>"
      ]
     },
     "execution_count": 20,
     "metadata": {},
     "output_type": "execute_result"
    }
   ],
   "source": [
    "model_graph = draw_graph(model, input_size=x_train[0:5].shape, device=device,\n",
    "                        hide_inner_tensors=True,hide_module_functions=True,\n",
    "                        expand_nested=False, depth=3)\n",
    "model_graph.visual_graph"
   ]
  },
  {
   "cell_type": "code",
   "execution_count": 47,
   "id": "404d8b38-24ee-457e-8614-a38b33781a77",
   "metadata": {},
   "outputs": [],
   "source": [
    "batch_size = 32\n",
    "xy_train = torch.utils.data.DataLoader(list(zip(torch.Tensor(x_train),\\\n",
    "                                                torch.Tensor(y_train))),\\\n",
    "                                       shuffle=True, batch_size=batch_size)\n",
    "xy_val = torch.utils.data.DataLoader(list(zip(torch.Tensor(x_val),\\\n",
    "                                              torch.Tensor(y_val))),\\\n",
    "                                     shuffle=False, batch_size=batch_size)"
   ]
  },
  {
   "cell_type": "code",
   "execution_count": 48,
   "id": "776aa5c4-d826-4709-b6a6-d39e38f99141",
   "metadata": {},
   "outputs": [],
   "source": [
    "logger = pl.loggers.CSVLogger(\"lightning_logs\",\n",
    "                              name=\"Term-Project\",\n",
    "                              version=\"demo-0\")"
   ]
  },
  {
   "cell_type": "code",
   "execution_count": 49,
   "id": "b8ff36fd-bf56-4299-978e-2800fb0e00a0",
   "metadata": {},
   "outputs": [
    {
     "name": "stderr",
     "output_type": "stream",
     "text": [
      "GPU available: True (cuda), used: True\n",
      "TPU available: False, using: 0 TPU cores\n",
      "IPU available: False, using: 0 IPUs\n",
      "HPU available: False, using: 0 HPUs\n"
     ]
    }
   ],
   "source": [
    "# logger = pl.loggers.CSVLogger(\"logs\",name=\"Term-Project\",)\n",
    "trainer = pl.Trainer(max_epochs=100,\n",
    "                     logger=logger,\n",
    "                     enable_progress_bar= True,\n",
    "                     log_every_n_steps=0,\n",
    "                     enable_checkpointing=True,\n",
    "                     callbacks=[pl.callbacks.TQDMProgressBar(refresh_rate=1)])"
   ]
  },
  {
   "cell_type": "code",
   "execution_count": 50,
   "id": "02c26a3f-9bc6-4269-9ec3-484695814283",
   "metadata": {},
   "outputs": [
    {
     "name": "stderr",
     "output_type": "stream",
     "text": [
      "LOCAL_RANK: 0 - CUDA_VISIBLE_DEVICES: [0]\n",
      "SLURM auto-requeueing enabled. Setting signal handlers.\n",
      "/opt/conda/lib/python3.11/site-packages/lightning/pytorch/trainer/connectors/data_connector.py:442: PossibleUserWarning: The dataloader, val_dataloader, does not have many workers which may be a bottleneck. Consider increasing the value of the `num_workers` argument` (try 20 which is the number of cpus on this machine) in the `DataLoader` init to improve performance.\n",
      "  rank_zero_warn(\n"
     ]
    },
    {
     "data": {
      "application/vnd.jupyter.widget-view+json": {
       "model_id": "7f71f98b99114b62b101cd9cd3ac1b27",
       "version_major": 2,
       "version_minor": 0
      },
      "text/plain": [
       "Validation: 0it [00:00, ?it/s]"
      ]
     },
     "metadata": {},
     "output_type": "display_data"
    },
    {
     "name": "stderr",
     "output_type": "stream",
     "text": [
      "/opt/conda/lib/python3.11/site-packages/torch/nn/modules/activation.py:1160: UserWarning: Converting mask without torch.bool dtype to bool; this will negatively affect performance. Prefer to use a boolean mask directly. (Triggered internally at ../aten/src/ATen/native/transformers/attention.cpp:150.)\n",
      "  return torch._native_multi_head_attention(\n"
     ]
    },
    {
     "data": {
      "text/html": [
       "<pre style=\"white-space:pre;overflow-x:auto;line-height:normal;font-family:Menlo,'DejaVu Sans Mono',consolas,'Courier New',monospace\">┏━━━━━━━━━━━━━━━━━━━━━━━━━━━┳━━━━━━━━━━━━━━━━━━━━━━━━━━━┓\n",
       "┃<span style=\"font-weight: bold\">  Runningstage.validating  </span>┃<span style=\"font-weight: bold\">                           </span>┃\n",
       "┃<span style=\"font-weight: bold\">          metric           </span>┃<span style=\"font-weight: bold\">       DataLoader 0        </span>┃\n",
       "┡━━━━━━━━━━━━━━━━━━━━━━━━━━━╇━━━━━━━━━━━━━━━━━━━━━━━━━━━┩\n",
       "│<span style=\"color: #008080; text-decoration-color: #008080\">         val_loss          </span>│<span style=\"color: #800080; text-decoration-color: #800080\">    0.11431670188903809    </span>│\n",
       "└───────────────────────────┴───────────────────────────┘\n",
       "</pre>\n"
      ],
      "text/plain": [
       "┏━━━━━━━━━━━━━━━━━━━━━━━━━━━┳━━━━━━━━━━━━━━━━━━━━━━━━━━━┓\n",
       "┃\u001b[1m \u001b[0m\u001b[1m Runningstage.validating \u001b[0m\u001b[1m \u001b[0m┃\u001b[1m                           \u001b[0m┃\n",
       "┃\u001b[1m \u001b[0m\u001b[1m         metric          \u001b[0m\u001b[1m \u001b[0m┃\u001b[1m \u001b[0m\u001b[1m      DataLoader 0       \u001b[0m\u001b[1m \u001b[0m┃\n",
       "┡━━━━━━━━━━━━━━━━━━━━━━━━━━━╇━━━━━━━━━━━━━━━━━━━━━━━━━━━┩\n",
       "│\u001b[36m \u001b[0m\u001b[36m        val_loss         \u001b[0m\u001b[36m \u001b[0m│\u001b[35m \u001b[0m\u001b[35m   0.11431670188903809   \u001b[0m\u001b[35m \u001b[0m│\n",
       "└───────────────────────────┴───────────────────────────┘\n"
      ]
     },
     "metadata": {},
     "output_type": "display_data"
    }
   ],
   "source": [
    "preliminary_result = trainer.validate(model, dataloaders=xy_val)"
   ]
  },
  {
   "cell_type": "code",
   "execution_count": null,
   "id": "d702da66-8b34-4df3-8668-4bbf992e6d0b",
   "metadata": {},
   "outputs": [
    {
     "name": "stderr",
     "output_type": "stream",
     "text": [
      "LOCAL_RANK: 0 - CUDA_VISIBLE_DEVICES: [0]\n",
      "\n",
      "  | Name               | Type              | Params\n",
      "---------------------------------------------------------\n",
      "0 | loss               | BCEWithLogitsLoss | 0     \n",
      "1 | embedding          | Linear            | 128   \n",
      "2 | transformer_blocks | Sequential        | 332 K \n",
      "3 | AVGpool            | AdaptiveAvgPool1d | 0     \n",
      "4 | logit              | Linear            | 129   \n",
      "5 | sigmoid            | Sigmoid           | 0     \n",
      "---------------------------------------------------------\n",
      "332 K     Trainable params\n",
      "0         Non-trainable params\n",
      "332 K     Total params\n",
      "1.330     Total estimated model params size (MB)\n",
      "SLURM auto-requeueing enabled. Setting signal handlers.\n"
     ]
    },
    {
     "data": {
      "application/vnd.jupyter.widget-view+json": {
       "model_id": "",
       "version_major": 2,
       "version_minor": 0
      },
      "text/plain": [
       "Sanity Checking: 0it [00:00, ?it/s]"
      ]
     },
     "metadata": {},
     "output_type": "display_data"
    },
    {
     "name": "stderr",
     "output_type": "stream",
     "text": [
      "/opt/conda/lib/python3.11/site-packages/lightning/pytorch/trainer/connectors/data_connector.py:442: PossibleUserWarning: The dataloader, train_dataloader, does not have many workers which may be a bottleneck. Consider increasing the value of the `num_workers` argument` (try 20 which is the number of cpus on this machine) in the `DataLoader` init to improve performance.\n",
      "  rank_zero_warn(\n"
     ]
    },
    {
     "data": {
      "application/vnd.jupyter.widget-view+json": {
       "model_id": "2fb6ca997ed74140bc208ebe6e52c319",
       "version_major": 2,
       "version_minor": 0
      },
      "text/plain": [
       "Training: 0it [00:00, ?it/s]"
      ]
     },
     "metadata": {},
     "output_type": "display_data"
    },
    {
     "data": {
      "application/vnd.jupyter.widget-view+json": {
       "model_id": "",
       "version_major": 2,
       "version_minor": 0
      },
      "text/plain": [
       "Validation: 0it [00:00, ?it/s]"
      ]
     },
     "metadata": {},
     "output_type": "display_data"
    },
    {
     "data": {
      "application/vnd.jupyter.widget-view+json": {
       "model_id": "",
       "version_major": 2,
       "version_minor": 0
      },
      "text/plain": [
       "Validation: 0it [00:00, ?it/s]"
      ]
     },
     "metadata": {},
     "output_type": "display_data"
    },
    {
     "data": {
      "application/vnd.jupyter.widget-view+json": {
       "model_id": "",
       "version_major": 2,
       "version_minor": 0
      },
      "text/plain": [
       "Validation: 0it [00:00, ?it/s]"
      ]
     },
     "metadata": {},
     "output_type": "display_data"
    },
    {
     "data": {
      "application/vnd.jupyter.widget-view+json": {
       "model_id": "",
       "version_major": 2,
       "version_minor": 0
      },
      "text/plain": [
       "Validation: 0it [00:00, ?it/s]"
      ]
     },
     "metadata": {},
     "output_type": "display_data"
    },
    {
     "data": {
      "application/vnd.jupyter.widget-view+json": {
       "model_id": "",
       "version_major": 2,
       "version_minor": 0
      },
      "text/plain": [
       "Validation: 0it [00:00, ?it/s]"
      ]
     },
     "metadata": {},
     "output_type": "display_data"
    },
    {
     "data": {
      "application/vnd.jupyter.widget-view+json": {
       "model_id": "",
       "version_major": 2,
       "version_minor": 0
      },
      "text/plain": [
       "Validation: 0it [00:00, ?it/s]"
      ]
     },
     "metadata": {},
     "output_type": "display_data"
    },
    {
     "data": {
      "application/vnd.jupyter.widget-view+json": {
       "model_id": "",
       "version_major": 2,
       "version_minor": 0
      },
      "text/plain": [
       "Validation: 0it [00:00, ?it/s]"
      ]
     },
     "metadata": {},
     "output_type": "display_data"
    },
    {
     "data": {
      "application/vnd.jupyter.widget-view+json": {
       "model_id": "",
       "version_major": 2,
       "version_minor": 0
      },
      "text/plain": [
       "Validation: 0it [00:00, ?it/s]"
      ]
     },
     "metadata": {},
     "output_type": "display_data"
    },
    {
     "data": {
      "application/vnd.jupyter.widget-view+json": {
       "model_id": "",
       "version_major": 2,
       "version_minor": 0
      },
      "text/plain": [
       "Validation: 0it [00:00, ?it/s]"
      ]
     },
     "metadata": {},
     "output_type": "display_data"
    },
    {
     "data": {
      "application/vnd.jupyter.widget-view+json": {
       "model_id": "",
       "version_major": 2,
       "version_minor": 0
      },
      "text/plain": [
       "Validation: 0it [00:00, ?it/s]"
      ]
     },
     "metadata": {},
     "output_type": "display_data"
    },
    {
     "data": {
      "application/vnd.jupyter.widget-view+json": {
       "model_id": "",
       "version_major": 2,
       "version_minor": 0
      },
      "text/plain": [
       "Validation: 0it [00:00, ?it/s]"
      ]
     },
     "metadata": {},
     "output_type": "display_data"
    },
    {
     "data": {
      "application/vnd.jupyter.widget-view+json": {
       "model_id": "",
       "version_major": 2,
       "version_minor": 0
      },
      "text/plain": [
       "Validation: 0it [00:00, ?it/s]"
      ]
     },
     "metadata": {},
     "output_type": "display_data"
    },
    {
     "data": {
      "application/vnd.jupyter.widget-view+json": {
       "model_id": "",
       "version_major": 2,
       "version_minor": 0
      },
      "text/plain": [
       "Validation: 0it [00:00, ?it/s]"
      ]
     },
     "metadata": {},
     "output_type": "display_data"
    },
    {
     "data": {
      "application/vnd.jupyter.widget-view+json": {
       "model_id": "",
       "version_major": 2,
       "version_minor": 0
      },
      "text/plain": [
       "Validation: 0it [00:00, ?it/s]"
      ]
     },
     "metadata": {},
     "output_type": "display_data"
    },
    {
     "data": {
      "application/vnd.jupyter.widget-view+json": {
       "model_id": "",
       "version_major": 2,
       "version_minor": 0
      },
      "text/plain": [
       "Validation: 0it [00:00, ?it/s]"
      ]
     },
     "metadata": {},
     "output_type": "display_data"
    },
    {
     "data": {
      "application/vnd.jupyter.widget-view+json": {
       "model_id": "",
       "version_major": 2,
       "version_minor": 0
      },
      "text/plain": [
       "Validation: 0it [00:00, ?it/s]"
      ]
     },
     "metadata": {},
     "output_type": "display_data"
    },
    {
     "data": {
      "application/vnd.jupyter.widget-view+json": {
       "model_id": "",
       "version_major": 2,
       "version_minor": 0
      },
      "text/plain": [
       "Validation: 0it [00:00, ?it/s]"
      ]
     },
     "metadata": {},
     "output_type": "display_data"
    },
    {
     "data": {
      "application/vnd.jupyter.widget-view+json": {
       "model_id": "",
       "version_major": 2,
       "version_minor": 0
      },
      "text/plain": [
       "Validation: 0it [00:00, ?it/s]"
      ]
     },
     "metadata": {},
     "output_type": "display_data"
    },
    {
     "data": {
      "application/vnd.jupyter.widget-view+json": {
       "model_id": "",
       "version_major": 2,
       "version_minor": 0
      },
      "text/plain": [
       "Validation: 0it [00:00, ?it/s]"
      ]
     },
     "metadata": {},
     "output_type": "display_data"
    },
    {
     "data": {
      "application/vnd.jupyter.widget-view+json": {
       "model_id": "",
       "version_major": 2,
       "version_minor": 0
      },
      "text/plain": [
       "Validation: 0it [00:00, ?it/s]"
      ]
     },
     "metadata": {},
     "output_type": "display_data"
    },
    {
     "data": {
      "application/vnd.jupyter.widget-view+json": {
       "model_id": "",
       "version_major": 2,
       "version_minor": 0
      },
      "text/plain": [
       "Validation: 0it [00:00, ?it/s]"
      ]
     },
     "metadata": {},
     "output_type": "display_data"
    },
    {
     "data": {
      "application/vnd.jupyter.widget-view+json": {
       "model_id": "",
       "version_major": 2,
       "version_minor": 0
      },
      "text/plain": [
       "Validation: 0it [00:00, ?it/s]"
      ]
     },
     "metadata": {},
     "output_type": "display_data"
    },
    {
     "data": {
      "application/vnd.jupyter.widget-view+json": {
       "model_id": "",
       "version_major": 2,
       "version_minor": 0
      },
      "text/plain": [
       "Validation: 0it [00:00, ?it/s]"
      ]
     },
     "metadata": {},
     "output_type": "display_data"
    },
    {
     "data": {
      "application/vnd.jupyter.widget-view+json": {
       "model_id": "",
       "version_major": 2,
       "version_minor": 0
      },
      "text/plain": [
       "Validation: 0it [00:00, ?it/s]"
      ]
     },
     "metadata": {},
     "output_type": "display_data"
    },
    {
     "data": {
      "application/vnd.jupyter.widget-view+json": {
       "model_id": "",
       "version_major": 2,
       "version_minor": 0
      },
      "text/plain": [
       "Validation: 0it [00:00, ?it/s]"
      ]
     },
     "metadata": {},
     "output_type": "display_data"
    },
    {
     "data": {
      "application/vnd.jupyter.widget-view+json": {
       "model_id": "",
       "version_major": 2,
       "version_minor": 0
      },
      "text/plain": [
       "Validation: 0it [00:00, ?it/s]"
      ]
     },
     "metadata": {},
     "output_type": "display_data"
    },
    {
     "data": {
      "application/vnd.jupyter.widget-view+json": {
       "model_id": "",
       "version_major": 2,
       "version_minor": 0
      },
      "text/plain": [
       "Validation: 0it [00:00, ?it/s]"
      ]
     },
     "metadata": {},
     "output_type": "display_data"
    },
    {
     "data": {
      "application/vnd.jupyter.widget-view+json": {
       "model_id": "",
       "version_major": 2,
       "version_minor": 0
      },
      "text/plain": [
       "Validation: 0it [00:00, ?it/s]"
      ]
     },
     "metadata": {},
     "output_type": "display_data"
    },
    {
     "data": {
      "application/vnd.jupyter.widget-view+json": {
       "model_id": "",
       "version_major": 2,
       "version_minor": 0
      },
      "text/plain": [
       "Validation: 0it [00:00, ?it/s]"
      ]
     },
     "metadata": {},
     "output_type": "display_data"
    },
    {
     "data": {
      "application/vnd.jupyter.widget-view+json": {
       "model_id": "",
       "version_major": 2,
       "version_minor": 0
      },
      "text/plain": [
       "Validation: 0it [00:00, ?it/s]"
      ]
     },
     "metadata": {},
     "output_type": "display_data"
    },
    {
     "data": {
      "application/vnd.jupyter.widget-view+json": {
       "model_id": "",
       "version_major": 2,
       "version_minor": 0
      },
      "text/plain": [
       "Validation: 0it [00:00, ?it/s]"
      ]
     },
     "metadata": {},
     "output_type": "display_data"
    },
    {
     "data": {
      "application/vnd.jupyter.widget-view+json": {
       "model_id": "",
       "version_major": 2,
       "version_minor": 0
      },
      "text/plain": [
       "Validation: 0it [00:00, ?it/s]"
      ]
     },
     "metadata": {},
     "output_type": "display_data"
    },
    {
     "data": {
      "application/vnd.jupyter.widget-view+json": {
       "model_id": "",
       "version_major": 2,
       "version_minor": 0
      },
      "text/plain": [
       "Validation: 0it [00:00, ?it/s]"
      ]
     },
     "metadata": {},
     "output_type": "display_data"
    },
    {
     "data": {
      "application/vnd.jupyter.widget-view+json": {
       "model_id": "",
       "version_major": 2,
       "version_minor": 0
      },
      "text/plain": [
       "Validation: 0it [00:00, ?it/s]"
      ]
     },
     "metadata": {},
     "output_type": "display_data"
    },
    {
     "data": {
      "application/vnd.jupyter.widget-view+json": {
       "model_id": "",
       "version_major": 2,
       "version_minor": 0
      },
      "text/plain": [
       "Validation: 0it [00:00, ?it/s]"
      ]
     },
     "metadata": {},
     "output_type": "display_data"
    },
    {
     "data": {
      "application/vnd.jupyter.widget-view+json": {
       "model_id": "",
       "version_major": 2,
       "version_minor": 0
      },
      "text/plain": [
       "Validation: 0it [00:00, ?it/s]"
      ]
     },
     "metadata": {},
     "output_type": "display_data"
    },
    {
     "data": {
      "application/vnd.jupyter.widget-view+json": {
       "model_id": "",
       "version_major": 2,
       "version_minor": 0
      },
      "text/plain": [
       "Validation: 0it [00:00, ?it/s]"
      ]
     },
     "metadata": {},
     "output_type": "display_data"
    },
    {
     "data": {
      "application/vnd.jupyter.widget-view+json": {
       "model_id": "",
       "version_major": 2,
       "version_minor": 0
      },
      "text/plain": [
       "Validation: 0it [00:00, ?it/s]"
      ]
     },
     "metadata": {},
     "output_type": "display_data"
    },
    {
     "data": {
      "application/vnd.jupyter.widget-view+json": {
       "model_id": "",
       "version_major": 2,
       "version_minor": 0
      },
      "text/plain": [
       "Validation: 0it [00:00, ?it/s]"
      ]
     },
     "metadata": {},
     "output_type": "display_data"
    },
    {
     "data": {
      "application/vnd.jupyter.widget-view+json": {
       "model_id": "",
       "version_major": 2,
       "version_minor": 0
      },
      "text/plain": [
       "Validation: 0it [00:00, ?it/s]"
      ]
     },
     "metadata": {},
     "output_type": "display_data"
    },
    {
     "data": {
      "application/vnd.jupyter.widget-view+json": {
       "model_id": "",
       "version_major": 2,
       "version_minor": 0
      },
      "text/plain": [
       "Validation: 0it [00:00, ?it/s]"
      ]
     },
     "metadata": {},
     "output_type": "display_data"
    },
    {
     "data": {
      "application/vnd.jupyter.widget-view+json": {
       "model_id": "",
       "version_major": 2,
       "version_minor": 0
      },
      "text/plain": [
       "Validation: 0it [00:00, ?it/s]"
      ]
     },
     "metadata": {},
     "output_type": "display_data"
    },
    {
     "data": {
      "application/vnd.jupyter.widget-view+json": {
       "model_id": "",
       "version_major": 2,
       "version_minor": 0
      },
      "text/plain": [
       "Validation: 0it [00:00, ?it/s]"
      ]
     },
     "metadata": {},
     "output_type": "display_data"
    },
    {
     "data": {
      "application/vnd.jupyter.widget-view+json": {
       "model_id": "",
       "version_major": 2,
       "version_minor": 0
      },
      "text/plain": [
       "Validation: 0it [00:00, ?it/s]"
      ]
     },
     "metadata": {},
     "output_type": "display_data"
    },
    {
     "data": {
      "application/vnd.jupyter.widget-view+json": {
       "model_id": "",
       "version_major": 2,
       "version_minor": 0
      },
      "text/plain": [
       "Validation: 0it [00:00, ?it/s]"
      ]
     },
     "metadata": {},
     "output_type": "display_data"
    },
    {
     "data": {
      "application/vnd.jupyter.widget-view+json": {
       "model_id": "",
       "version_major": 2,
       "version_minor": 0
      },
      "text/plain": [
       "Validation: 0it [00:00, ?it/s]"
      ]
     },
     "metadata": {},
     "output_type": "display_data"
    },
    {
     "data": {
      "application/vnd.jupyter.widget-view+json": {
       "model_id": "cc33d20687344bf49903cb4fee2ef39d",
       "version_major": 2,
       "version_minor": 0
      },
      "text/plain": [
       "Validation: 0it [00:00, ?it/s]"
      ]
     },
     "metadata": {},
     "output_type": "display_data"
    },
    {
     "data": {
      "application/vnd.jupyter.widget-view+json": {
       "model_id": "8c92d0dbfd6e48b0be3607fb5fa3c1a7",
       "version_major": 2,
       "version_minor": 0
      },
      "text/plain": [
       "Validation: 0it [00:00, ?it/s]"
      ]
     },
     "metadata": {},
     "output_type": "display_data"
    },
    {
     "data": {
      "application/vnd.jupyter.widget-view+json": {
       "model_id": "7002d38223714bce84a1df8ff0d8ec4f",
       "version_major": 2,
       "version_minor": 0
      },
      "text/plain": [
       "Validation: 0it [00:00, ?it/s]"
      ]
     },
     "metadata": {},
     "output_type": "display_data"
    },
    {
     "data": {
      "application/vnd.jupyter.widget-view+json": {
       "model_id": "e9765ded58b940eba77af7e3b8d42220",
       "version_major": 2,
       "version_minor": 0
      },
      "text/plain": [
       "Validation: 0it [00:00, ?it/s]"
      ]
     },
     "metadata": {},
     "output_type": "display_data"
    },
    {
     "data": {
      "application/vnd.jupyter.widget-view+json": {
       "model_id": "b3f2c861920b40d986a2516395ded103",
       "version_major": 2,
       "version_minor": 0
      },
      "text/plain": [
       "Validation: 0it [00:00, ?it/s]"
      ]
     },
     "metadata": {},
     "output_type": "display_data"
    },
    {
     "data": {
      "application/vnd.jupyter.widget-view+json": {
       "model_id": "5d0f3a5bbd1a4e7683ad14d5a1b48db8",
       "version_major": 2,
       "version_minor": 0
      },
      "text/plain": [
       "Validation: 0it [00:00, ?it/s]"
      ]
     },
     "metadata": {},
     "output_type": "display_data"
    },
    {
     "data": {
      "application/vnd.jupyter.widget-view+json": {
       "model_id": "c215558e5a8441b5af6ba9b9c150c1cb",
       "version_major": 2,
       "version_minor": 0
      },
      "text/plain": [
       "Validation: 0it [00:00, ?it/s]"
      ]
     },
     "metadata": {},
     "output_type": "display_data"
    },
    {
     "data": {
      "application/vnd.jupyter.widget-view+json": {
       "model_id": "b2445aa88f584662b08ba80e367e197e",
       "version_major": 2,
       "version_minor": 0
      },
      "text/plain": [
       "Validation: 0it [00:00, ?it/s]"
      ]
     },
     "metadata": {},
     "output_type": "display_data"
    },
    {
     "data": {
      "application/vnd.jupyter.widget-view+json": {
       "model_id": "bb66c35225694e7c91e5ffa4c5b9e9de",
       "version_major": 2,
       "version_minor": 0
      },
      "text/plain": [
       "Validation: 0it [00:00, ?it/s]"
      ]
     },
     "metadata": {},
     "output_type": "display_data"
    },
    {
     "data": {
      "application/vnd.jupyter.widget-view+json": {
       "model_id": "17b479ba042c4308b5b7fbd031a6e7a2",
       "version_major": 2,
       "version_minor": 0
      },
      "text/plain": [
       "Validation: 0it [00:00, ?it/s]"
      ]
     },
     "metadata": {},
     "output_type": "display_data"
    },
    {
     "data": {
      "application/vnd.jupyter.widget-view+json": {
       "model_id": "08831cbd39784dec9319d213f3bb87dc",
       "version_major": 2,
       "version_minor": 0
      },
      "text/plain": [
       "Validation: 0it [00:00, ?it/s]"
      ]
     },
     "metadata": {},
     "output_type": "display_data"
    },
    {
     "data": {
      "application/vnd.jupyter.widget-view+json": {
       "model_id": "9090aa6cb20a4245b7bb462c8d1dbaac",
       "version_major": 2,
       "version_minor": 0
      },
      "text/plain": [
       "Validation: 0it [00:00, ?it/s]"
      ]
     },
     "metadata": {},
     "output_type": "display_data"
    },
    {
     "data": {
      "application/vnd.jupyter.widget-view+json": {
       "model_id": "86ff52a3f39d4ae5a8ddcf2bd0c9c74e",
       "version_major": 2,
       "version_minor": 0
      },
      "text/plain": [
       "Validation: 0it [00:00, ?it/s]"
      ]
     },
     "metadata": {},
     "output_type": "display_data"
    },
    {
     "data": {
      "application/vnd.jupyter.widget-view+json": {
       "model_id": "9a50a41c59d04da2910a26beeafc5378",
       "version_major": 2,
       "version_minor": 0
      },
      "text/plain": [
       "Validation: 0it [00:00, ?it/s]"
      ]
     },
     "metadata": {},
     "output_type": "display_data"
    },
    {
     "data": {
      "application/vnd.jupyter.widget-view+json": {
       "model_id": "06bec6efb54a482593bdb449dde4caf7",
       "version_major": 2,
       "version_minor": 0
      },
      "text/plain": [
       "Validation: 0it [00:00, ?it/s]"
      ]
     },
     "metadata": {},
     "output_type": "display_data"
    },
    {
     "data": {
      "application/vnd.jupyter.widget-view+json": {
       "model_id": "a316a348b17e455b90a9f6b159a04c22",
       "version_major": 2,
       "version_minor": 0
      },
      "text/plain": [
       "Validation: 0it [00:00, ?it/s]"
      ]
     },
     "metadata": {},
     "output_type": "display_data"
    },
    {
     "data": {
      "application/vnd.jupyter.widget-view+json": {
       "model_id": "224ea21dda5149bf85e8d086888906e0",
       "version_major": 2,
       "version_minor": 0
      },
      "text/plain": [
       "Validation: 0it [00:00, ?it/s]"
      ]
     },
     "metadata": {},
     "output_type": "display_data"
    }
   ],
   "source": [
    "trainer.fit(model, train_dataloaders=xy_train, val_dataloaders=xy_val)"
   ]
  },
  {
   "cell_type": "code",
   "execution_count": null,
   "id": "ddab3262-39ae-4da4-85a9-2b7e7d711f69",
   "metadata": {},
   "outputs": [],
   "source": [
    "final_result = trainer.validate(model, dataloaders=xy_val)"
   ]
  },
  {
   "cell_type": "code",
   "execution_count": null,
   "id": "ae1ceacb-17e9-4f24-bfff-a2f041bb3d91",
   "metadata": {},
   "outputs": [],
   "source": [
    "logger.log_dir + \"/metrics.csv\""
   ]
  },
  {
   "cell_type": "code",
   "execution_count": null,
   "id": "91c5de22-1845-43eb-a2b3-46e9b77518bb",
   "metadata": {},
   "outputs": [],
   "source": [
    "# results = pd.read_csv(\"logs/Term-Project/version_0/metrics.csv\", delimiter=',')\n",
    "results = pd.read_csv(logger.log_dir + \"/metrics.csv\", delimiter=',')\n",
    "results"
   ]
  },
  {
   "cell_type": "code",
   "execution_count": null,
   "id": "a5bc4bdd-4cf5-43d1-adea-a0b6a3ad3d5f",
   "metadata": {},
   "outputs": [],
   "source": [
    "# results = pd.read_csv(\"logs/Term-Project/version_0/metrics.csv\", delimiter=',')\n",
    "# results = pd.read_csv(logger.log_dir + \"/metrics.csv\", delimiter=',')\n",
    "\n",
    "plt.plot(results[\"epoch\"][np.logical_not(np.isnan(results[\"train_loss\"]))],\\\n",
    "         results[\"train_loss\"][np.logical_not(np.isnan(results[\"train_loss\"]))],\\\n",
    "         label=\"Training\")\n",
    "plt.plot(results[\"epoch\"][np.logical_not(np.isnan(results[\"val_loss\"]))],\\\n",
    "         results[\"val_loss\"][np.logical_not(np.isnan(results[\"val_loss\"]))],\\\n",
    "         label=\"Validation\")\n",
    "\n",
    "plt.legend()\n",
    "plt.ylabel(\"BCE Loss\")\n",
    "plt.xlabel(\"Epoch\")\n",
    "plt.savefig(\"./term-project-val-loss.png\")\n",
    "plt.show()"
   ]
  },
  {
   "cell_type": "code",
   "execution_count": null,
   "id": "0e171faa-d7dd-4041-b0d8-49355cbd93e2",
   "metadata": {},
   "outputs": [],
   "source": [
    "# plt.plot(results[\"epoch\"][np.logical_not(np.isnan(results[\"train_acc\"]))], results[\"train_acc\"][np.logical_not(np.isnan(results[\"train_acc\"]))], label=\"Training\")\n",
    "# plt.plot(results[\"epoch\"][np.logical_not(np.isnan(results[\"val_acc\"]))], results[\"val_acc\"][np.logical_not(np.isnan(results[\"val_acc\"]))], label=\"Validation\")\n",
    "# plt.legend()\n",
    "# plt.ylabel(\"Accuracy\")\n",
    "# plt.xlabel(\"Epoch\")\n",
    "# plt.savefig(\"./term-project-val-acc.png\")\n",
    "# plt.show()"
   ]
  },
  {
   "cell_type": "code",
   "execution_count": null,
   "id": "3a3df3fb-d6bc-4e85-b30f-7194f0cdca37",
   "metadata": {},
   "outputs": [],
   "source": [
    "# print(\"Validation accuracy:\",*[\"%.8f\"%(x) for x in results['val_acc'][np.logical_not(np.isnan(results[\"val_acc\"]))][0::10]])"
   ]
  },
  {
   "cell_type": "code",
   "execution_count": null,
   "id": "9afe5134-7788-4ae8-b416-18ac05b9d318",
   "metadata": {},
   "outputs": [],
   "source": [
    "print(\"Validation loss:\",*[\"%.8f\"%(x) for x in results['val_loss'][np.logical_not(np.isnan(results[\"val_loss\"]))][0::10]])"
   ]
  }
 ],
 "metadata": {
  "kernelspec": {
   "display_name": "Python 3 (ipykernel)",
   "language": "python",
   "name": "python3"
  },
  "language_info": {
   "codemirror_mode": {
    "name": "ipython",
    "version": 3
   },
   "file_extension": ".py",
   "mimetype": "text/x-python",
   "name": "python",
   "nbconvert_exporter": "python",
   "pygments_lexer": "ipython3",
   "version": "3.11.5"
  }
 },
 "nbformat": 4,
 "nbformat_minor": 5
}
