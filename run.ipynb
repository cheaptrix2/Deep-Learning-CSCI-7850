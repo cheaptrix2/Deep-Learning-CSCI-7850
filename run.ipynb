{
 "cells": [
  {
   "cell_type": "code",
   "execution_count": 1,
   "id": "307893fd-3188-4be7-b44e-e5c353d8a0b2",
   "metadata": {},
   "outputs": [],
   "source": [
    "# Required imports\n",
    "import sys\n",
    "import numpy as np\n",
    "import torch\n",
    "import lightning.pytorch as pl\n",
    "from torchinfo import summary\n",
    "from torchview import draw_graph\n",
    "import matplotlib.pyplot as plt\n",
    "import pandas as pd\n",
    "import torchmetrics\n",
    "\n",
    "def preprocess(x):\n",
    "    return (x - np.mean(x)) / np.std(x)"
   ]
  },
  {
   "cell_type": "code",
   "execution_count": 2,
   "id": "c5bf18be-d3a9-46fc-8cf8-91eba4c68511",
   "metadata": {},
   "outputs": [
    {
     "name": "stdout",
     "output_type": "stream",
     "text": [
      "Only cpu being used...\n"
     ]
    }
   ],
   "source": [
    "if (torch.cuda.is_available()):\n",
    "    device = (\"cuda\")\n",
    "    print(\"GPU in use...\")\n",
    "else:\n",
    "    device = (\"cpu\")\n",
    "    print(\"Only cpu being used...\")"
   ]
  },
  {
   "cell_type": "code",
   "execution_count": 3,
   "id": "e0feaaa9-8d57-4720-8891-1b26d7d48c35",
   "metadata": {},
   "outputs": [],
   "source": [
    "data = np.loadtxt(\"ecg.csv\", delimiter=',')"
   ]
  },
  {
   "cell_type": "code",
   "execution_count": 4,
   "id": "89df08f3-2416-461f-84bf-e40f8ec5024e",
   "metadata": {},
   "outputs": [],
   "source": [
    "X = data[:,:-1]\n",
    "X_preprocessed = np.apply_along_axis(preprocess,0,X)\n",
    "X = X_preprocessed"
   ]
  },
  {
   "cell_type": "code",
   "execution_count": 5,
   "id": "56af1249-615e-4696-9d0f-1a9774ea1b32",
   "metadata": {},
   "outputs": [],
   "source": [
    "Y = data[:,-1:]"
   ]
  },
  {
   "cell_type": "code",
   "execution_count": 6,
   "id": "15e15394-fd82-4a82-8632-a5523624b38d",
   "metadata": {},
   "outputs": [],
   "source": [
    "class MaskedTransformerBlock(torch.nn.Module):\n",
    "    def __init__(self,\n",
    "                 latent_size = 64,\n",
    "                 num_heads = 4,\n",
    "                 dropout = 0.1,\n",
    "                 **kwargs):\n",
    "        super().__init__(**kwargs)\n",
    "        self.layer_norm1 = torch.nn.LayerNorm(latent_size)\n",
    "        self.layer_norm2 = torch.nn.LayerNorm(latent_size)\n",
    "        self.dropout = torch.nn.Dropout(dropout)\n",
    "        self.linear = torch.nn.Linear(latent_size,\n",
    "                                      latent_size)\n",
    "        self.mha = torch.nn.MultiheadAttention(latent_size,\n",
    "                                               num_heads,\n",
    "                                               dropout=dropout,\n",
    "                                               batch_first=True)\n",
    "        self.activation = torch.nn.GELU()\n",
    "        \n",
    "    def make_causal_mask(self, sz: int):\n",
    "        return torch.triu(torch.full((sz, sz), True), diagonal=1).to(device)\n",
    "\n",
    "    def forward(self, x):\n",
    "        y = x\n",
    "        y = self.layer_norm1(y)\n",
    "        y = self.mha(y,y,y,attn_mask=self.make_causal_mask(y.shape[1]))[0]\n",
    "        x = y = x + y\n",
    "        y = self.layer_norm2(y)\n",
    "        y = self.linear(y)\n",
    "        y = self.activation(y)\n",
    "        return x + y"
   ]
  },
  {
   "cell_type": "code",
   "execution_count": 7,
   "id": "b27f0403-fb3e-4a98-8b06-6ea3f2870056",
   "metadata": {},
   "outputs": [],
   "source": [
    "class RegressionLightningModule(pl.LightningModule):\n",
    "    def __init__(self,\n",
    "                 **kwargs):\n",
    "        super().__init__(**kwargs)\n",
    "        self.loss = torch.nn.BCEWithLogitsLoss()\n",
    "    \n",
    "    def predict(self, x):\n",
    "        return self(x)\n",
    "\n",
    "    def configure_optimizers(self):\n",
    "        optimizer = torch.optim.Adam(self.parameters(), lr=0.001)\n",
    "        return optimizer\n",
    "\n",
    "    def training_step(self, train_batch, batch_idx):\n",
    "        x, y_true = train_batch\n",
    "        y_pred = self(x)\n",
    "        loss = self.loss(y_pred,y_true)\n",
    "        self.log('train_loss', loss, on_step=False, on_epoch=True)\n",
    "        return loss\n",
    "\n",
    "    def validation_step(self, val_batch, batch_idx):\n",
    "        x, y_true = val_batch\n",
    "        y_pred = self(x)\n",
    "        loss = self.loss(y_pred,y_true)\n",
    "        self.log('val_loss', loss, on_step=False, on_epoch=True)\n",
    "        return loss"
   ]
  },
  {
   "cell_type": "code",
   "execution_count": 11,
   "id": "37e8a233-73a5-4ff8-8c4a-86a74b6f4888",
   "metadata": {},
   "outputs": [],
   "source": [
    "class RegressionNetwork(RegressionLightningModule):\n",
    "    def __init__(self,\n",
    "                 latent_size=140,\n",
    "                 num_heads=4,\n",
    "                 n_blocks=4,\n",
    "                 **kwargs):\n",
    "        super().__init__(**kwargs)\n",
    "\n",
    "        self.embedding = torch.nn.Linear(1,latent_size,bias=False) \n",
    "        self.transformer_blocks = torch.nn.Sequential(*[\n",
    "            MaskedTransformerBlock(latent_size=latent_size,\n",
    "                                   num_heads=num_heads) for _ in range(n_blocks)\n",
    "        ])\n",
    "        \n",
    "        self.AVGpool = torch.nn.AdaptiveAvgPool1d(1)\n",
    "        self.logit = torch.nn.Linear(latent_size,1)\n",
    "        self.sigmoid = torch.nn.Sigmoid()\n",
    "        \n",
    "    def forward(self, x):\n",
    "        y = torch.unsqueeze(x,-1)\n",
    "        y = self.embedding(y.to(device))\n",
    "        y = self.transformer_blocks(y)\n",
    "        y = self.AVGpool(y.permute(0,2,1)).permute(0,2,1).squeeze()\n",
    "        y = self.logit(y)\n",
    "        return y\n",
    "\n",
    "    def predict(self, x):\n",
    "        y = self.forward(x)\n",
    "        y = self.sigmoid(y)\n",
    "        return y"
   ]
  },
  {
   "cell_type": "code",
   "execution_count": 12,
   "id": "2ac40acc-6d6a-456e-9ebc-aa9565f14c3f",
   "metadata": {},
   "outputs": [],
   "source": [
    "# Define a permutation needed to shuffle both\n",
    "# inputs and target in the same manner...\n",
    "shuffle = np.random.permutation(X.shape[0])\n",
    "X_shuffled = X[shuffle,:]\n",
    "Y_shuffled = Y[shuffle,:]\n",
    "\n",
    "# Keep 70% for training and remaining for validation\n",
    "split_point = int(X_shuffled.shape[0] * 0.7)\n",
    "x_train = X_shuffled[:split_point]\n",
    "y_train = Y_shuffled[:split_point]\n",
    "x_val = X_shuffled[split_point:]\n",
    "y_val = Y_shuffled[split_point:]"
   ]
  },
  {
   "cell_type": "code",
   "execution_count": 13,
   "id": "598bc619-3321-46bc-949b-e9c06f88348d",
   "metadata": {},
   "outputs": [],
   "source": [
    "model = RegressionNetwork.load_from_checkpoint('./epoch=99-step=11000.ckpt', map_location=torch.device('cpu'))"
   ]
  },
  {
   "cell_type": "code",
   "execution_count": 14,
   "id": "e584dd28-f014-405e-bbcb-42700bdc3ad5",
   "metadata": {},
   "outputs": [],
   "source": [
    "batch_size = 32\n",
    "all_data = torch.utils.data.DataLoader(list(zip(torch.Tensor(X[:64]),\n",
    "                                                torch.Tensor(Y[:64]))),\n",
    "                                       shuffle=True, batch_size=batch_size,\n",
    "                                       num_workers=8)"
   ]
  },
  {
   "cell_type": "code",
   "execution_count": 15,
   "id": "beb14225-04f4-448e-8560-92e9b04f2b00",
   "metadata": {},
   "outputs": [],
   "source": [
    "logger = pl.loggers.CSVLogger(\"lightning_logs_demo\",\n",
    "                              name=\"Demo-Loading\",\n",
    "                              version=\"demo-0\")"
   ]
  },
  {
   "cell_type": "code",
   "execution_count": 16,
   "id": "ed2532a6-cd28-4938-875f-77f456bbad25",
   "metadata": {},
   "outputs": [
    {
     "name": "stderr",
     "output_type": "stream",
     "text": [
      "GPU available: False, used: False\n",
      "TPU available: False, using: 0 TPU cores\n",
      "IPU available: False, using: 0 IPUs\n",
      "HPU available: False, using: 0 HPUs\n"
     ]
    }
   ],
   "source": [
    "trainer = pl.Trainer(logger=logger,\n",
    "                     max_epochs=0,\n",
    "                     enable_progress_bar=True,\n",
    "                     log_every_n_steps=0,\n",
    "                     enable_checkpointing=False,\n",
    "                     callbacks=[pl.callbacks.TQDMProgressBar(refresh_rate=1)])"
   ]
  },
  {
   "cell_type": "code",
   "execution_count": 17,
   "id": "27c1bd92-4415-4c25-9ecb-1584f0b8800b",
   "metadata": {},
   "outputs": [
    {
     "name": "stderr",
     "output_type": "stream",
     "text": [
      "/opt/conda/lib/python3.11/site-packages/lightning/pytorch/trainer/connectors/data_connector.py:490: PossibleUserWarning: Your `val_dataloader`'s sampler has shuffling enabled, it is strongly recommended that you turn shuffling off for val/test dataloaders.\n",
      "  rank_zero_warn(\n"
     ]
    },
    {
     "data": {
      "application/vnd.jupyter.widget-view+json": {
       "model_id": "d9b3b83f859e46b8879ac5dff17980ca",
       "version_major": 2,
       "version_minor": 0
      },
      "text/plain": [
       "Validation: 0it [00:00, ?it/s]"
      ]
     },
     "metadata": {},
     "output_type": "display_data"
    },
    {
     "name": "stderr",
     "output_type": "stream",
     "text": [
      "/opt/conda/lib/python3.11/site-packages/torch/nn/modules/activation.py:1160: UserWarning: Converting mask without torch.bool dtype to bool; this will negatively affect performance. Prefer to use a boolean mask directly. (Triggered internally at ../aten/src/ATen/native/transformers/attention.cpp:150.)\n",
      "  return torch._native_multi_head_attention(\n"
     ]
    },
    {
     "data": {
      "text/html": [
       "<pre style=\"white-space:pre;overflow-x:auto;line-height:normal;font-family:Menlo,'DejaVu Sans Mono',consolas,'Courier New',monospace\">┏━━━━━━━━━━━━━━━━━━━━━━━━━━━┳━━━━━━━━━━━━━━━━━━━━━━━━━━━┓\n",
       "┃<span style=\"font-weight: bold\">  Runningstage.validating  </span>┃<span style=\"font-weight: bold\">                           </span>┃\n",
       "┃<span style=\"font-weight: bold\">          metric           </span>┃<span style=\"font-weight: bold\">       DataLoader 0        </span>┃\n",
       "┡━━━━━━━━━━━━━━━━━━━━━━━━━━━╇━━━━━━━━━━━━━━━━━━━━━━━━━━━┩\n",
       "│<span style=\"color: #008080; text-decoration-color: #008080\">         val_loss          </span>│<span style=\"color: #800080; text-decoration-color: #800080\">    0.05561581626534462    </span>│\n",
       "└───────────────────────────┴───────────────────────────┘\n",
       "</pre>\n"
      ],
      "text/plain": [
       "┏━━━━━━━━━━━━━━━━━━━━━━━━━━━┳━━━━━━━━━━━━━━━━━━━━━━━━━━━┓\n",
       "┃\u001b[1m \u001b[0m\u001b[1m Runningstage.validating \u001b[0m\u001b[1m \u001b[0m┃\u001b[1m                           \u001b[0m┃\n",
       "┃\u001b[1m \u001b[0m\u001b[1m         metric          \u001b[0m\u001b[1m \u001b[0m┃\u001b[1m \u001b[0m\u001b[1m      DataLoader 0       \u001b[0m\u001b[1m \u001b[0m┃\n",
       "┡━━━━━━━━━━━━━━━━━━━━━━━━━━━╇━━━━━━━━━━━━━━━━━━━━━━━━━━━┩\n",
       "│\u001b[36m \u001b[0m\u001b[36m        val_loss         \u001b[0m\u001b[36m \u001b[0m│\u001b[35m \u001b[0m\u001b[35m   0.05561581626534462   \u001b[0m\u001b[35m \u001b[0m│\n",
       "└───────────────────────────┴───────────────────────────┘\n"
      ]
     },
     "metadata": {},
     "output_type": "display_data"
    },
    {
     "data": {
      "text/plain": [
       "[{'val_loss': 0.05561581626534462}]"
      ]
     },
     "execution_count": 17,
     "metadata": {},
     "output_type": "execute_result"
    }
   ],
   "source": [
    "trainer.validate(model,all_data)"
   ]
  },
  {
   "cell_type": "code",
   "execution_count": 31,
   "id": "dd9c7647-6d40-4495-88af-aa5bfee7dc11",
   "metadata": {},
   "outputs": [],
   "source": [
    "# Moving the model to from the GPU (cuda) to the cpu\n",
    "model = model.to('cpu')\n",
    "# Changing the device name to 'cpu' so the model uses this device in its methods\n",
    "device = 'cpu'"
   ]
  },
  {
   "cell_type": "code",
   "execution_count": 32,
   "id": "4d8d0fd0-72dd-4218-bfbc-6157bd29064c",
   "metadata": {},
   "outputs": [
    {
     "data": {
      "text/plain": [
       "(1500, 140)"
      ]
     },
     "execution_count": 32,
     "metadata": {},
     "output_type": "execute_result"
    }
   ],
   "source": [
    "# Check shape of the validation data for potential index values to predict\n",
    "x_val.shape"
   ]
  },
  {
   "cell_type": "code",
   "execution_count": 33,
   "id": "fc16c027-75c0-427f-ad95-c8c079428fea",
   "metadata": {},
   "outputs": [],
   "source": [
    "# Predictions of 0 or 1\n",
    "# Index must be between 0 and 1499 inclusive\n",
    "# Change index values to predict specific rows\n",
    "predictions = model.predict(torch.Tensor(x_val[0:50]).to('cpu'))\n",
    "predictions = np.rint(predictions.cpu().detach().numpy())"
   ]
  },
  {
   "cell_type": "code",
   "execution_count": 34,
   "id": "98e05df3-f433-4cbf-8ab4-27caa6afbb67",
   "metadata": {},
   "outputs": [],
   "source": [
    "# Actual values\n",
    "# Change the index values to match the values for the predictions\n",
    "actual = y_val[0:50]"
   ]
  },
  {
   "cell_type": "code",
   "execution_count": 35,
   "id": "f9d65edf-d223-4a22-b2ea-414f0b628f79",
   "metadata": {},
   "outputs": [
    {
     "data": {
      "text/plain": [
       "False"
      ]
     },
     "execution_count": 35,
     "metadata": {},
     "output_type": "execute_result"
    }
   ],
   "source": [
    "# Comparing actual values to predictions\n",
    "np.array_equal(actual, predictions)"
   ]
  },
  {
   "cell_type": "code",
   "execution_count": 36,
   "id": "1c2313f8-dfee-4413-9983-66cca187f217",
   "metadata": {},
   "outputs": [
    {
     "data": {
      "text/plain": [
       "array([[1., 1.],\n",
       "       [0., 0.],\n",
       "       [1., 1.],\n",
       "       [1., 1.],\n",
       "       [0., 0.],\n",
       "       [1., 1.],\n",
       "       [1., 1.],\n",
       "       [1., 1.],\n",
       "       [0., 0.],\n",
       "       [1., 1.],\n",
       "       [0., 0.],\n",
       "       [0., 0.],\n",
       "       [0., 0.],\n",
       "       [0., 1.],\n",
       "       [1., 1.],\n",
       "       [0., 0.],\n",
       "       [0., 0.],\n",
       "       [1., 1.],\n",
       "       [1., 1.],\n",
       "       [0., 0.],\n",
       "       [1., 1.],\n",
       "       [0., 0.],\n",
       "       [0., 0.],\n",
       "       [1., 1.],\n",
       "       [1., 1.],\n",
       "       [0., 0.],\n",
       "       [1., 1.],\n",
       "       [0., 0.],\n",
       "       [1., 1.],\n",
       "       [1., 1.],\n",
       "       [0., 0.],\n",
       "       [0., 0.],\n",
       "       [0., 0.],\n",
       "       [0., 0.],\n",
       "       [1., 1.],\n",
       "       [0., 0.],\n",
       "       [0., 0.],\n",
       "       [0., 0.],\n",
       "       [1., 1.],\n",
       "       [1., 1.],\n",
       "       [1., 1.],\n",
       "       [1., 1.],\n",
       "       [1., 1.],\n",
       "       [1., 1.],\n",
       "       [1., 1.],\n",
       "       [1., 1.],\n",
       "       [1., 1.],\n",
       "       [0., 0.],\n",
       "       [1., 1.],\n",
       "       [0., 0.]])"
      ]
     },
     "execution_count": 36,
     "metadata": {},
     "output_type": "execute_result"
    }
   ],
   "source": [
    "# Concatenating actual and prediction arrays for side by side comparison\n",
    "demo_results = np.concatenate((actual, predictions), axis=1)\n",
    "demo_results"
   ]
  },
  {
   "cell_type": "code",
   "execution_count": null,
   "id": "c4af3b4c-b047-4855-997c-96de665b1221",
   "metadata": {},
   "outputs": [],
   "source": []
  }
 ],
 "metadata": {
  "kernelspec": {
   "display_name": "Python 3 (ipykernel)",
   "language": "python",
   "name": "python3"
  },
  "language_info": {
   "codemirror_mode": {
    "name": "ipython",
    "version": 3
   },
   "file_extension": ".py",
   "mimetype": "text/x-python",
   "name": "python",
   "nbconvert_exporter": "python",
   "pygments_lexer": "ipython3",
   "version": "3.11.5"
  }
 },
 "nbformat": 4,
 "nbformat_minor": 5
}
